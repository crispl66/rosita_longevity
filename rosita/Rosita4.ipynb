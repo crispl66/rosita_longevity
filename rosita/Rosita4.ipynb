{
 "cells": [
  {
   "cell_type": "code",
   "execution_count": 76,
   "metadata": {},
   "outputs": [],
   "source": [
    "import pandas as pd\n",
    "import matplotlib as plt"
   ]
  },
  {
   "cell_type": "code",
   "execution_count": 77,
   "metadata": {},
   "outputs": [],
   "source": [
    "events1 = pd.read_csv('./data/events1.csv',index_col=0)"
   ]
  },
  {
   "cell_type": "code",
   "execution_count": 78,
   "metadata": {},
   "outputs": [
    {
     "name": "stdout",
     "output_type": "stream",
     "text": [
      "<class 'pandas.core.frame.DataFrame'>\n",
      "Index: 254749 entries, 6 to 1018517\n",
      "Data columns (total 14 columns):\n",
      " #   Column                Non-Null Count   Dtype  \n",
      "---  ------                --------------   -----  \n",
      " 0   original_timestamp    254749 non-null  object \n",
      " 1   event_name            254749 non-null  int64  \n",
      " 2   user_id               254749 non-null  object \n",
      " 3   app_version           254749 non-null  object \n",
      " 4   device_model          254749 non-null  object \n",
      " 5   device_type           254749 non-null  int64  \n",
      " 6   locale                254749 non-null  object \n",
      " 7   os_name               254749 non-null  int64  \n",
      " 8   os_version            254749 non-null  object \n",
      " 9   screen_height         254749 non-null  int64  \n",
      " 10  screen_width          254749 non-null  int64  \n",
      " 11  timezone              254749 non-null  object \n",
      " 12  traits_created_at     254749 non-null  float64\n",
      " 13  traits_language_code  254748 non-null  float64\n",
      "dtypes: float64(2), int64(5), object(7)\n",
      "memory usage: 29.2+ MB\n"
     ]
    }
   ],
   "source": [
    "events1.info()"
   ]
  },
  {
   "cell_type": "code",
   "execution_count": 79,
   "metadata": {},
   "outputs": [
    {
     "data": {
      "text/html": [
       "<div>\n",
       "<style scoped>\n",
       "    .dataframe tbody tr th:only-of-type {\n",
       "        vertical-align: middle;\n",
       "    }\n",
       "\n",
       "    .dataframe tbody tr th {\n",
       "        vertical-align: top;\n",
       "    }\n",
       "\n",
       "    .dataframe thead th {\n",
       "        text-align: right;\n",
       "    }\n",
       "</style>\n",
       "<table border=\"1\" class=\"dataframe\">\n",
       "  <thead>\n",
       "    <tr style=\"text-align: right;\">\n",
       "      <th></th>\n",
       "      <th>original_timestamp</th>\n",
       "      <th>event_name</th>\n",
       "      <th>user_id</th>\n",
       "      <th>app_version</th>\n",
       "      <th>device_model</th>\n",
       "      <th>device_type</th>\n",
       "      <th>locale</th>\n",
       "      <th>os_name</th>\n",
       "      <th>os_version</th>\n",
       "      <th>screen_height</th>\n",
       "      <th>screen_width</th>\n",
       "      <th>timezone</th>\n",
       "      <th>traits_created_at</th>\n",
       "      <th>traits_language_code</th>\n",
       "    </tr>\n",
       "  </thead>\n",
       "  <tbody>\n",
       "    <tr>\n",
       "      <th>6</th>\n",
       "      <td>2022-12-15 08:51:13.635 UTC</td>\n",
       "      <td>1</td>\n",
       "      <td>MPrEBJVXGTSbNYhKdpnNmzTCY9D2</td>\n",
       "      <td>0.6.6</td>\n",
       "      <td>SM-A515F</td>\n",
       "      <td>1</td>\n",
       "      <td>es-ES</td>\n",
       "      <td>1</td>\n",
       "      <td>12</td>\n",
       "      <td>2186</td>\n",
       "      <td>1080</td>\n",
       "      <td>Atlantic/Canary</td>\n",
       "      <td>1.663096e+12</td>\n",
       "      <td>1.0</td>\n",
       "    </tr>\n",
       "    <tr>\n",
       "      <th>7</th>\n",
       "      <td>2022-12-15 08:52:13.63 UTC</td>\n",
       "      <td>1</td>\n",
       "      <td>MPrEBJVXGTSbNYhKdpnNmzTCY9D2</td>\n",
       "      <td>0.6.6</td>\n",
       "      <td>SM-A515F</td>\n",
       "      <td>1</td>\n",
       "      <td>es-ES</td>\n",
       "      <td>1</td>\n",
       "      <td>12</td>\n",
       "      <td>2186</td>\n",
       "      <td>1080</td>\n",
       "      <td>Atlantic/Canary</td>\n",
       "      <td>1.663096e+12</td>\n",
       "      <td>1.0</td>\n",
       "    </tr>\n",
       "    <tr>\n",
       "      <th>8</th>\n",
       "      <td>2022-12-15 09:17:29.777 UTC</td>\n",
       "      <td>1</td>\n",
       "      <td>GaI9Zu0zgFVNvQSBu2sCd06gffz1</td>\n",
       "      <td>0.6.0</td>\n",
       "      <td>iPhone8,2</td>\n",
       "      <td>2</td>\n",
       "      <td>es-ES</td>\n",
       "      <td>2</td>\n",
       "      <td>15.7.1</td>\n",
       "      <td>736</td>\n",
       "      <td>414</td>\n",
       "      <td>Europe/Madrid</td>\n",
       "      <td>1.667036e+12</td>\n",
       "      <td>1.0</td>\n",
       "    </tr>\n",
       "    <tr>\n",
       "      <th>9</th>\n",
       "      <td>2022-12-15 09:22:29.833 UTC</td>\n",
       "      <td>1</td>\n",
       "      <td>GaI9Zu0zgFVNvQSBu2sCd06gffz1</td>\n",
       "      <td>0.6.0</td>\n",
       "      <td>iPhone8,2</td>\n",
       "      <td>2</td>\n",
       "      <td>es-ES</td>\n",
       "      <td>2</td>\n",
       "      <td>15.7.1</td>\n",
       "      <td>736</td>\n",
       "      <td>414</td>\n",
       "      <td>Europe/Madrid</td>\n",
       "      <td>1.667036e+12</td>\n",
       "      <td>1.0</td>\n",
       "    </tr>\n",
       "    <tr>\n",
       "      <th>10</th>\n",
       "      <td>2022-12-15 09:25:29.877 UTC</td>\n",
       "      <td>1</td>\n",
       "      <td>GaI9Zu0zgFVNvQSBu2sCd06gffz1</td>\n",
       "      <td>0.6.0</td>\n",
       "      <td>iPhone8,2</td>\n",
       "      <td>2</td>\n",
       "      <td>es-ES</td>\n",
       "      <td>2</td>\n",
       "      <td>15.7.1</td>\n",
       "      <td>736</td>\n",
       "      <td>414</td>\n",
       "      <td>Europe/Madrid</td>\n",
       "      <td>1.667036e+12</td>\n",
       "      <td>1.0</td>\n",
       "    </tr>\n",
       "  </tbody>\n",
       "</table>\n",
       "</div>"
      ],
      "text/plain": [
       "             original_timestamp  event_name                       user_id  \\\n",
       "6   2022-12-15 08:51:13.635 UTC           1  MPrEBJVXGTSbNYhKdpnNmzTCY9D2   \n",
       "7    2022-12-15 08:52:13.63 UTC           1  MPrEBJVXGTSbNYhKdpnNmzTCY9D2   \n",
       "8   2022-12-15 09:17:29.777 UTC           1  GaI9Zu0zgFVNvQSBu2sCd06gffz1   \n",
       "9   2022-12-15 09:22:29.833 UTC           1  GaI9Zu0zgFVNvQSBu2sCd06gffz1   \n",
       "10  2022-12-15 09:25:29.877 UTC           1  GaI9Zu0zgFVNvQSBu2sCd06gffz1   \n",
       "\n",
       "   app_version device_model  device_type locale  os_name os_version  \\\n",
       "6        0.6.6     SM-A515F            1  es-ES        1         12   \n",
       "7        0.6.6     SM-A515F            1  es-ES        1         12   \n",
       "8        0.6.0    iPhone8,2            2  es-ES        2     15.7.1   \n",
       "9        0.6.0    iPhone8,2            2  es-ES        2     15.7.1   \n",
       "10       0.6.0    iPhone8,2            2  es-ES        2     15.7.1   \n",
       "\n",
       "    screen_height  screen_width         timezone  traits_created_at  \\\n",
       "6            2186          1080  Atlantic/Canary       1.663096e+12   \n",
       "7            2186          1080  Atlantic/Canary       1.663096e+12   \n",
       "8             736           414    Europe/Madrid       1.667036e+12   \n",
       "9             736           414    Europe/Madrid       1.667036e+12   \n",
       "10            736           414    Europe/Madrid       1.667036e+12   \n",
       "\n",
       "    traits_language_code  \n",
       "6                    1.0  \n",
       "7                    1.0  \n",
       "8                    1.0  \n",
       "9                    1.0  \n",
       "10                   1.0  "
      ]
     },
     "execution_count": 79,
     "metadata": {},
     "output_type": "execute_result"
    }
   ],
   "source": [
    "events1.head()"
   ]
  },
  {
   "cell_type": "code",
   "execution_count": 80,
   "metadata": {},
   "outputs": [
    {
     "name": "stdout",
     "output_type": "stream",
     "text": [
      "<class 'pandas.core.frame.DataFrame'>\n",
      "Index: 254749 entries, 6 to 1018517\n",
      "Data columns (total 14 columns):\n",
      " #   Column                Non-Null Count   Dtype  \n",
      "---  ------                --------------   -----  \n",
      " 0   original_timestamp    254749 non-null  object \n",
      " 1   event_name            254749 non-null  int64  \n",
      " 2   user_id               254749 non-null  object \n",
      " 3   app_version           254749 non-null  object \n",
      " 4   device_model          254749 non-null  object \n",
      " 5   device_type           254749 non-null  int64  \n",
      " 6   locale                254749 non-null  object \n",
      " 7   os_name               254749 non-null  int64  \n",
      " 8   os_version            254749 non-null  object \n",
      " 9   screen_height         254749 non-null  int64  \n",
      " 10  screen_width          254749 non-null  int64  \n",
      " 11  timezone              254749 non-null  object \n",
      " 12  traits_created_at     254749 non-null  float64\n",
      " 13  traits_language_code  254748 non-null  float64\n",
      "dtypes: float64(2), int64(5), object(7)\n",
      "memory usage: 29.2+ MB\n"
     ]
    }
   ],
   "source": [
    "events1.info()"
   ]
  },
  {
   "cell_type": "code",
   "execution_count": 81,
   "metadata": {},
   "outputs": [
    {
     "data": {
      "text/plain": [
       "13178"
      ]
     },
     "execution_count": 81,
     "metadata": {},
     "output_type": "execute_result"
    }
   ],
   "source": [
    "len(events1['user_id'].unique())"
   ]
  },
  {
   "cell_type": "code",
   "execution_count": 82,
   "metadata": {},
   "outputs": [],
   "source": [
    "events1.drop(['device_model','locale','traits_created_at','timezone','os_version','app_version'],axis=1,inplace=True)"
   ]
  },
  {
   "cell_type": "markdown",
   "metadata": {},
   "source": [
    "### Pasar a datetime las fechas de los eventos"
   ]
  },
  {
   "cell_type": "code",
   "execution_count": 83,
   "metadata": {},
   "outputs": [],
   "source": [
    "events1['original_timestamp'] = pd.to_datetime(events1['original_timestamp'], errors='coerce')"
   ]
  },
  {
   "cell_type": "code",
   "execution_count": 84,
   "metadata": {},
   "outputs": [
    {
     "name": "stdout",
     "output_type": "stream",
     "text": [
      "<class 'pandas.core.frame.DataFrame'>\n",
      "Index: 254749 entries, 6 to 1018517\n",
      "Data columns (total 8 columns):\n",
      " #   Column                Non-Null Count   Dtype              \n",
      "---  ------                --------------   -----              \n",
      " 0   original_timestamp    254466 non-null  datetime64[ns, UTC]\n",
      " 1   event_name            254749 non-null  int64              \n",
      " 2   user_id               254749 non-null  object             \n",
      " 3   device_type           254749 non-null  int64              \n",
      " 4   os_name               254749 non-null  int64              \n",
      " 5   screen_height         254749 non-null  int64              \n",
      " 6   screen_width          254749 non-null  int64              \n",
      " 7   traits_language_code  254748 non-null  float64            \n",
      "dtypes: datetime64[ns, UTC](1), float64(1), int64(5), object(1)\n",
      "memory usage: 17.5+ MB\n"
     ]
    }
   ],
   "source": [
    "events1.info()"
   ]
  },
  {
   "cell_type": "code",
   "execution_count": 176,
   "metadata": {},
   "outputs": [],
   "source": [
    "#events1.to_csv('./data/events1.csv')"
   ]
  },
  {
   "cell_type": "markdown",
   "metadata": {},
   "source": [
    "### Voy a crear nuevo DataFrame, con 1 fila por usuario con su total de eventos durante los 7 meses.\n",
    "\n"
   ]
  },
  {
   "cell_type": "code",
   "execution_count": 85,
   "metadata": {},
   "outputs": [
    {
     "data": {
      "text/plain": [
       "13178"
      ]
     },
     "execution_count": 85,
     "metadata": {},
     "output_type": "execute_result"
    }
   ],
   "source": [
    "len(events1['user_id'].unique())"
   ]
  },
  {
   "cell_type": "code",
   "execution_count": 86,
   "metadata": {},
   "outputs": [],
   "source": [
    "new_df1 = events1.groupby(['user_id']).size().reset_index(name='total_events')"
   ]
  },
  {
   "cell_type": "code",
   "execution_count": 87,
   "metadata": {},
   "outputs": [
    {
     "name": "stdout",
     "output_type": "stream",
     "text": [
      "<class 'pandas.core.frame.DataFrame'>\n",
      "RangeIndex: 13178 entries, 0 to 13177\n",
      "Data columns (total 2 columns):\n",
      " #   Column        Non-Null Count  Dtype \n",
      "---  ------        --------------  ----- \n",
      " 0   user_id       13178 non-null  object\n",
      " 1   total_events  13178 non-null  int64 \n",
      "dtypes: int64(1), object(1)\n",
      "memory usage: 206.0+ KB\n"
     ]
    }
   ],
   "source": [
    "new_df1.info()"
   ]
  },
  {
   "cell_type": "code",
   "execution_count": 88,
   "metadata": {},
   "outputs": [
    {
     "data": {
      "text/plain": [
       "13178"
      ]
     },
     "execution_count": 88,
     "metadata": {},
     "output_type": "execute_result"
    }
   ],
   "source": [
    "len(new_df1['user_id'].unique())"
   ]
  },
  {
   "cell_type": "markdown",
   "metadata": {},
   "source": [
    "### Ultima fecha de actividad por usuario"
   ]
  },
  {
   "cell_type": "markdown",
   "metadata": {},
   "source": []
  },
  {
   "cell_type": "code",
   "execution_count": 89,
   "metadata": {},
   "outputs": [],
   "source": [
    "max_dates = events1.groupby('user_id')['original_timestamp'].max().reset_index(name='date_max')"
   ]
  },
  {
   "cell_type": "code",
   "execution_count": 90,
   "metadata": {},
   "outputs": [
    {
     "data": {
      "text/html": [
       "<div>\n",
       "<style scoped>\n",
       "    .dataframe tbody tr th:only-of-type {\n",
       "        vertical-align: middle;\n",
       "    }\n",
       "\n",
       "    .dataframe tbody tr th {\n",
       "        vertical-align: top;\n",
       "    }\n",
       "\n",
       "    .dataframe thead th {\n",
       "        text-align: right;\n",
       "    }\n",
       "</style>\n",
       "<table border=\"1\" class=\"dataframe\">\n",
       "  <thead>\n",
       "    <tr style=\"text-align: right;\">\n",
       "      <th></th>\n",
       "      <th>user_id</th>\n",
       "      <th>date_max</th>\n",
       "    </tr>\n",
       "  </thead>\n",
       "  <tbody>\n",
       "    <tr>\n",
       "      <th>0</th>\n",
       "      <td>00fiXwcWv6WH27m5CzlZhMmJj4r1</td>\n",
       "      <td>2023-03-03 05:19:56.391000+00:00</td>\n",
       "    </tr>\n",
       "    <tr>\n",
       "      <th>1</th>\n",
       "      <td>01IkDUDtagPFULtB05C9q4TLeAh2</td>\n",
       "      <td>2023-03-07 21:31:39.237000+00:00</td>\n",
       "    </tr>\n",
       "    <tr>\n",
       "      <th>2</th>\n",
       "      <td>01PH4mMfTReLSovBbVPClTbKQZE3</td>\n",
       "      <td>2022-09-06 05:23:40.631000+00:00</td>\n",
       "    </tr>\n",
       "    <tr>\n",
       "      <th>3</th>\n",
       "      <td>01iucqbS7TeUP76hZqmAKx1jIHg1</td>\n",
       "      <td>2023-03-11 04:09:17.250000+00:00</td>\n",
       "    </tr>\n",
       "    <tr>\n",
       "      <th>4</th>\n",
       "      <td>0200jXVkonhhOjxnB6vEPwCAoyV2</td>\n",
       "      <td>2023-03-07 20:49:37.293000+00:00</td>\n",
       "    </tr>\n",
       "    <tr>\n",
       "      <th>...</th>\n",
       "      <td>...</td>\n",
       "      <td>...</td>\n",
       "    </tr>\n",
       "    <tr>\n",
       "      <th>13173</th>\n",
       "      <td>zyWdkVlwfnSFk37Nej4VrJCandw2</td>\n",
       "      <td>2023-02-15 03:48:27.224000+00:00</td>\n",
       "    </tr>\n",
       "    <tr>\n",
       "      <th>13174</th>\n",
       "      <td>zz0iCd4hBJayMHLiNdJ4rIdpesE3</td>\n",
       "      <td>2022-10-28 05:47:09.502000+00:00</td>\n",
       "    </tr>\n",
       "    <tr>\n",
       "      <th>13175</th>\n",
       "      <td>zznY91nGVJbAY5AxBapTU2FUPOM2</td>\n",
       "      <td>2022-12-20 08:59:58.428000+00:00</td>\n",
       "    </tr>\n",
       "    <tr>\n",
       "      <th>13176</th>\n",
       "      <td>zzoJzvfNR3TTIpyewsEhFsShF0q2</td>\n",
       "      <td>2022-12-21 18:23:57.780000+00:00</td>\n",
       "    </tr>\n",
       "    <tr>\n",
       "      <th>13177</th>\n",
       "      <td>zzu5sADKcLaWEN5NChqmZEzOQNs1</td>\n",
       "      <td>2022-12-22 14:02:44.929000+00:00</td>\n",
       "    </tr>\n",
       "  </tbody>\n",
       "</table>\n",
       "<p>13178 rows × 2 columns</p>\n",
       "</div>"
      ],
      "text/plain": [
       "                            user_id                         date_max\n",
       "0      00fiXwcWv6WH27m5CzlZhMmJj4r1 2023-03-03 05:19:56.391000+00:00\n",
       "1      01IkDUDtagPFULtB05C9q4TLeAh2 2023-03-07 21:31:39.237000+00:00\n",
       "2      01PH4mMfTReLSovBbVPClTbKQZE3 2022-09-06 05:23:40.631000+00:00\n",
       "3      01iucqbS7TeUP76hZqmAKx1jIHg1 2023-03-11 04:09:17.250000+00:00\n",
       "4      0200jXVkonhhOjxnB6vEPwCAoyV2 2023-03-07 20:49:37.293000+00:00\n",
       "...                             ...                              ...\n",
       "13173  zyWdkVlwfnSFk37Nej4VrJCandw2 2023-02-15 03:48:27.224000+00:00\n",
       "13174  zz0iCd4hBJayMHLiNdJ4rIdpesE3 2022-10-28 05:47:09.502000+00:00\n",
       "13175  zznY91nGVJbAY5AxBapTU2FUPOM2 2022-12-20 08:59:58.428000+00:00\n",
       "13176  zzoJzvfNR3TTIpyewsEhFsShF0q2 2022-12-21 18:23:57.780000+00:00\n",
       "13177  zzu5sADKcLaWEN5NChqmZEzOQNs1 2022-12-22 14:02:44.929000+00:00\n",
       "\n",
       "[13178 rows x 2 columns]"
      ]
     },
     "execution_count": 90,
     "metadata": {},
     "output_type": "execute_result"
    }
   ],
   "source": [
    "max_dates"
   ]
  },
  {
   "cell_type": "markdown",
   "metadata": {},
   "source": [
    "### Primera fecha de actividad por usuario"
   ]
  },
  {
   "cell_type": "code",
   "execution_count": 91,
   "metadata": {},
   "outputs": [],
   "source": [
    "min_dates = events1.groupby('user_id')['original_timestamp'].min().reset_index(name='date_min')"
   ]
  },
  {
   "cell_type": "code",
   "execution_count": 92,
   "metadata": {},
   "outputs": [
    {
     "data": {
      "text/html": [
       "<div>\n",
       "<style scoped>\n",
       "    .dataframe tbody tr th:only-of-type {\n",
       "        vertical-align: middle;\n",
       "    }\n",
       "\n",
       "    .dataframe tbody tr th {\n",
       "        vertical-align: top;\n",
       "    }\n",
       "\n",
       "    .dataframe thead th {\n",
       "        text-align: right;\n",
       "    }\n",
       "</style>\n",
       "<table border=\"1\" class=\"dataframe\">\n",
       "  <thead>\n",
       "    <tr style=\"text-align: right;\">\n",
       "      <th></th>\n",
       "      <th>user_id</th>\n",
       "      <th>date_min</th>\n",
       "    </tr>\n",
       "  </thead>\n",
       "  <tbody>\n",
       "    <tr>\n",
       "      <th>0</th>\n",
       "      <td>00fiXwcWv6WH27m5CzlZhMmJj4r1</td>\n",
       "      <td>2023-03-03 05:17:55.813000+00:00</td>\n",
       "    </tr>\n",
       "    <tr>\n",
       "      <th>1</th>\n",
       "      <td>01IkDUDtagPFULtB05C9q4TLeAh2</td>\n",
       "      <td>2023-03-07 21:29:38.700000+00:00</td>\n",
       "    </tr>\n",
       "    <tr>\n",
       "      <th>2</th>\n",
       "      <td>01PH4mMfTReLSovBbVPClTbKQZE3</td>\n",
       "      <td>2022-09-06 05:00:17.165000+00:00</td>\n",
       "    </tr>\n",
       "    <tr>\n",
       "      <th>3</th>\n",
       "      <td>01iucqbS7TeUP76hZqmAKx1jIHg1</td>\n",
       "      <td>2023-03-11 04:08:55.833000+00:00</td>\n",
       "    </tr>\n",
       "    <tr>\n",
       "      <th>4</th>\n",
       "      <td>0200jXVkonhhOjxnB6vEPwCAoyV2</td>\n",
       "      <td>2023-01-02 23:39:51.606000+00:00</td>\n",
       "    </tr>\n",
       "    <tr>\n",
       "      <th>...</th>\n",
       "      <td>...</td>\n",
       "      <td>...</td>\n",
       "    </tr>\n",
       "    <tr>\n",
       "      <th>13173</th>\n",
       "      <td>zyWdkVlwfnSFk37Nej4VrJCandw2</td>\n",
       "      <td>2023-02-15 03:46:26.700000+00:00</td>\n",
       "    </tr>\n",
       "    <tr>\n",
       "      <th>13174</th>\n",
       "      <td>zz0iCd4hBJayMHLiNdJ4rIdpesE3</td>\n",
       "      <td>2022-10-27 17:05:57.893000+00:00</td>\n",
       "    </tr>\n",
       "    <tr>\n",
       "      <th>13175</th>\n",
       "      <td>zznY91nGVJbAY5AxBapTU2FUPOM2</td>\n",
       "      <td>2022-12-20 08:54:43.138000+00:00</td>\n",
       "    </tr>\n",
       "    <tr>\n",
       "      <th>13176</th>\n",
       "      <td>zzoJzvfNR3TTIpyewsEhFsShF0q2</td>\n",
       "      <td>2022-12-21 18:22:23.272000+00:00</td>\n",
       "    </tr>\n",
       "    <tr>\n",
       "      <th>13177</th>\n",
       "      <td>zzu5sADKcLaWEN5NChqmZEzOQNs1</td>\n",
       "      <td>2022-12-22 14:02:33.421000+00:00</td>\n",
       "    </tr>\n",
       "  </tbody>\n",
       "</table>\n",
       "<p>13178 rows × 2 columns</p>\n",
       "</div>"
      ],
      "text/plain": [
       "                            user_id                         date_min\n",
       "0      00fiXwcWv6WH27m5CzlZhMmJj4r1 2023-03-03 05:17:55.813000+00:00\n",
       "1      01IkDUDtagPFULtB05C9q4TLeAh2 2023-03-07 21:29:38.700000+00:00\n",
       "2      01PH4mMfTReLSovBbVPClTbKQZE3 2022-09-06 05:00:17.165000+00:00\n",
       "3      01iucqbS7TeUP76hZqmAKx1jIHg1 2023-03-11 04:08:55.833000+00:00\n",
       "4      0200jXVkonhhOjxnB6vEPwCAoyV2 2023-01-02 23:39:51.606000+00:00\n",
       "...                             ...                              ...\n",
       "13173  zyWdkVlwfnSFk37Nej4VrJCandw2 2023-02-15 03:46:26.700000+00:00\n",
       "13174  zz0iCd4hBJayMHLiNdJ4rIdpesE3 2022-10-27 17:05:57.893000+00:00\n",
       "13175  zznY91nGVJbAY5AxBapTU2FUPOM2 2022-12-20 08:54:43.138000+00:00\n",
       "13176  zzoJzvfNR3TTIpyewsEhFsShF0q2 2022-12-21 18:22:23.272000+00:00\n",
       "13177  zzu5sADKcLaWEN5NChqmZEzOQNs1 2022-12-22 14:02:33.421000+00:00\n",
       "\n",
       "[13178 rows x 2 columns]"
      ]
     },
     "execution_count": 92,
     "metadata": {},
     "output_type": "execute_result"
    }
   ],
   "source": [
    "min_dates"
   ]
  },
  {
   "cell_type": "markdown",
   "metadata": {},
   "source": [
    "### Total meses de actividad por usuario"
   ]
  },
  {
   "cell_type": "code",
   "execution_count": 93,
   "metadata": {},
   "outputs": [],
   "source": [
    "actividad = pd.merge(max_dates, min_dates, on='user_id', how='inner')"
   ]
  },
  {
   "cell_type": "code",
   "execution_count": 94,
   "metadata": {},
   "outputs": [],
   "source": [
    "actividad['total_months'] = ((actividad['date_max'] - actividad['date_min'] ) // pd.Timedelta(days=30)) + 1"
   ]
  },
  {
   "cell_type": "code",
   "execution_count": 95,
   "metadata": {},
   "outputs": [],
   "source": [
    "actividad['total_months'] = actividad['total_months'].fillna(0)"
   ]
  },
  {
   "cell_type": "code",
   "execution_count": 96,
   "metadata": {},
   "outputs": [
    {
     "data": {
      "text/plain": [
       "array([1., 3., 4., 2., 6., 5., 7., 0.])"
      ]
     },
     "execution_count": 96,
     "metadata": {},
     "output_type": "execute_result"
    }
   ],
   "source": [
    "actividad['total_months'].unique()"
   ]
  },
  {
   "cell_type": "markdown",
   "metadata": {},
   "source": [
    "### Si usuario 1 mes sin actividad ponemos 'baja_usuario' = 1"
   ]
  },
  {
   "cell_type": "code",
   "execution_count": 97,
   "metadata": {},
   "outputs": [],
   "source": [
    "months_to_check = ['2022-09', '2022-10', '2022-11', '2022-12', '2023-01', '2023-02', '2023-03']\n",
    "for month in months_to_check:\n",
    "    my_date = pd.to_datetime(month).tz_localize('UTC')\n",
    "    new_df1['Baja_usuario'] = (max_dates['date_max'] < my_date).astype(int)"
   ]
  },
  {
   "cell_type": "code",
   "execution_count": 98,
   "metadata": {},
   "outputs": [
    {
     "data": {
      "text/plain": [
       "Baja_usuario\n",
       "1    10178\n",
       "0     3000\n",
       "Name: count, dtype: int64"
      ]
     },
     "execution_count": 98,
     "metadata": {},
     "output_type": "execute_result"
    }
   ],
   "source": [
    "new_df1['Baja_usuario'].value_counts()"
   ]
  },
  {
   "cell_type": "code",
   "execution_count": 99,
   "metadata": {},
   "outputs": [
    {
     "data": {
      "text/html": [
       "<div>\n",
       "<style scoped>\n",
       "    .dataframe tbody tr th:only-of-type {\n",
       "        vertical-align: middle;\n",
       "    }\n",
       "\n",
       "    .dataframe tbody tr th {\n",
       "        vertical-align: top;\n",
       "    }\n",
       "\n",
       "    .dataframe thead th {\n",
       "        text-align: right;\n",
       "    }\n",
       "</style>\n",
       "<table border=\"1\" class=\"dataframe\">\n",
       "  <thead>\n",
       "    <tr style=\"text-align: right;\">\n",
       "      <th></th>\n",
       "      <th>user_id</th>\n",
       "      <th>total_events</th>\n",
       "      <th>Baja_usuario</th>\n",
       "    </tr>\n",
       "  </thead>\n",
       "  <tbody>\n",
       "    <tr>\n",
       "      <th>0</th>\n",
       "      <td>00fiXwcWv6WH27m5CzlZhMmJj4r1</td>\n",
       "      <td>5</td>\n",
       "      <td>0</td>\n",
       "    </tr>\n",
       "    <tr>\n",
       "      <th>1</th>\n",
       "      <td>01IkDUDtagPFULtB05C9q4TLeAh2</td>\n",
       "      <td>5</td>\n",
       "      <td>0</td>\n",
       "    </tr>\n",
       "    <tr>\n",
       "      <th>2</th>\n",
       "      <td>01PH4mMfTReLSovBbVPClTbKQZE3</td>\n",
       "      <td>26</td>\n",
       "      <td>1</td>\n",
       "    </tr>\n",
       "    <tr>\n",
       "      <th>3</th>\n",
       "      <td>01iucqbS7TeUP76hZqmAKx1jIHg1</td>\n",
       "      <td>3</td>\n",
       "      <td>0</td>\n",
       "    </tr>\n",
       "    <tr>\n",
       "      <th>4</th>\n",
       "      <td>0200jXVkonhhOjxnB6vEPwCAoyV2</td>\n",
       "      <td>7</td>\n",
       "      <td>0</td>\n",
       "    </tr>\n",
       "    <tr>\n",
       "      <th>...</th>\n",
       "      <td>...</td>\n",
       "      <td>...</td>\n",
       "      <td>...</td>\n",
       "    </tr>\n",
       "    <tr>\n",
       "      <th>13173</th>\n",
       "      <td>zyWdkVlwfnSFk37Nej4VrJCandw2</td>\n",
       "      <td>5</td>\n",
       "      <td>1</td>\n",
       "    </tr>\n",
       "    <tr>\n",
       "      <th>13174</th>\n",
       "      <td>zz0iCd4hBJayMHLiNdJ4rIdpesE3</td>\n",
       "      <td>11</td>\n",
       "      <td>1</td>\n",
       "    </tr>\n",
       "    <tr>\n",
       "      <th>13175</th>\n",
       "      <td>zznY91nGVJbAY5AxBapTU2FUPOM2</td>\n",
       "      <td>6</td>\n",
       "      <td>1</td>\n",
       "    </tr>\n",
       "    <tr>\n",
       "      <th>13176</th>\n",
       "      <td>zzoJzvfNR3TTIpyewsEhFsShF0q2</td>\n",
       "      <td>4</td>\n",
       "      <td>1</td>\n",
       "    </tr>\n",
       "    <tr>\n",
       "      <th>13177</th>\n",
       "      <td>zzu5sADKcLaWEN5NChqmZEzOQNs1</td>\n",
       "      <td>2</td>\n",
       "      <td>1</td>\n",
       "    </tr>\n",
       "  </tbody>\n",
       "</table>\n",
       "<p>13178 rows × 3 columns</p>\n",
       "</div>"
      ],
      "text/plain": [
       "                            user_id  total_events  Baja_usuario\n",
       "0      00fiXwcWv6WH27m5CzlZhMmJj4r1             5             0\n",
       "1      01IkDUDtagPFULtB05C9q4TLeAh2             5             0\n",
       "2      01PH4mMfTReLSovBbVPClTbKQZE3            26             1\n",
       "3      01iucqbS7TeUP76hZqmAKx1jIHg1             3             0\n",
       "4      0200jXVkonhhOjxnB6vEPwCAoyV2             7             0\n",
       "...                             ...           ...           ...\n",
       "13173  zyWdkVlwfnSFk37Nej4VrJCandw2             5             1\n",
       "13174  zz0iCd4hBJayMHLiNdJ4rIdpesE3            11             1\n",
       "13175  zznY91nGVJbAY5AxBapTU2FUPOM2             6             1\n",
       "13176  zzoJzvfNR3TTIpyewsEhFsShF0q2             4             1\n",
       "13177  zzu5sADKcLaWEN5NChqmZEzOQNs1             2             1\n",
       "\n",
       "[13178 rows x 3 columns]"
      ]
     },
     "execution_count": 99,
     "metadata": {},
     "output_type": "execute_result"
    }
   ],
   "source": [
    "new_df1"
   ]
  },
  {
   "cell_type": "markdown",
   "metadata": {},
   "source": [
    "### Eventos por usuario en su ultimo mes de actividad"
   ]
  },
  {
   "cell_type": "code",
   "execution_count": 100,
   "metadata": {},
   "outputs": [],
   "source": [
    "events_with_max_dates = pd.merge(events1, max_dates, on='user_id', how='left')"
   ]
  },
  {
   "cell_type": "code",
   "execution_count": 31,
   "metadata": {},
   "outputs": [
    {
     "data": {
      "text/html": [
       "<div>\n",
       "<style scoped>\n",
       "    .dataframe tbody tr th:only-of-type {\n",
       "        vertical-align: middle;\n",
       "    }\n",
       "\n",
       "    .dataframe tbody tr th {\n",
       "        vertical-align: top;\n",
       "    }\n",
       "\n",
       "    .dataframe thead th {\n",
       "        text-align: right;\n",
       "    }\n",
       "</style>\n",
       "<table border=\"1\" class=\"dataframe\">\n",
       "  <thead>\n",
       "    <tr style=\"text-align: right;\">\n",
       "      <th></th>\n",
       "      <th>user_id</th>\n",
       "      <th>date_max</th>\n",
       "    </tr>\n",
       "  </thead>\n",
       "  <tbody>\n",
       "    <tr>\n",
       "      <th>0</th>\n",
       "      <td>00fiXwcWv6WH27m5CzlZhMmJj4r1</td>\n",
       "      <td>2023-03-03 05:19:56.391000+00:00</td>\n",
       "    </tr>\n",
       "    <tr>\n",
       "      <th>1</th>\n",
       "      <td>01IkDUDtagPFULtB05C9q4TLeAh2</td>\n",
       "      <td>2023-03-07 21:31:39.237000+00:00</td>\n",
       "    </tr>\n",
       "    <tr>\n",
       "      <th>2</th>\n",
       "      <td>01PH4mMfTReLSovBbVPClTbKQZE3</td>\n",
       "      <td>2022-09-06 05:23:40.631000+00:00</td>\n",
       "    </tr>\n",
       "    <tr>\n",
       "      <th>3</th>\n",
       "      <td>01iucqbS7TeUP76hZqmAKx1jIHg1</td>\n",
       "      <td>2023-03-11 04:09:17.250000+00:00</td>\n",
       "    </tr>\n",
       "    <tr>\n",
       "      <th>4</th>\n",
       "      <td>0200jXVkonhhOjxnB6vEPwCAoyV2</td>\n",
       "      <td>2023-03-07 20:49:37.293000+00:00</td>\n",
       "    </tr>\n",
       "    <tr>\n",
       "      <th>...</th>\n",
       "      <td>...</td>\n",
       "      <td>...</td>\n",
       "    </tr>\n",
       "    <tr>\n",
       "      <th>13040</th>\n",
       "      <td>zyWdkVlwfnSFk37Nej4VrJCandw2</td>\n",
       "      <td>2023-02-15 03:48:27.224000+00:00</td>\n",
       "    </tr>\n",
       "    <tr>\n",
       "      <th>13041</th>\n",
       "      <td>zz0iCd4hBJayMHLiNdJ4rIdpesE3</td>\n",
       "      <td>2022-10-28 05:47:09.502000+00:00</td>\n",
       "    </tr>\n",
       "    <tr>\n",
       "      <th>13042</th>\n",
       "      <td>zznY91nGVJbAY5AxBapTU2FUPOM2</td>\n",
       "      <td>2022-12-20 08:59:58.428000+00:00</td>\n",
       "    </tr>\n",
       "    <tr>\n",
       "      <th>13043</th>\n",
       "      <td>zzoJzvfNR3TTIpyewsEhFsShF0q2</td>\n",
       "      <td>2022-12-21 18:23:57.780000+00:00</td>\n",
       "    </tr>\n",
       "    <tr>\n",
       "      <th>13044</th>\n",
       "      <td>zzu5sADKcLaWEN5NChqmZEzOQNs1</td>\n",
       "      <td>2022-12-22 14:02:44.929000+00:00</td>\n",
       "    </tr>\n",
       "  </tbody>\n",
       "</table>\n",
       "<p>13045 rows × 2 columns</p>\n",
       "</div>"
      ],
      "text/plain": [
       "                            user_id                         date_max\n",
       "0      00fiXwcWv6WH27m5CzlZhMmJj4r1 2023-03-03 05:19:56.391000+00:00\n",
       "1      01IkDUDtagPFULtB05C9q4TLeAh2 2023-03-07 21:31:39.237000+00:00\n",
       "2      01PH4mMfTReLSovBbVPClTbKQZE3 2022-09-06 05:23:40.631000+00:00\n",
       "3      01iucqbS7TeUP76hZqmAKx1jIHg1 2023-03-11 04:09:17.250000+00:00\n",
       "4      0200jXVkonhhOjxnB6vEPwCAoyV2 2023-03-07 20:49:37.293000+00:00\n",
       "...                             ...                              ...\n",
       "13040  zyWdkVlwfnSFk37Nej4VrJCandw2 2023-02-15 03:48:27.224000+00:00\n",
       "13041  zz0iCd4hBJayMHLiNdJ4rIdpesE3 2022-10-28 05:47:09.502000+00:00\n",
       "13042  zznY91nGVJbAY5AxBapTU2FUPOM2 2022-12-20 08:59:58.428000+00:00\n",
       "13043  zzoJzvfNR3TTIpyewsEhFsShF0q2 2022-12-21 18:23:57.780000+00:00\n",
       "13044  zzu5sADKcLaWEN5NChqmZEzOQNs1 2022-12-22 14:02:44.929000+00:00\n",
       "\n",
       "[13045 rows x 2 columns]"
      ]
     },
     "execution_count": 31,
     "metadata": {},
     "output_type": "execute_result"
    }
   ],
   "source": [
    "max_dates"
   ]
  },
  {
   "cell_type": "code",
   "execution_count": 101,
   "metadata": {},
   "outputs": [],
   "source": [
    "events_with_max_dates['one_month_ago'] = events_with_max_dates['date_max'] - pd.DateOffset(months=1)"
   ]
  },
  {
   "cell_type": "code",
   "execution_count": 102,
   "metadata": {},
   "outputs": [],
   "source": [
    "rows_last_month = events_with_max_dates[\n",
    "    (events_with_max_dates['original_timestamp'] >= events_with_max_dates['one_month_ago']) &\n",
    "    (events_with_max_dates['original_timestamp'] < events_with_max_dates['date_max'])\n",
    "].groupby('user_id').size().reset_index(name='rows_last_month')"
   ]
  },
  {
   "cell_type": "code",
   "execution_count": 103,
   "metadata": {},
   "outputs": [
    {
     "data": {
      "text/html": [
       "<div>\n",
       "<style scoped>\n",
       "    .dataframe tbody tr th:only-of-type {\n",
       "        vertical-align: middle;\n",
       "    }\n",
       "\n",
       "    .dataframe tbody tr th {\n",
       "        vertical-align: top;\n",
       "    }\n",
       "\n",
       "    .dataframe thead th {\n",
       "        text-align: right;\n",
       "    }\n",
       "</style>\n",
       "<table border=\"1\" class=\"dataframe\">\n",
       "  <thead>\n",
       "    <tr style=\"text-align: right;\">\n",
       "      <th></th>\n",
       "      <th>user_id</th>\n",
       "      <th>rows_last_month</th>\n",
       "    </tr>\n",
       "  </thead>\n",
       "  <tbody>\n",
       "    <tr>\n",
       "      <th>0</th>\n",
       "      <td>00fiXwcWv6WH27m5CzlZhMmJj4r1</td>\n",
       "      <td>4</td>\n",
       "    </tr>\n",
       "    <tr>\n",
       "      <th>1</th>\n",
       "      <td>01IkDUDtagPFULtB05C9q4TLeAh2</td>\n",
       "      <td>4</td>\n",
       "    </tr>\n",
       "    <tr>\n",
       "      <th>2</th>\n",
       "      <td>01PH4mMfTReLSovBbVPClTbKQZE3</td>\n",
       "      <td>25</td>\n",
       "    </tr>\n",
       "    <tr>\n",
       "      <th>3</th>\n",
       "      <td>01iucqbS7TeUP76hZqmAKx1jIHg1</td>\n",
       "      <td>2</td>\n",
       "    </tr>\n",
       "    <tr>\n",
       "      <th>4</th>\n",
       "      <td>0200jXVkonhhOjxnB6vEPwCAoyV2</td>\n",
       "      <td>2</td>\n",
       "    </tr>\n",
       "    <tr>\n",
       "      <th>...</th>\n",
       "      <td>...</td>\n",
       "      <td>...</td>\n",
       "    </tr>\n",
       "    <tr>\n",
       "      <th>12184</th>\n",
       "      <td>zyWdkVlwfnSFk37Nej4VrJCandw2</td>\n",
       "      <td>4</td>\n",
       "    </tr>\n",
       "    <tr>\n",
       "      <th>12185</th>\n",
       "      <td>zz0iCd4hBJayMHLiNdJ4rIdpesE3</td>\n",
       "      <td>10</td>\n",
       "    </tr>\n",
       "    <tr>\n",
       "      <th>12186</th>\n",
       "      <td>zznY91nGVJbAY5AxBapTU2FUPOM2</td>\n",
       "      <td>5</td>\n",
       "    </tr>\n",
       "    <tr>\n",
       "      <th>12187</th>\n",
       "      <td>zzoJzvfNR3TTIpyewsEhFsShF0q2</td>\n",
       "      <td>3</td>\n",
       "    </tr>\n",
       "    <tr>\n",
       "      <th>12188</th>\n",
       "      <td>zzu5sADKcLaWEN5NChqmZEzOQNs1</td>\n",
       "      <td>1</td>\n",
       "    </tr>\n",
       "  </tbody>\n",
       "</table>\n",
       "<p>12189 rows × 2 columns</p>\n",
       "</div>"
      ],
      "text/plain": [
       "                            user_id  rows_last_month\n",
       "0      00fiXwcWv6WH27m5CzlZhMmJj4r1                4\n",
       "1      01IkDUDtagPFULtB05C9q4TLeAh2                4\n",
       "2      01PH4mMfTReLSovBbVPClTbKQZE3               25\n",
       "3      01iucqbS7TeUP76hZqmAKx1jIHg1                2\n",
       "4      0200jXVkonhhOjxnB6vEPwCAoyV2                2\n",
       "...                             ...              ...\n",
       "12184  zyWdkVlwfnSFk37Nej4VrJCandw2                4\n",
       "12185  zz0iCd4hBJayMHLiNdJ4rIdpesE3               10\n",
       "12186  zznY91nGVJbAY5AxBapTU2FUPOM2                5\n",
       "12187  zzoJzvfNR3TTIpyewsEhFsShF0q2                3\n",
       "12188  zzu5sADKcLaWEN5NChqmZEzOQNs1                1\n",
       "\n",
       "[12189 rows x 2 columns]"
      ]
     },
     "execution_count": 103,
     "metadata": {},
     "output_type": "execute_result"
    }
   ],
   "source": [
    "rows_last_month"
   ]
  },
  {
   "cell_type": "code",
   "execution_count": 104,
   "metadata": {},
   "outputs": [],
   "source": [
    "new_df1 = pd.merge(new_df1, rows_last_month, on='user_id',how='left')"
   ]
  },
  {
   "cell_type": "code",
   "execution_count": 105,
   "metadata": {},
   "outputs": [],
   "source": [
    "new_df1 = new_df1.rename(columns = {'rows_last_month':'events_last_month'})"
   ]
  },
  {
   "cell_type": "code",
   "execution_count": 106,
   "metadata": {},
   "outputs": [
    {
     "data": {
      "text/html": [
       "<div>\n",
       "<style scoped>\n",
       "    .dataframe tbody tr th:only-of-type {\n",
       "        vertical-align: middle;\n",
       "    }\n",
       "\n",
       "    .dataframe tbody tr th {\n",
       "        vertical-align: top;\n",
       "    }\n",
       "\n",
       "    .dataframe thead th {\n",
       "        text-align: right;\n",
       "    }\n",
       "</style>\n",
       "<table border=\"1\" class=\"dataframe\">\n",
       "  <thead>\n",
       "    <tr style=\"text-align: right;\">\n",
       "      <th></th>\n",
       "      <th>user_id</th>\n",
       "      <th>total_events</th>\n",
       "      <th>Baja_usuario</th>\n",
       "      <th>events_last_month</th>\n",
       "    </tr>\n",
       "  </thead>\n",
       "  <tbody>\n",
       "    <tr>\n",
       "      <th>13173</th>\n",
       "      <td>zyWdkVlwfnSFk37Nej4VrJCandw2</td>\n",
       "      <td>5</td>\n",
       "      <td>1</td>\n",
       "      <td>4.0</td>\n",
       "    </tr>\n",
       "    <tr>\n",
       "      <th>13174</th>\n",
       "      <td>zz0iCd4hBJayMHLiNdJ4rIdpesE3</td>\n",
       "      <td>11</td>\n",
       "      <td>1</td>\n",
       "      <td>10.0</td>\n",
       "    </tr>\n",
       "    <tr>\n",
       "      <th>13175</th>\n",
       "      <td>zznY91nGVJbAY5AxBapTU2FUPOM2</td>\n",
       "      <td>6</td>\n",
       "      <td>1</td>\n",
       "      <td>5.0</td>\n",
       "    </tr>\n",
       "    <tr>\n",
       "      <th>13176</th>\n",
       "      <td>zzoJzvfNR3TTIpyewsEhFsShF0q2</td>\n",
       "      <td>4</td>\n",
       "      <td>1</td>\n",
       "      <td>3.0</td>\n",
       "    </tr>\n",
       "    <tr>\n",
       "      <th>13177</th>\n",
       "      <td>zzu5sADKcLaWEN5NChqmZEzOQNs1</td>\n",
       "      <td>2</td>\n",
       "      <td>1</td>\n",
       "      <td>1.0</td>\n",
       "    </tr>\n",
       "  </tbody>\n",
       "</table>\n",
       "</div>"
      ],
      "text/plain": [
       "                            user_id  total_events  Baja_usuario  \\\n",
       "13173  zyWdkVlwfnSFk37Nej4VrJCandw2             5             1   \n",
       "13174  zz0iCd4hBJayMHLiNdJ4rIdpesE3            11             1   \n",
       "13175  zznY91nGVJbAY5AxBapTU2FUPOM2             6             1   \n",
       "13176  zzoJzvfNR3TTIpyewsEhFsShF0q2             4             1   \n",
       "13177  zzu5sADKcLaWEN5NChqmZEzOQNs1             2             1   \n",
       "\n",
       "       events_last_month  \n",
       "13173                4.0  \n",
       "13174               10.0  \n",
       "13175                5.0  \n",
       "13176                3.0  \n",
       "13177                1.0  "
      ]
     },
     "execution_count": 106,
     "metadata": {},
     "output_type": "execute_result"
    }
   ],
   "source": [
    "new_df1.tail()"
   ]
  },
  {
   "cell_type": "code",
   "execution_count": 107,
   "metadata": {},
   "outputs": [],
   "source": [
    "new_df1 = pd.merge(new_df1, actividad, on='user_id', how='left')"
   ]
  },
  {
   "cell_type": "code",
   "execution_count": 108,
   "metadata": {},
   "outputs": [],
   "source": [
    "new_df1.drop(['date_max','date_min'], axis=1, inplace=True)"
   ]
  },
  {
   "cell_type": "code",
   "execution_count": 109,
   "metadata": {},
   "outputs": [
    {
     "data": {
      "text/html": [
       "<div>\n",
       "<style scoped>\n",
       "    .dataframe tbody tr th:only-of-type {\n",
       "        vertical-align: middle;\n",
       "    }\n",
       "\n",
       "    .dataframe tbody tr th {\n",
       "        vertical-align: top;\n",
       "    }\n",
       "\n",
       "    .dataframe thead th {\n",
       "        text-align: right;\n",
       "    }\n",
       "</style>\n",
       "<table border=\"1\" class=\"dataframe\">\n",
       "  <thead>\n",
       "    <tr style=\"text-align: right;\">\n",
       "      <th></th>\n",
       "      <th>user_id</th>\n",
       "      <th>total_events</th>\n",
       "      <th>Baja_usuario</th>\n",
       "      <th>events_last_month</th>\n",
       "      <th>total_months</th>\n",
       "    </tr>\n",
       "  </thead>\n",
       "  <tbody>\n",
       "    <tr>\n",
       "      <th>0</th>\n",
       "      <td>00fiXwcWv6WH27m5CzlZhMmJj4r1</td>\n",
       "      <td>5</td>\n",
       "      <td>0</td>\n",
       "      <td>4.0</td>\n",
       "      <td>1.0</td>\n",
       "    </tr>\n",
       "    <tr>\n",
       "      <th>1</th>\n",
       "      <td>01IkDUDtagPFULtB05C9q4TLeAh2</td>\n",
       "      <td>5</td>\n",
       "      <td>0</td>\n",
       "      <td>4.0</td>\n",
       "      <td>1.0</td>\n",
       "    </tr>\n",
       "    <tr>\n",
       "      <th>2</th>\n",
       "      <td>01PH4mMfTReLSovBbVPClTbKQZE3</td>\n",
       "      <td>26</td>\n",
       "      <td>1</td>\n",
       "      <td>25.0</td>\n",
       "      <td>1.0</td>\n",
       "    </tr>\n",
       "    <tr>\n",
       "      <th>3</th>\n",
       "      <td>01iucqbS7TeUP76hZqmAKx1jIHg1</td>\n",
       "      <td>3</td>\n",
       "      <td>0</td>\n",
       "      <td>2.0</td>\n",
       "      <td>1.0</td>\n",
       "    </tr>\n",
       "    <tr>\n",
       "      <th>4</th>\n",
       "      <td>0200jXVkonhhOjxnB6vEPwCAoyV2</td>\n",
       "      <td>7</td>\n",
       "      <td>0</td>\n",
       "      <td>2.0</td>\n",
       "      <td>3.0</td>\n",
       "    </tr>\n",
       "    <tr>\n",
       "      <th>...</th>\n",
       "      <td>...</td>\n",
       "      <td>...</td>\n",
       "      <td>...</td>\n",
       "      <td>...</td>\n",
       "      <td>...</td>\n",
       "    </tr>\n",
       "    <tr>\n",
       "      <th>13173</th>\n",
       "      <td>zyWdkVlwfnSFk37Nej4VrJCandw2</td>\n",
       "      <td>5</td>\n",
       "      <td>1</td>\n",
       "      <td>4.0</td>\n",
       "      <td>1.0</td>\n",
       "    </tr>\n",
       "    <tr>\n",
       "      <th>13174</th>\n",
       "      <td>zz0iCd4hBJayMHLiNdJ4rIdpesE3</td>\n",
       "      <td>11</td>\n",
       "      <td>1</td>\n",
       "      <td>10.0</td>\n",
       "      <td>1.0</td>\n",
       "    </tr>\n",
       "    <tr>\n",
       "      <th>13175</th>\n",
       "      <td>zznY91nGVJbAY5AxBapTU2FUPOM2</td>\n",
       "      <td>6</td>\n",
       "      <td>1</td>\n",
       "      <td>5.0</td>\n",
       "      <td>1.0</td>\n",
       "    </tr>\n",
       "    <tr>\n",
       "      <th>13176</th>\n",
       "      <td>zzoJzvfNR3TTIpyewsEhFsShF0q2</td>\n",
       "      <td>4</td>\n",
       "      <td>1</td>\n",
       "      <td>3.0</td>\n",
       "      <td>1.0</td>\n",
       "    </tr>\n",
       "    <tr>\n",
       "      <th>13177</th>\n",
       "      <td>zzu5sADKcLaWEN5NChqmZEzOQNs1</td>\n",
       "      <td>2</td>\n",
       "      <td>1</td>\n",
       "      <td>1.0</td>\n",
       "      <td>1.0</td>\n",
       "    </tr>\n",
       "  </tbody>\n",
       "</table>\n",
       "<p>13178 rows × 5 columns</p>\n",
       "</div>"
      ],
      "text/plain": [
       "                            user_id  total_events  Baja_usuario  \\\n",
       "0      00fiXwcWv6WH27m5CzlZhMmJj4r1             5             0   \n",
       "1      01IkDUDtagPFULtB05C9q4TLeAh2             5             0   \n",
       "2      01PH4mMfTReLSovBbVPClTbKQZE3            26             1   \n",
       "3      01iucqbS7TeUP76hZqmAKx1jIHg1             3             0   \n",
       "4      0200jXVkonhhOjxnB6vEPwCAoyV2             7             0   \n",
       "...                             ...           ...           ...   \n",
       "13173  zyWdkVlwfnSFk37Nej4VrJCandw2             5             1   \n",
       "13174  zz0iCd4hBJayMHLiNdJ4rIdpesE3            11             1   \n",
       "13175  zznY91nGVJbAY5AxBapTU2FUPOM2             6             1   \n",
       "13176  zzoJzvfNR3TTIpyewsEhFsShF0q2             4             1   \n",
       "13177  zzu5sADKcLaWEN5NChqmZEzOQNs1             2             1   \n",
       "\n",
       "       events_last_month  total_months  \n",
       "0                    4.0           1.0  \n",
       "1                    4.0           1.0  \n",
       "2                   25.0           1.0  \n",
       "3                    2.0           1.0  \n",
       "4                    2.0           3.0  \n",
       "...                  ...           ...  \n",
       "13173                4.0           1.0  \n",
       "13174               10.0           1.0  \n",
       "13175                5.0           1.0  \n",
       "13176                3.0           1.0  \n",
       "13177                1.0           1.0  \n",
       "\n",
       "[13178 rows x 5 columns]"
      ]
     },
     "execution_count": 109,
     "metadata": {},
     "output_type": "execute_result"
    }
   ],
   "source": [
    "new_df1"
   ]
  },
  {
   "cell_type": "code",
   "execution_count": 110,
   "metadata": {},
   "outputs": [],
   "source": [
    "new_df1['rate_events'] = new_df1['total_events']/new_df1['total_months']"
   ]
  },
  {
   "cell_type": "code",
   "execution_count": 111,
   "metadata": {},
   "outputs": [
    {
     "data": {
      "text/html": [
       "<div>\n",
       "<style scoped>\n",
       "    .dataframe tbody tr th:only-of-type {\n",
       "        vertical-align: middle;\n",
       "    }\n",
       "\n",
       "    .dataframe tbody tr th {\n",
       "        vertical-align: top;\n",
       "    }\n",
       "\n",
       "    .dataframe thead th {\n",
       "        text-align: right;\n",
       "    }\n",
       "</style>\n",
       "<table border=\"1\" class=\"dataframe\">\n",
       "  <thead>\n",
       "    <tr style=\"text-align: right;\">\n",
       "      <th></th>\n",
       "      <th>user_id</th>\n",
       "      <th>total_events</th>\n",
       "      <th>Baja_usuario</th>\n",
       "      <th>events_last_month</th>\n",
       "      <th>total_months</th>\n",
       "      <th>rate_events</th>\n",
       "    </tr>\n",
       "  </thead>\n",
       "  <tbody>\n",
       "    <tr>\n",
       "      <th>0</th>\n",
       "      <td>00fiXwcWv6WH27m5CzlZhMmJj4r1</td>\n",
       "      <td>5</td>\n",
       "      <td>0</td>\n",
       "      <td>4.0</td>\n",
       "      <td>1.0</td>\n",
       "      <td>5.000000</td>\n",
       "    </tr>\n",
       "    <tr>\n",
       "      <th>1</th>\n",
       "      <td>01IkDUDtagPFULtB05C9q4TLeAh2</td>\n",
       "      <td>5</td>\n",
       "      <td>0</td>\n",
       "      <td>4.0</td>\n",
       "      <td>1.0</td>\n",
       "      <td>5.000000</td>\n",
       "    </tr>\n",
       "    <tr>\n",
       "      <th>2</th>\n",
       "      <td>01PH4mMfTReLSovBbVPClTbKQZE3</td>\n",
       "      <td>26</td>\n",
       "      <td>1</td>\n",
       "      <td>25.0</td>\n",
       "      <td>1.0</td>\n",
       "      <td>26.000000</td>\n",
       "    </tr>\n",
       "    <tr>\n",
       "      <th>3</th>\n",
       "      <td>01iucqbS7TeUP76hZqmAKx1jIHg1</td>\n",
       "      <td>3</td>\n",
       "      <td>0</td>\n",
       "      <td>2.0</td>\n",
       "      <td>1.0</td>\n",
       "      <td>3.000000</td>\n",
       "    </tr>\n",
       "    <tr>\n",
       "      <th>4</th>\n",
       "      <td>0200jXVkonhhOjxnB6vEPwCAoyV2</td>\n",
       "      <td>7</td>\n",
       "      <td>0</td>\n",
       "      <td>2.0</td>\n",
       "      <td>3.0</td>\n",
       "      <td>2.333333</td>\n",
       "    </tr>\n",
       "    <tr>\n",
       "      <th>...</th>\n",
       "      <td>...</td>\n",
       "      <td>...</td>\n",
       "      <td>...</td>\n",
       "      <td>...</td>\n",
       "      <td>...</td>\n",
       "      <td>...</td>\n",
       "    </tr>\n",
       "    <tr>\n",
       "      <th>13173</th>\n",
       "      <td>zyWdkVlwfnSFk37Nej4VrJCandw2</td>\n",
       "      <td>5</td>\n",
       "      <td>1</td>\n",
       "      <td>4.0</td>\n",
       "      <td>1.0</td>\n",
       "      <td>5.000000</td>\n",
       "    </tr>\n",
       "    <tr>\n",
       "      <th>13174</th>\n",
       "      <td>zz0iCd4hBJayMHLiNdJ4rIdpesE3</td>\n",
       "      <td>11</td>\n",
       "      <td>1</td>\n",
       "      <td>10.0</td>\n",
       "      <td>1.0</td>\n",
       "      <td>11.000000</td>\n",
       "    </tr>\n",
       "    <tr>\n",
       "      <th>13175</th>\n",
       "      <td>zznY91nGVJbAY5AxBapTU2FUPOM2</td>\n",
       "      <td>6</td>\n",
       "      <td>1</td>\n",
       "      <td>5.0</td>\n",
       "      <td>1.0</td>\n",
       "      <td>6.000000</td>\n",
       "    </tr>\n",
       "    <tr>\n",
       "      <th>13176</th>\n",
       "      <td>zzoJzvfNR3TTIpyewsEhFsShF0q2</td>\n",
       "      <td>4</td>\n",
       "      <td>1</td>\n",
       "      <td>3.0</td>\n",
       "      <td>1.0</td>\n",
       "      <td>4.000000</td>\n",
       "    </tr>\n",
       "    <tr>\n",
       "      <th>13177</th>\n",
       "      <td>zzu5sADKcLaWEN5NChqmZEzOQNs1</td>\n",
       "      <td>2</td>\n",
       "      <td>1</td>\n",
       "      <td>1.0</td>\n",
       "      <td>1.0</td>\n",
       "      <td>2.000000</td>\n",
       "    </tr>\n",
       "  </tbody>\n",
       "</table>\n",
       "<p>13178 rows × 6 columns</p>\n",
       "</div>"
      ],
      "text/plain": [
       "                            user_id  total_events  Baja_usuario  \\\n",
       "0      00fiXwcWv6WH27m5CzlZhMmJj4r1             5             0   \n",
       "1      01IkDUDtagPFULtB05C9q4TLeAh2             5             0   \n",
       "2      01PH4mMfTReLSovBbVPClTbKQZE3            26             1   \n",
       "3      01iucqbS7TeUP76hZqmAKx1jIHg1             3             0   \n",
       "4      0200jXVkonhhOjxnB6vEPwCAoyV2             7             0   \n",
       "...                             ...           ...           ...   \n",
       "13173  zyWdkVlwfnSFk37Nej4VrJCandw2             5             1   \n",
       "13174  zz0iCd4hBJayMHLiNdJ4rIdpesE3            11             1   \n",
       "13175  zznY91nGVJbAY5AxBapTU2FUPOM2             6             1   \n",
       "13176  zzoJzvfNR3TTIpyewsEhFsShF0q2             4             1   \n",
       "13177  zzu5sADKcLaWEN5NChqmZEzOQNs1             2             1   \n",
       "\n",
       "       events_last_month  total_months  rate_events  \n",
       "0                    4.0           1.0     5.000000  \n",
       "1                    4.0           1.0     5.000000  \n",
       "2                   25.0           1.0    26.000000  \n",
       "3                    2.0           1.0     3.000000  \n",
       "4                    2.0           3.0     2.333333  \n",
       "...                  ...           ...          ...  \n",
       "13173                4.0           1.0     5.000000  \n",
       "13174               10.0           1.0    11.000000  \n",
       "13175                5.0           1.0     6.000000  \n",
       "13176                3.0           1.0     4.000000  \n",
       "13177                1.0           1.0     2.000000  \n",
       "\n",
       "[13178 rows x 6 columns]"
      ]
     },
     "execution_count": 111,
     "metadata": {},
     "output_type": "execute_result"
    }
   ],
   "source": [
    "new_df1"
   ]
  },
  {
   "cell_type": "code",
   "execution_count": 112,
   "metadata": {},
   "outputs": [],
   "source": [
    "seniors = pd.read_csv('./data/bq-results-20231116-seniors-sept22_march23.csv',index_col=0)"
   ]
  },
  {
   "cell_type": "code",
   "execution_count": 113,
   "metadata": {},
   "outputs": [
    {
     "name": "stdout",
     "output_type": "stream",
     "text": [
      "<class 'pandas.core.frame.DataFrame'>\n",
      "Index: 25149 entries, 00VjxBSh5SWZtvDuQObqKhuhymH3 to zzyxrwgOerf66PNVbmJn4UGL8D23\n",
      "Data columns (total 6 columns):\n",
      " #   Column                  Non-Null Count  Dtype  \n",
      "---  ------                  --------------  -----  \n",
      " 0   age                     20222 non-null  float64\n",
      " 1   gender                  20225 non-null  object \n",
      " 2   sex                     20208 non-null  object \n",
      " 3   height                  20208 non-null  float64\n",
      " 4   seniors_createdAt       25149 non-null  int64  \n",
      " 5   seniors_exercise_level  20205 non-null  float64\n",
      "dtypes: float64(3), int64(1), object(2)\n",
      "memory usage: 1.3+ MB\n"
     ]
    }
   ],
   "source": [
    "seniors.info()"
   ]
  },
  {
   "cell_type": "code",
   "execution_count": 114,
   "metadata": {},
   "outputs": [],
   "source": [
    "seniors.dropna(inplace=True)"
   ]
  },
  {
   "cell_type": "code",
   "execution_count": 115,
   "metadata": {},
   "outputs": [
    {
     "name": "stdout",
     "output_type": "stream",
     "text": [
      "<class 'pandas.core.frame.DataFrame'>\n",
      "Index: 20186 entries, 00VjxBSh5SWZtvDuQObqKhuhymH3 to zzxYSyavYpMDKfgAo7Ih5SZoSF93\n",
      "Data columns (total 6 columns):\n",
      " #   Column                  Non-Null Count  Dtype  \n",
      "---  ------                  --------------  -----  \n",
      " 0   age                     20186 non-null  float64\n",
      " 1   gender                  20186 non-null  object \n",
      " 2   sex                     20186 non-null  object \n",
      " 3   height                  20186 non-null  float64\n",
      " 4   seniors_createdAt       20186 non-null  int64  \n",
      " 5   seniors_exercise_level  20186 non-null  float64\n",
      "dtypes: float64(3), int64(1), object(2)\n",
      "memory usage: 1.1+ MB\n"
     ]
    }
   ],
   "source": [
    "seniors.info()"
   ]
  },
  {
   "cell_type": "markdown",
   "metadata": {},
   "source": [
    "### De seniors nos quedamos con: age, gender, height and exercise_level"
   ]
  },
  {
   "cell_type": "code",
   "execution_count": 116,
   "metadata": {},
   "outputs": [],
   "source": [
    "seniors.drop(['sex', 'seniors_createdAt'], axis=1,inplace=True)"
   ]
  },
  {
   "cell_type": "code",
   "execution_count": 117,
   "metadata": {},
   "outputs": [
    {
     "name": "stdout",
     "output_type": "stream",
     "text": [
      "<class 'pandas.core.frame.DataFrame'>\n",
      "Index: 20186 entries, 00VjxBSh5SWZtvDuQObqKhuhymH3 to zzxYSyavYpMDKfgAo7Ih5SZoSF93\n",
      "Data columns (total 4 columns):\n",
      " #   Column                  Non-Null Count  Dtype  \n",
      "---  ------                  --------------  -----  \n",
      " 0   age                     20186 non-null  float64\n",
      " 1   gender                  20186 non-null  object \n",
      " 2   height                  20186 non-null  float64\n",
      " 3   seniors_exercise_level  20186 non-null  float64\n",
      "dtypes: float64(3), object(1)\n",
      "memory usage: 788.5+ KB\n"
     ]
    }
   ],
   "source": [
    "seniors.info()"
   ]
  },
  {
   "cell_type": "code",
   "execution_count": 118,
   "metadata": {},
   "outputs": [
    {
     "name": "stdout",
     "output_type": "stream",
     "text": [
      "<class 'pandas.core.frame.DataFrame'>\n",
      "RangeIndex: 13178 entries, 0 to 13177\n",
      "Data columns (total 6 columns):\n",
      " #   Column             Non-Null Count  Dtype  \n",
      "---  ------             --------------  -----  \n",
      " 0   user_id            13178 non-null  object \n",
      " 1   total_events       13178 non-null  int64  \n",
      " 2   Baja_usuario       13178 non-null  int64  \n",
      " 3   events_last_month  12189 non-null  float64\n",
      " 4   total_months       13178 non-null  float64\n",
      " 5   rate_events        13178 non-null  float64\n",
      "dtypes: float64(3), int64(2), object(1)\n",
      "memory usage: 617.8+ KB\n"
     ]
    }
   ],
   "source": [
    "new_df1.info()"
   ]
  },
  {
   "cell_type": "markdown",
   "metadata": {},
   "source": [
    "### Merge para tener todas las columnas de informacion"
   ]
  },
  {
   "cell_type": "code",
   "execution_count": 119,
   "metadata": {},
   "outputs": [],
   "source": [
    "new_df1 = pd.merge(new_df1, seniors, on='user_id', how='left')"
   ]
  },
  {
   "cell_type": "code",
   "execution_count": 59,
   "metadata": {},
   "outputs": [
    {
     "name": "stdout",
     "output_type": "stream",
     "text": [
      "<class 'pandas.core.frame.DataFrame'>\n",
      "RangeIndex: 13045 entries, 0 to 13044\n",
      "Data columns (total 10 columns):\n",
      " #   Column                  Non-Null Count  Dtype  \n",
      "---  ------                  --------------  -----  \n",
      " 0   user_id                 13045 non-null  object \n",
      " 1   total_events            13045 non-null  int64  \n",
      " 2   Baja_usuario            13045 non-null  int64  \n",
      " 3   events_last_month       12073 non-null  float64\n",
      " 4   total_months            13045 non-null  float64\n",
      " 5   rate_events             13045 non-null  float64\n",
      " 6   age                     13045 non-null  float64\n",
      " 7   gender                  13045 non-null  object \n",
      " 8   height                  13045 non-null  float64\n",
      " 9   seniors_exercise_level  13045 non-null  float64\n",
      "dtypes: float64(6), int64(2), object(2)\n",
      "memory usage: 1019.3+ KB\n"
     ]
    }
   ],
   "source": [
    "new_df1.info()"
   ]
  },
  {
   "cell_type": "code",
   "execution_count": 120,
   "metadata": {},
   "outputs": [
    {
     "name": "stdout",
     "output_type": "stream",
     "text": [
      "<class 'pandas.core.frame.DataFrame'>\n",
      "Index: 254749 entries, 6 to 1018517\n",
      "Data columns (total 8 columns):\n",
      " #   Column                Non-Null Count   Dtype              \n",
      "---  ------                --------------   -----              \n",
      " 0   original_timestamp    254466 non-null  datetime64[ns, UTC]\n",
      " 1   event_name            254749 non-null  int64              \n",
      " 2   user_id               254749 non-null  object             \n",
      " 3   device_type           254749 non-null  int64              \n",
      " 4   os_name               254749 non-null  int64              \n",
      " 5   screen_height         254749 non-null  int64              \n",
      " 6   screen_width          254749 non-null  int64              \n",
      " 7   traits_language_code  254748 non-null  float64            \n",
      "dtypes: datetime64[ns, UTC](1), float64(1), int64(5), object(1)\n",
      "memory usage: 17.5+ MB\n"
     ]
    }
   ],
   "source": [
    "events1.info()"
   ]
  },
  {
   "cell_type": "code",
   "execution_count": 61,
   "metadata": {},
   "outputs": [],
   "source": [
    "goals1 = pd.read_csv('./data/goals1.csv',index_col=0)"
   ]
  },
  {
   "cell_type": "code",
   "execution_count": 62,
   "metadata": {},
   "outputs": [
    {
     "name": "stdout",
     "output_type": "stream",
     "text": [
      "<class 'pandas.core.frame.DataFrame'>\n",
      "Index: 5636 entries, 29 to 991297\n",
      "Data columns (total 3 columns):\n",
      " #   Column                   Non-Null Count  Dtype \n",
      "---  ------                   --------------  ----- \n",
      " 0   user_id                  5636 non-null   object\n",
      " 1   traits_main_goal         5636 non-null   object\n",
      " 2   traits_nutritional_goal  5636 non-null   object\n",
      "dtypes: object(3)\n",
      "memory usage: 176.1+ KB\n"
     ]
    }
   ],
   "source": [
    "goals1.info()"
   ]
  },
  {
   "cell_type": "code",
   "execution_count": 63,
   "metadata": {},
   "outputs": [
    {
     "data": {
      "text/plain": [
       "5636"
      ]
     },
     "execution_count": 63,
     "metadata": {},
     "output_type": "execute_result"
    }
   ],
   "source": [
    "len(goals1['user_id'].unique())"
   ]
  },
  {
   "cell_type": "markdown",
   "metadata": {},
   "source": [
    "### De momento no incluyo estos datos\n",
    "#### Añadimos los datos de 'main_goal' y 'nutritional_goal' para cada 'user_id'"
   ]
  },
  {
   "cell_type": "code",
   "execution_count": 64,
   "metadata": {},
   "outputs": [
    {
     "name": "stdout",
     "output_type": "stream",
     "text": [
      "<class 'pandas.core.frame.DataFrame'>\n",
      "RangeIndex: 13045 entries, 0 to 13044\n",
      "Data columns (total 10 columns):\n",
      " #   Column                  Non-Null Count  Dtype  \n",
      "---  ------                  --------------  -----  \n",
      " 0   user_id                 13045 non-null  object \n",
      " 1   total_events            13045 non-null  int64  \n",
      " 2   Baja_usuario            13045 non-null  int64  \n",
      " 3   events_last_month       12073 non-null  float64\n",
      " 4   total_months            13045 non-null  float64\n",
      " 5   rate_events             13045 non-null  float64\n",
      " 6   age                     13045 non-null  float64\n",
      " 7   gender                  13045 non-null  object \n",
      " 8   height                  13045 non-null  float64\n",
      " 9   seniors_exercise_level  13045 non-null  float64\n",
      "dtypes: float64(6), int64(2), object(2)\n",
      "memory usage: 1019.3+ KB\n"
     ]
    }
   ],
   "source": [
    "new_df1.info()"
   ]
  },
  {
   "cell_type": "code",
   "execution_count": 65,
   "metadata": {},
   "outputs": [
    {
     "data": {
      "text/plain": [
       "13045"
      ]
     },
     "execution_count": 65,
     "metadata": {},
     "output_type": "execute_result"
    }
   ],
   "source": [
    "len(new_df1['user_id'].unique())"
   ]
  },
  {
   "cell_type": "markdown",
   "metadata": {},
   "source": [
    "### Mapeamos los valores de 'gender', 'main_goal' y 'nutritional_goal'"
   ]
  },
  {
   "cell_type": "code",
   "execution_count": 121,
   "metadata": {},
   "outputs": [],
   "source": [
    "dict1 = {'F':1,'M':0}\n",
    "new_df1['gender'] = new_df1['gender'].map(dict1)"
   ]
  },
  {
   "cell_type": "markdown",
   "metadata": {},
   "source": [
    "### De momento el map de main_goal y nutritional_goal lo dejamos en goals1"
   ]
  },
  {
   "cell_type": "code",
   "execution_count": 122,
   "metadata": {},
   "outputs": [
    {
     "data": {
      "text/plain": [
       "array([1, 3, 2, 4])"
      ]
     },
     "execution_count": 122,
     "metadata": {},
     "output_type": "execute_result"
    }
   ],
   "source": [
    "goals1['traits_main_goal'].unique()"
   ]
  },
  {
   "cell_type": "code",
   "execution_count": 68,
   "metadata": {},
   "outputs": [],
   "source": [
    "#dict2 = {'feelBetter': 1, 'loseWeight': 2,'stayActive': 3,'reducePain': 4 }\n",
    "#goals1['traits_main_goal'] = goals1['traits_main_goal'].map(dict2)"
   ]
  },
  {
   "cell_type": "code",
   "execution_count": 123,
   "metadata": {},
   "outputs": [
    {
     "data": {
      "text/plain": [
       "array([3, 0, 2, 1])"
      ]
     },
     "execution_count": 123,
     "metadata": {},
     "output_type": "execute_result"
    }
   ],
   "source": [
    "goals1['traits_nutritional_goal'].unique()"
   ]
  },
  {
   "cell_type": "code",
   "execution_count": 70,
   "metadata": {},
   "outputs": [],
   "source": [
    "#dict3 = {'improveNutrition':3,'loseWeight':2, 'increaseMuscle':1, 'none':0 }\n",
    "#goals1['traits_nutritional_goal'] = goals1['traits_nutritional_goal'].map(dict3)"
   ]
  },
  {
   "cell_type": "code",
   "execution_count": 124,
   "metadata": {},
   "outputs": [
    {
     "name": "stdout",
     "output_type": "stream",
     "text": [
      "<class 'pandas.core.frame.DataFrame'>\n",
      "Index: 5636 entries, 29 to 991297\n",
      "Data columns (total 3 columns):\n",
      " #   Column                   Non-Null Count  Dtype \n",
      "---  ------                   --------------  ----- \n",
      " 0   user_id                  5636 non-null   object\n",
      " 1   traits_main_goal         5636 non-null   int64 \n",
      " 2   traits_nutritional_goal  5636 non-null   int64 \n",
      "dtypes: int64(2), object(1)\n",
      "memory usage: 176.1+ KB\n"
     ]
    }
   ],
   "source": [
    "goals1.info()"
   ]
  },
  {
   "cell_type": "markdown",
   "metadata": {},
   "source": [
    "### Del dataset de EVENTS voy a coger tambien la info de 'language_code', 'device_type' y 'os_name'"
   ]
  },
  {
   "cell_type": "code",
   "execution_count": 125,
   "metadata": {},
   "outputs": [
    {
     "name": "stdout",
     "output_type": "stream",
     "text": [
      "<class 'pandas.core.frame.DataFrame'>\n",
      "Index: 254749 entries, 6 to 1018517\n",
      "Data columns (total 8 columns):\n",
      " #   Column                Non-Null Count   Dtype              \n",
      "---  ------                --------------   -----              \n",
      " 0   original_timestamp    254466 non-null  datetime64[ns, UTC]\n",
      " 1   event_name            254749 non-null  int64              \n",
      " 2   user_id               254749 non-null  object             \n",
      " 3   device_type           254749 non-null  int64              \n",
      " 4   os_name               254749 non-null  int64              \n",
      " 5   screen_height         254749 non-null  int64              \n",
      " 6   screen_width          254749 non-null  int64              \n",
      " 7   traits_language_code  254748 non-null  float64            \n",
      "dtypes: datetime64[ns, UTC](1), float64(1), int64(5), object(1)\n",
      "memory usage: 17.5+ MB\n"
     ]
    }
   ],
   "source": [
    "events1.info()"
   ]
  },
  {
   "cell_type": "code",
   "execution_count": 126,
   "metadata": {},
   "outputs": [],
   "source": [
    "mas_info = events1.filter(['user_id', 'traits_language_code','os_name', 'device_type'],axis=1)"
   ]
  },
  {
   "cell_type": "code",
   "execution_count": 127,
   "metadata": {},
   "outputs": [],
   "source": [
    "new_df1 = pd.merge(new_df1,mas_info, on='user_id',how='left')"
   ]
  },
  {
   "cell_type": "code",
   "execution_count": 130,
   "metadata": {},
   "outputs": [
    {
     "name": "stdout",
     "output_type": "stream",
     "text": [
      "<class 'pandas.core.frame.DataFrame'>\n",
      "RangeIndex: 254749 entries, 0 to 254748\n",
      "Data columns (total 13 columns):\n",
      " #   Column                  Non-Null Count   Dtype  \n",
      "---  ------                  --------------   -----  \n",
      " 0   user_id                 254749 non-null  object \n",
      " 1   total_events            254749 non-null  int64  \n",
      " 2   Baja_usuario            254749 non-null  int64  \n",
      " 3   events_last_month       252141 non-null  float64\n",
      " 4   total_months            254749 non-null  float64\n",
      " 5   rate_events             254749 non-null  float64\n",
      " 6   age                     249336 non-null  float64\n",
      " 7   gender                  249336 non-null  float64\n",
      " 8   height                  249336 non-null  float64\n",
      " 9   seniors_exercise_level  249336 non-null  float64\n",
      " 10  traits_language_code    254748 non-null  float64\n",
      " 11  os_name                 254749 non-null  int64  \n",
      " 12  device_type             254749 non-null  int64  \n",
      "dtypes: float64(8), int64(4), object(1)\n",
      "memory usage: 25.3+ MB\n"
     ]
    }
   ],
   "source": [
    "new_df1.info()"
   ]
  },
  {
   "cell_type": "code",
   "execution_count": 131,
   "metadata": {},
   "outputs": [],
   "source": [
    "new_df1 = new_df1.drop_duplicates(subset='user_id')"
   ]
  },
  {
   "cell_type": "code",
   "execution_count": 132,
   "metadata": {},
   "outputs": [
    {
     "name": "stdout",
     "output_type": "stream",
     "text": [
      "<class 'pandas.core.frame.DataFrame'>\n",
      "Index: 13178 entries, 0 to 254747\n",
      "Data columns (total 13 columns):\n",
      " #   Column                  Non-Null Count  Dtype  \n",
      "---  ------                  --------------  -----  \n",
      " 0   user_id                 13178 non-null  object \n",
      " 1   total_events            13178 non-null  int64  \n",
      " 2   Baja_usuario            13178 non-null  int64  \n",
      " 3   events_last_month       12189 non-null  float64\n",
      " 4   total_months            13178 non-null  float64\n",
      " 5   rate_events             13178 non-null  float64\n",
      " 6   age                     13045 non-null  float64\n",
      " 7   gender                  13045 non-null  float64\n",
      " 8   height                  13045 non-null  float64\n",
      " 9   seniors_exercise_level  13045 non-null  float64\n",
      " 10  traits_language_code    13177 non-null  float64\n",
      " 11  os_name                 13178 non-null  int64  \n",
      " 12  device_type             13178 non-null  int64  \n",
      "dtypes: float64(8), int64(4), object(1)\n",
      "memory usage: 1.4+ MB\n"
     ]
    }
   ],
   "source": [
    "new_df1.info()"
   ]
  },
  {
   "cell_type": "code",
   "execution_count": 133,
   "metadata": {},
   "outputs": [
    {
     "data": {
      "text/html": [
       "<div>\n",
       "<style scoped>\n",
       "    .dataframe tbody tr th:only-of-type {\n",
       "        vertical-align: middle;\n",
       "    }\n",
       "\n",
       "    .dataframe tbody tr th {\n",
       "        vertical-align: top;\n",
       "    }\n",
       "\n",
       "    .dataframe thead th {\n",
       "        text-align: right;\n",
       "    }\n",
       "</style>\n",
       "<table border=\"1\" class=\"dataframe\">\n",
       "  <thead>\n",
       "    <tr style=\"text-align: right;\">\n",
       "      <th></th>\n",
       "      <th>user_id</th>\n",
       "      <th>total_events</th>\n",
       "      <th>Baja_usuario</th>\n",
       "      <th>events_last_month</th>\n",
       "      <th>total_months</th>\n",
       "      <th>rate_events</th>\n",
       "      <th>age</th>\n",
       "      <th>gender</th>\n",
       "      <th>height</th>\n",
       "      <th>seniors_exercise_level</th>\n",
       "      <th>traits_language_code</th>\n",
       "      <th>os_name</th>\n",
       "      <th>device_type</th>\n",
       "    </tr>\n",
       "  </thead>\n",
       "  <tbody>\n",
       "    <tr>\n",
       "      <th>0</th>\n",
       "      <td>00fiXwcWv6WH27m5CzlZhMmJj4r1</td>\n",
       "      <td>5</td>\n",
       "      <td>0</td>\n",
       "      <td>4.0</td>\n",
       "      <td>1.0</td>\n",
       "      <td>5.000000</td>\n",
       "      <td>61.0</td>\n",
       "      <td>1.0</td>\n",
       "      <td>167.0</td>\n",
       "      <td>2.0</td>\n",
       "      <td>1.0</td>\n",
       "      <td>3</td>\n",
       "      <td>2</td>\n",
       "    </tr>\n",
       "    <tr>\n",
       "      <th>5</th>\n",
       "      <td>01IkDUDtagPFULtB05C9q4TLeAh2</td>\n",
       "      <td>5</td>\n",
       "      <td>0</td>\n",
       "      <td>4.0</td>\n",
       "      <td>1.0</td>\n",
       "      <td>5.000000</td>\n",
       "      <td>69.0</td>\n",
       "      <td>1.0</td>\n",
       "      <td>159.0</td>\n",
       "      <td>1.0</td>\n",
       "      <td>1.0</td>\n",
       "      <td>2</td>\n",
       "      <td>2</td>\n",
       "    </tr>\n",
       "    <tr>\n",
       "      <th>10</th>\n",
       "      <td>01PH4mMfTReLSovBbVPClTbKQZE3</td>\n",
       "      <td>26</td>\n",
       "      <td>1</td>\n",
       "      <td>25.0</td>\n",
       "      <td>1.0</td>\n",
       "      <td>26.000000</td>\n",
       "      <td>57.0</td>\n",
       "      <td>1.0</td>\n",
       "      <td>159.0</td>\n",
       "      <td>1.0</td>\n",
       "      <td>1.0</td>\n",
       "      <td>1</td>\n",
       "      <td>1</td>\n",
       "    </tr>\n",
       "    <tr>\n",
       "      <th>36</th>\n",
       "      <td>01iucqbS7TeUP76hZqmAKx1jIHg1</td>\n",
       "      <td>3</td>\n",
       "      <td>0</td>\n",
       "      <td>2.0</td>\n",
       "      <td>1.0</td>\n",
       "      <td>3.000000</td>\n",
       "      <td>66.0</td>\n",
       "      <td>1.0</td>\n",
       "      <td>176.0</td>\n",
       "      <td>1.0</td>\n",
       "      <td>2.0</td>\n",
       "      <td>2</td>\n",
       "      <td>2</td>\n",
       "    </tr>\n",
       "    <tr>\n",
       "      <th>39</th>\n",
       "      <td>0200jXVkonhhOjxnB6vEPwCAoyV2</td>\n",
       "      <td>7</td>\n",
       "      <td>0</td>\n",
       "      <td>2.0</td>\n",
       "      <td>3.0</td>\n",
       "      <td>2.333333</td>\n",
       "      <td>61.0</td>\n",
       "      <td>1.0</td>\n",
       "      <td>176.0</td>\n",
       "      <td>2.0</td>\n",
       "      <td>2.0</td>\n",
       "      <td>2</td>\n",
       "      <td>2</td>\n",
       "    </tr>\n",
       "    <tr>\n",
       "      <th>...</th>\n",
       "      <td>...</td>\n",
       "      <td>...</td>\n",
       "      <td>...</td>\n",
       "      <td>...</td>\n",
       "      <td>...</td>\n",
       "      <td>...</td>\n",
       "      <td>...</td>\n",
       "      <td>...</td>\n",
       "      <td>...</td>\n",
       "      <td>...</td>\n",
       "      <td>...</td>\n",
       "      <td>...</td>\n",
       "      <td>...</td>\n",
       "    </tr>\n",
       "    <tr>\n",
       "      <th>254721</th>\n",
       "      <td>zyWdkVlwfnSFk37Nej4VrJCandw2</td>\n",
       "      <td>5</td>\n",
       "      <td>1</td>\n",
       "      <td>4.0</td>\n",
       "      <td>1.0</td>\n",
       "      <td>5.000000</td>\n",
       "      <td>68.0</td>\n",
       "      <td>1.0</td>\n",
       "      <td>173.0</td>\n",
       "      <td>2.0</td>\n",
       "      <td>2.0</td>\n",
       "      <td>1</td>\n",
       "      <td>1</td>\n",
       "    </tr>\n",
       "    <tr>\n",
       "      <th>254726</th>\n",
       "      <td>zz0iCd4hBJayMHLiNdJ4rIdpesE3</td>\n",
       "      <td>11</td>\n",
       "      <td>1</td>\n",
       "      <td>10.0</td>\n",
       "      <td>1.0</td>\n",
       "      <td>11.000000</td>\n",
       "      <td>56.0</td>\n",
       "      <td>1.0</td>\n",
       "      <td>162.0</td>\n",
       "      <td>3.0</td>\n",
       "      <td>1.0</td>\n",
       "      <td>2</td>\n",
       "      <td>2</td>\n",
       "    </tr>\n",
       "    <tr>\n",
       "      <th>254737</th>\n",
       "      <td>zznY91nGVJbAY5AxBapTU2FUPOM2</td>\n",
       "      <td>6</td>\n",
       "      <td>1</td>\n",
       "      <td>5.0</td>\n",
       "      <td>1.0</td>\n",
       "      <td>6.000000</td>\n",
       "      <td>63.0</td>\n",
       "      <td>1.0</td>\n",
       "      <td>149.0</td>\n",
       "      <td>1.0</td>\n",
       "      <td>1.0</td>\n",
       "      <td>1</td>\n",
       "      <td>1</td>\n",
       "    </tr>\n",
       "    <tr>\n",
       "      <th>254743</th>\n",
       "      <td>zzoJzvfNR3TTIpyewsEhFsShF0q2</td>\n",
       "      <td>4</td>\n",
       "      <td>1</td>\n",
       "      <td>3.0</td>\n",
       "      <td>1.0</td>\n",
       "      <td>4.000000</td>\n",
       "      <td>65.0</td>\n",
       "      <td>1.0</td>\n",
       "      <td>157.0</td>\n",
       "      <td>2.0</td>\n",
       "      <td>2.0</td>\n",
       "      <td>2</td>\n",
       "      <td>2</td>\n",
       "    </tr>\n",
       "    <tr>\n",
       "      <th>254747</th>\n",
       "      <td>zzu5sADKcLaWEN5NChqmZEzOQNs1</td>\n",
       "      <td>2</td>\n",
       "      <td>1</td>\n",
       "      <td>1.0</td>\n",
       "      <td>1.0</td>\n",
       "      <td>2.000000</td>\n",
       "      <td>63.0</td>\n",
       "      <td>1.0</td>\n",
       "      <td>165.0</td>\n",
       "      <td>2.0</td>\n",
       "      <td>2.0</td>\n",
       "      <td>2</td>\n",
       "      <td>2</td>\n",
       "    </tr>\n",
       "  </tbody>\n",
       "</table>\n",
       "<p>13178 rows × 13 columns</p>\n",
       "</div>"
      ],
      "text/plain": [
       "                             user_id  total_events  Baja_usuario  \\\n",
       "0       00fiXwcWv6WH27m5CzlZhMmJj4r1             5             0   \n",
       "5       01IkDUDtagPFULtB05C9q4TLeAh2             5             0   \n",
       "10      01PH4mMfTReLSovBbVPClTbKQZE3            26             1   \n",
       "36      01iucqbS7TeUP76hZqmAKx1jIHg1             3             0   \n",
       "39      0200jXVkonhhOjxnB6vEPwCAoyV2             7             0   \n",
       "...                              ...           ...           ...   \n",
       "254721  zyWdkVlwfnSFk37Nej4VrJCandw2             5             1   \n",
       "254726  zz0iCd4hBJayMHLiNdJ4rIdpesE3            11             1   \n",
       "254737  zznY91nGVJbAY5AxBapTU2FUPOM2             6             1   \n",
       "254743  zzoJzvfNR3TTIpyewsEhFsShF0q2             4             1   \n",
       "254747  zzu5sADKcLaWEN5NChqmZEzOQNs1             2             1   \n",
       "\n",
       "        events_last_month  total_months  rate_events   age  gender  height  \\\n",
       "0                     4.0           1.0     5.000000  61.0     1.0   167.0   \n",
       "5                     4.0           1.0     5.000000  69.0     1.0   159.0   \n",
       "10                   25.0           1.0    26.000000  57.0     1.0   159.0   \n",
       "36                    2.0           1.0     3.000000  66.0     1.0   176.0   \n",
       "39                    2.0           3.0     2.333333  61.0     1.0   176.0   \n",
       "...                   ...           ...          ...   ...     ...     ...   \n",
       "254721                4.0           1.0     5.000000  68.0     1.0   173.0   \n",
       "254726               10.0           1.0    11.000000  56.0     1.0   162.0   \n",
       "254737                5.0           1.0     6.000000  63.0     1.0   149.0   \n",
       "254743                3.0           1.0     4.000000  65.0     1.0   157.0   \n",
       "254747                1.0           1.0     2.000000  63.0     1.0   165.0   \n",
       "\n",
       "        seniors_exercise_level  traits_language_code  os_name  device_type  \n",
       "0                          2.0                   1.0        3            2  \n",
       "5                          1.0                   1.0        2            2  \n",
       "10                         1.0                   1.0        1            1  \n",
       "36                         1.0                   2.0        2            2  \n",
       "39                         2.0                   2.0        2            2  \n",
       "...                        ...                   ...      ...          ...  \n",
       "254721                     2.0                   2.0        1            1  \n",
       "254726                     3.0                   1.0        2            2  \n",
       "254737                     1.0                   1.0        1            1  \n",
       "254743                     2.0                   2.0        2            2  \n",
       "254747                     2.0                   2.0        2            2  \n",
       "\n",
       "[13178 rows x 13 columns]"
      ]
     },
     "execution_count": 133,
     "metadata": {},
     "output_type": "execute_result"
    }
   ],
   "source": [
    "new_df1"
   ]
  },
  {
   "cell_type": "code",
   "execution_count": 166,
   "metadata": {},
   "outputs": [],
   "source": [
    "events2 = pd.read_csv('./data/events2.csv')"
   ]
  },
  {
   "cell_type": "code",
   "execution_count": null,
   "metadata": {},
   "outputs": [],
   "source": [
    "events2.drop(['device_model','locale','traits_created_at','timezone','os_version','app_version'],axis=1,inplace=True)"
   ]
  },
  {
   "cell_type": "code",
   "execution_count": 162,
   "metadata": {},
   "outputs": [],
   "source": [
    "import warnings\n",
    "import pandas as pd\n",
    "import numpy as np\n",
    "import seaborn as sns\n",
    "import matplotlib.pyplot as plt\n",
    "from scipy import stats\n",
    "from sklearn import model_selection\n",
    "from sklearn.metrics import accuracy_score\n",
    "from sklearn.metrics import confusion_matrix\n",
    "\n",
    "from sklearn.model_selection import train_test_split\n",
    "\n",
    "warnings.filterwarnings(\"ignore\")"
   ]
  },
  {
   "cell_type": "code",
   "execution_count": 135,
   "metadata": {},
   "outputs": [
    {
     "data": {
      "text/plain": [
       "Baja_usuario\n",
       "1    10178\n",
       "0     3000\n",
       "Name: count, dtype: int64"
      ]
     },
     "execution_count": 135,
     "metadata": {},
     "output_type": "execute_result"
    }
   ],
   "source": [
    "new_df1['Baja_usuario'].value_counts()"
   ]
  },
  {
   "cell_type": "code",
   "execution_count": 139,
   "metadata": {},
   "outputs": [],
   "source": [
    "datos = new_df1.drop(['user_id'],axis=1)"
   ]
  },
  {
   "cell_type": "code",
   "execution_count": 140,
   "metadata": {},
   "outputs": [
    {
     "data": {
      "text/plain": [
       "<BarContainer object of 2 artists>"
      ]
     },
     "execution_count": 140,
     "metadata": {},
     "output_type": "execute_result"
    },
    {
     "data": {
      "image/png": "[encoded data removed]",
      "text/plain": [
       "<Figure size 640x480 with 1 Axes>"
      ]
     },
     "metadata": {},
     "output_type": "display_data"
    }
   ],
   "source": [
    "count_values = datos['Baja_usuario'].value_counts()\n",
    "\n",
    "# Grafica la distribución de valores\n",
    "plt.bar(count_values.index, count_values.values, color=['blue', 'red'])"
   ]
  },
  {
   "cell_type": "code",
   "execution_count": 141,
   "metadata": {},
   "outputs": [
    {
     "name": "stdout",
     "output_type": "stream",
     "text": [
      "<class 'pandas.core.frame.DataFrame'>\n",
      "Index: 13178 entries, 0 to 254747\n",
      "Data columns (total 12 columns):\n",
      " #   Column                  Non-Null Count  Dtype  \n",
      "---  ------                  --------------  -----  \n",
      " 0   total_events            13178 non-null  int64  \n",
      " 1   Baja_usuario            13178 non-null  int64  \n",
      " 2   events_last_month       12189 non-null  float64\n",
      " 3   total_months            13178 non-null  float64\n",
      " 4   rate_events             13178 non-null  float64\n",
      " 5   age                     13045 non-null  float64\n",
      " 6   gender                  13045 non-null  float64\n",
      " 7   height                  13045 non-null  float64\n",
      " 8   seniors_exercise_level  13045 non-null  float64\n",
      " 9   traits_language_code    13177 non-null  float64\n",
      " 10  os_name                 13178 non-null  int64  \n",
      " 11  device_type             13178 non-null  int64  \n",
      "dtypes: float64(8), int64(4)\n",
      "memory usage: 1.3 MB\n"
     ]
    }
   ],
   "source": [
    "datos.info()"
   ]
  },
  {
   "cell_type": "code",
   "execution_count": 146,
   "metadata": {},
   "outputs": [],
   "source": [
    "datos.dropna(inplace=True)"
   ]
  },
  {
   "cell_type": "code",
   "execution_count": 147,
   "metadata": {},
   "outputs": [
    {
     "data": {
      "image/png": "[encoded data removed]",
      "text/plain": [
       "<Figure size 2100.36x2000 with 30 Axes>"
      ]
     },
     "metadata": {},
     "output_type": "display_data"
    }
   ],
   "source": [
    "sns.pairplot(datos.dropna(),\n",
    "            hue='Baja_usuario',\n",
    "            height=4,\n",
    "            vars=[\"total_events\", \"total_months\",\"age\",\"gender\",\"seniors_exercise_level\"],\n",
    "            kind='reg'); "
   ]
  },
  {
   "cell_type": "code",
   "execution_count": 149,
   "metadata": {},
   "outputs": [],
   "source": [
    "X = np.array(datos.drop(['Baja_usuario'], axis=1))\n",
    "y = np.array(datos['Baja_usuario'])"
   ]
  },
  {
   "cell_type": "markdown",
   "metadata": {},
   "source": [
    "## Modelo Logistic Regresion"
   ]
  },
  {
   "cell_type": "code",
   "execution_count": 150,
   "metadata": {},
   "outputs": [],
   "source": [
    "from sklearn.linear_model import LogisticRegression"
   ]
  },
  {
   "cell_type": "code",
   "execution_count": 151,
   "metadata": {},
   "outputs": [
    {
     "data": {
      "text/html": [
       "<style>#sk-container-id-1 {color: black;}#sk-container-id-1 pre{padding: 0;}#sk-container-id-1 div.sk-toggleable {background-color: white;}#sk-container-id-1 label.sk-toggleable__label {cursor: pointer;display: block;width: 100%;margin-bottom: 0;padding: 0.3em;box-sizing: border-box;text-align: center;}#sk-container-id-1 label.sk-toggleable__label-arrow:before {content: \"▸\";float: left;margin-right: 0.25em;color: #696969;}#sk-container-id-1 label.sk-toggleable__label-arrow:hover:before {color: black;}#sk-container-id-1 div.sk-estimator:hover label.sk-toggleable__label-arrow:before {color: black;}#sk-container-id-1 div.sk-toggleable__content {max-height: 0;max-width: 0;overflow: hidden;text-align: left;background-color: #f0f8ff;}#sk-container-id-1 div.sk-toggleable__content pre {margin: 0.2em;color: black;border-radius: 0.25em;background-color: #f0f8ff;}#sk-container-id-1 input.sk-toggleable__control:checked~div.sk-toggleable__content {max-height: 200px;max-width: 100%;overflow: auto;}#sk-container-id-1 input.sk-toggleable__control:checked~label.sk-toggleable__label-arrow:before {content: \"▾\";}#sk-container-id-1 div.sk-estimator input.sk-toggleable__control:checked~label.sk-toggleable__label {background-color: #d4ebff;}#sk-container-id-1 div.sk-label input.sk-toggleable__control:checked~label.sk-toggleable__label {background-color: #d4ebff;}#sk-container-id-1 input.sk-hidden--visually {border: 0;clip: rect(1px 1px 1px 1px);clip: rect(1px, 1px, 1px, 1px);height: 1px;margin: -1px;overflow: hidden;padding: 0;position: absolute;width: 1px;}#sk-container-id-1 div.sk-estimator {font-family: monospace;background-color: #f0f8ff;border: 1px dotted black;border-radius: 0.25em;box-sizing: border-box;margin-bottom: 0.5em;}#sk-container-id-1 div.sk-estimator:hover {background-color: #d4ebff;}#sk-container-id-1 div.sk-parallel-item::after {content: \"\";width: 100%;border-bottom: 1px solid gray;flex-grow: 1;}#sk-container-id-1 div.sk-label:hover label.sk-toggleable__label {background-color: #d4ebff;}#sk-container-id-1 div.sk-serial::before {content: \"\";position: absolute;border-left: 1px solid gray;box-sizing: border-box;top: 0;bottom: 0;left: 50%;z-index: 0;}#sk-container-id-1 div.sk-serial {display: flex;flex-direction: column;align-items: center;background-color: white;padding-right: 0.2em;padding-left: 0.2em;position: relative;}#sk-container-id-1 div.sk-item {position: relative;z-index: 1;}#sk-container-id-1 div.sk-parallel {display: flex;align-items: stretch;justify-content: center;background-color: white;position: relative;}#sk-container-id-1 div.sk-item::before, #sk-container-id-1 div.sk-parallel-item::before {content: \"\";position: absolute;border-left: 1px solid gray;box-sizing: border-box;top: 0;bottom: 0;left: 50%;z-index: -1;}#sk-container-id-1 div.sk-parallel-item {display: flex;flex-direction: column;z-index: 1;position: relative;background-color: white;}#sk-container-id-1 div.sk-parallel-item:first-child::after {align-self: flex-end;width: 50%;}#sk-container-id-1 div.sk-parallel-item:last-child::after {align-self: flex-start;width: 50%;}#sk-container-id-1 div.sk-parallel-item:only-child::after {width: 0;}#sk-container-id-1 div.sk-dashed-wrapped {border: 1px dashed gray;margin: 0 0.4em 0.5em 0.4em;box-sizing: border-box;padding-bottom: 0.4em;background-color: white;}#sk-container-id-1 div.sk-label label {font-family: monospace;font-weight: bold;display: inline-block;line-height: 1.2em;}#sk-container-id-1 div.sk-label-container {text-align: center;}#sk-container-id-1 div.sk-container {/* jupyter's `normalize.less` sets `[hidden] { display: none; }` but bootstrap.min.css set `[hidden] { display: none !important; }` so we also need the `!important` here to be able to override the default hidden behavior on the sphinx rendered scikit-learn.org. See: https://github.com/scikit-learn/scikit-learn/issues/21755 */display: inline-block !important;position: relative;}#sk-container-id-1 div.sk-text-repr-fallback {display: none;}</style><div id=\"sk-container-id-1\" class=\"sk-top-container\"><div class=\"sk-text-repr-fallback\"><pre>LogisticRegression()</pre><b>In a Jupyter environment, please rerun this cell to show the HTML representation or trust the notebook. <br />On GitHub, the HTML representation is unable to render, please try loading this page with nbviewer.org.</b></div><div class=\"sk-container\" hidden><div class=\"sk-item\"><div class=\"sk-estimator sk-toggleable\"><input class=\"sk-toggleable__control sk-hidden--visually\" id=\"sk-estimator-id-1\" type=\"checkbox\" checked><label for=\"sk-estimator-id-1\" class=\"sk-toggleable__label sk-toggleable__label-arrow\">LogisticRegression</label><div class=\"sk-toggleable__content\"><pre>LogisticRegression()</pre></div></div></div></div></div>"
      ],
      "text/plain": [
       "LogisticRegression()"
      ]
     },
     "execution_count": 151,
     "metadata": {},
     "output_type": "execute_result"
    }
   ],
   "source": [
    "model = LogisticRegression()\n",
    "model.fit(X, y)"
   ]
  },
  {
   "cell_type": "code",
   "execution_count": 152,
   "metadata": {},
   "outputs": [
    {
     "name": "stdout",
     "output_type": "stream",
     "text": [
      "[1 1 1 ... 1 1 1]\n"
     ]
    }
   ],
   "source": [
    "predictions = model.predict(X)\n",
    "print(predictions)"
   ]
  },
  {
   "cell_type": "code",
   "execution_count": 153,
   "metadata": {},
   "outputs": [
    {
     "name": "stdout",
     "output_type": "stream",
     "text": [
      "[[0.32 0.68]\n",
      " [0.27 0.73]\n",
      " [0.1  0.9 ]\n",
      " ...\n",
      " [0.14 0.86]\n",
      " [0.25 0.75]\n",
      " [0.21 0.79]]\n"
     ]
    }
   ],
   "source": [
    "predicions_proba = model.predict_proba(X)\n",
    "print(np.round(np.array(predicions_proba), 2))"
   ]
  },
  {
   "cell_type": "code",
   "execution_count": 154,
   "metadata": {},
   "outputs": [
    {
     "data": {
      "text/plain": [
       "0.7756150086970927"
      ]
     },
     "execution_count": 154,
     "metadata": {},
     "output_type": "execute_result"
    }
   ],
   "source": [
    "model.score(X, y)\n",
    "### Este es el accuracy, un 77% de accuracy"
   ]
  },
  {
   "cell_type": "code",
   "execution_count": 156,
   "metadata": {},
   "outputs": [],
   "source": [
    "validation_size = 0.20\n",
    "seed = 7\n",
    "X_train, X_test, Y_train, Y_test = model_selection.train_test_split(X,\n",
    "                                                                    y,\n",
    "                                                                    test_size=validation_size,\n",
    "                                                                    random_state=seed)"
   ]
  },
  {
   "cell_type": "code",
   "execution_count": 157,
   "metadata": {},
   "outputs": [
    {
     "data": {
      "text/html": [
       "<style>#sk-container-id-2 {color: black;}#sk-container-id-2 pre{padding: 0;}#sk-container-id-2 div.sk-toggleable {background-color: white;}#sk-container-id-2 label.sk-toggleable__label {cursor: pointer;display: block;width: 100%;margin-bottom: 0;padding: 0.3em;box-sizing: border-box;text-align: center;}#sk-container-id-2 label.sk-toggleable__label-arrow:before {content: \"▸\";float: left;margin-right: 0.25em;color: #696969;}#sk-container-id-2 label.sk-toggleable__label-arrow:hover:before {color: black;}#sk-container-id-2 div.sk-estimator:hover label.sk-toggleable__label-arrow:before {color: black;}#sk-container-id-2 div.sk-toggleable__content {max-height: 0;max-width: 0;overflow: hidden;text-align: left;background-color: #f0f8ff;}#sk-container-id-2 div.sk-toggleable__content pre {margin: 0.2em;color: black;border-radius: 0.25em;background-color: #f0f8ff;}#sk-container-id-2 input.sk-toggleable__control:checked~div.sk-toggleable__content {max-height: 200px;max-width: 100%;overflow: auto;}#sk-container-id-2 input.sk-toggleable__control:checked~label.sk-toggleable__label-arrow:before {content: \"▾\";}#sk-container-id-2 div.sk-estimator input.sk-toggleable__control:checked~label.sk-toggleable__label {background-color: #d4ebff;}#sk-container-id-2 div.sk-label input.sk-toggleable__control:checked~label.sk-toggleable__label {background-color: #d4ebff;}#sk-container-id-2 input.sk-hidden--visually {border: 0;clip: rect(1px 1px 1px 1px);clip: rect(1px, 1px, 1px, 1px);height: 1px;margin: -1px;overflow: hidden;padding: 0;position: absolute;width: 1px;}#sk-container-id-2 div.sk-estimator {font-family: monospace;background-color: #f0f8ff;border: 1px dotted black;border-radius: 0.25em;box-sizing: border-box;margin-bottom: 0.5em;}#sk-container-id-2 div.sk-estimator:hover {background-color: #d4ebff;}#sk-container-id-2 div.sk-parallel-item::after {content: \"\";width: 100%;border-bottom: 1px solid gray;flex-grow: 1;}#sk-container-id-2 div.sk-label:hover label.sk-toggleable__label {background-color: #d4ebff;}#sk-container-id-2 div.sk-serial::before {content: \"\";position: absolute;border-left: 1px solid gray;box-sizing: border-box;top: 0;bottom: 0;left: 50%;z-index: 0;}#sk-container-id-2 div.sk-serial {display: flex;flex-direction: column;align-items: center;background-color: white;padding-right: 0.2em;padding-left: 0.2em;position: relative;}#sk-container-id-2 div.sk-item {position: relative;z-index: 1;}#sk-container-id-2 div.sk-parallel {display: flex;align-items: stretch;justify-content: center;background-color: white;position: relative;}#sk-container-id-2 div.sk-item::before, #sk-container-id-2 div.sk-parallel-item::before {content: \"\";position: absolute;border-left: 1px solid gray;box-sizing: border-box;top: 0;bottom: 0;left: 50%;z-index: -1;}#sk-container-id-2 div.sk-parallel-item {display: flex;flex-direction: column;z-index: 1;position: relative;background-color: white;}#sk-container-id-2 div.sk-parallel-item:first-child::after {align-self: flex-end;width: 50%;}#sk-container-id-2 div.sk-parallel-item:last-child::after {align-self: flex-start;width: 50%;}#sk-container-id-2 div.sk-parallel-item:only-child::after {width: 0;}#sk-container-id-2 div.sk-dashed-wrapped {border: 1px dashed gray;margin: 0 0.4em 0.5em 0.4em;box-sizing: border-box;padding-bottom: 0.4em;background-color: white;}#sk-container-id-2 div.sk-label label {font-family: monospace;font-weight: bold;display: inline-block;line-height: 1.2em;}#sk-container-id-2 div.sk-label-container {text-align: center;}#sk-container-id-2 div.sk-container {/* jupyter's `normalize.less` sets `[hidden] { display: none; }` but bootstrap.min.css set `[hidden] { display: none !important; }` so we also need the `!important` here to be able to override the default hidden behavior on the sphinx rendered scikit-learn.org. See: https://github.com/scikit-learn/scikit-learn/issues/21755 */display: inline-block !important;position: relative;}#sk-container-id-2 div.sk-text-repr-fallback {display: none;}</style><div id=\"sk-container-id-2\" class=\"sk-top-container\"><div class=\"sk-text-repr-fallback\"><pre>LogisticRegression()</pre><b>In a Jupyter environment, please rerun this cell to show the HTML representation or trust the notebook. <br />On GitHub, the HTML representation is unable to render, please try loading this page with nbviewer.org.</b></div><div class=\"sk-container\" hidden><div class=\"sk-item\"><div class=\"sk-estimator sk-toggleable\"><input class=\"sk-toggleable__control sk-hidden--visually\" id=\"sk-estimator-id-2\" type=\"checkbox\" checked><label for=\"sk-estimator-id-2\" class=\"sk-toggleable__label sk-toggleable__label-arrow\">LogisticRegression</label><div class=\"sk-toggleable__content\"><pre>LogisticRegression()</pre></div></div></div></div></div>"
      ],
      "text/plain": [
       "LogisticRegression()"
      ]
     },
     "execution_count": 157,
     "metadata": {},
     "output_type": "execute_result"
    }
   ],
   "source": [
    "model = LogisticRegression()\n",
    "model.fit(X_train, Y_train)"
   ]
  },
  {
   "cell_type": "code",
   "execution_count": 160,
   "metadata": {},
   "outputs": [
    {
     "name": "stdout",
     "output_type": "stream",
     "text": [
      "0.7718426501035197\n"
     ]
    }
   ],
   "source": [
    "predictions = model.predict(X_test)\n",
    "print(accuracy_score(Y_test, predictions))"
   ]
  },
  {
   "cell_type": "code",
   "execution_count": 161,
   "metadata": {},
   "outputs": [
    {
     "name": "stdout",
     "output_type": "stream",
     "text": [
      "Acierto: 77.18 %\n",
      "Error: 22.82 %\n"
     ]
    }
   ],
   "source": [
    "acierto = accuracy_score(Y_test, predictions)\n",
    "\n",
    "error = 1 - acierto\n",
    "print(\"Acierto:\", round(acierto*100, 2), \"%\")\n",
    "print(\"Error:\", round(error*100, 2), \"%\")"
   ]
  },
  {
   "cell_type": "code",
   "execution_count": 163,
   "metadata": {},
   "outputs": [
    {
     "name": "stdout",
     "output_type": "stream",
     "text": [
      "[[  32  536]\n",
      " [  15 1832]]\n"
     ]
    }
   ],
   "source": [
    "c_matrix = confusion_matrix(Y_test, predictions)\n",
    "print(c_matrix)"
   ]
  },
  {
   "cell_type": "code",
   "execution_count": 164,
   "metadata": {},
   "outputs": [
    {
     "data": {
      "image/png": "[encoded data removed]",
      "text/plain": [
       "<Figure size 640x480 with 2 Axes>"
      ]
     },
     "metadata": {},
     "output_type": "display_data"
    }
   ],
   "source": [
    "import seaborn as sns\n",
    "sns.heatmap(c_matrix, annot=True);"
   ]
  },
  {
   "cell_type": "code",
   "execution_count": 165,
   "metadata": {},
   "outputs": [
    {
     "data": {
      "image/png": "[encoded data removed]",
      "text/plain": [
       "<Figure size 640x480 with 2 Axes>"
      ]
     },
     "metadata": {},
     "output_type": "display_data"
    }
   ],
   "source": [
    "sns.heatmap(c_matrix/np.sum(c_matrix), annot=True, \n",
    "            fmt='.2%', cmap='Blues');"
   ]
  }
 ],
 "metadata": {
  "kernelspec": {
   "display_name": "eda_env",
   "language": "python",
   "name": "python3"
  },
  "language_info": {
   "codemirror_mode": {
    "name": "ipython",
    "version": 3
   },
   "file_extension": ".py",
   "mimetype": "text/x-python",
   "name": "python",
   "nbconvert_exporter": "python",
   "pygments_lexer": "ipython3",
   "version": "3.9.18"
  }
 },
 "nbformat": 4,
 "nbformat_minor": 2
}
