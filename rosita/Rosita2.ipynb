{
 "cells": [
  {
   "cell_type": "code",
   "execution_count": null,
   "metadata": {},
   "outputs": [],
   "source": []
  },
  {
   "cell_type": "code",
   "execution_count": 82,
   "metadata": {},
   "outputs": [],
   "source": [
    "################ Importar librerias ###############\n",
    "\n",
    "import pandas as pd\n",
    "import matplotlib as plt\n",
    "import numpy as np\n",
    "import json\n"
   ]
  },
  {
   "cell_type": "code",
   "execution_count": 83,
   "metadata": {},
   "outputs": [],
   "source": [
    "###### Datos SENIORS ##################\n",
    "seniors = pd.read_csv('./data/bq-results-20231116-seniors-sept22_march23.csv')\n"
   ]
  },
  {
   "cell_type": "code",
   "execution_count": 84,
   "metadata": {},
   "outputs": [
    {
     "name": "stdout",
     "output_type": "stream",
     "text": [
      "<class 'pandas.core.frame.DataFrame'>\n",
      "RangeIndex: 25149 entries, 0 to 25148\n",
      "Data columns (total 7 columns):\n",
      " #   Column                  Non-Null Count  Dtype  \n",
      "---  ------                  --------------  -----  \n",
      " 0   user_id                 25149 non-null  object \n",
      " 1   age                     20222 non-null  float64\n",
      " 2   gender                  20225 non-null  object \n",
      " 3   sex                     20208 non-null  object \n",
      " 4   height                  20208 non-null  float64\n",
      " 5   seniors_createdAt       25149 non-null  int64  \n",
      " 6   seniors_exercise_level  20205 non-null  float64\n",
      "dtypes: float64(3), int64(1), object(3)\n",
      "memory usage: 1.3+ MB\n"
     ]
    }
   ],
   "source": [
    "seniors.info()"
   ]
  },
  {
   "cell_type": "code",
   "execution_count": 85,
   "metadata": {},
   "outputs": [
    {
     "name": "stdout",
     "output_type": "stream",
     "text": [
      "<class 'pandas.core.frame.DataFrame'>\n",
      "Index: 20186 entries, 0 to 25147\n",
      "Data columns (total 7 columns):\n",
      " #   Column                  Non-Null Count  Dtype  \n",
      "---  ------                  --------------  -----  \n",
      " 0   user_id                 20186 non-null  object \n",
      " 1   age                     20186 non-null  float64\n",
      " 2   gender                  20186 non-null  object \n",
      " 3   sex                     20186 non-null  object \n",
      " 4   height                  20186 non-null  float64\n",
      " 5   seniors_createdAt       20186 non-null  int64  \n",
      " 6   seniors_exercise_level  20186 non-null  float64\n",
      "dtypes: float64(3), int64(1), object(3)\n",
      "memory usage: 1.2+ MB\n"
     ]
    }
   ],
   "source": [
    "########### Elimino las filas con null en alguna de las columnas ##################\n",
    "\n",
    "seniors.dropna(inplace=True)\n",
    "seniors.info()"
   ]
  },
  {
   "cell_type": "code",
   "execution_count": 86,
   "metadata": {},
   "outputs": [
    {
     "data": {
      "text/plain": [
       "20186"
      ]
     },
     "execution_count": 86,
     "metadata": {},
     "output_type": "execute_result"
    }
   ],
   "source": [
    "len(seniors['user_id'].unique())"
   ]
  },
  {
   "cell_type": "code",
   "execution_count": 87,
   "metadata": {},
   "outputs": [
    {
     "name": "stderr",
     "output_type": "stream",
     "text": [
      "/var/folders/vx/prmw3dv50nzckgs9dttm0c_h0000gn/T/ipykernel_16464/3658676397.py:1: DtypeWarning: Columns (20,21) have mixed types. Specify dtype option on import or set low_memory=False.\n",
      "  events1 = pd.read_csv('./data/bq-results-20231116-events_1.csv')\n"
     ]
    }
   ],
   "source": [
    "events1 = pd.read_csv('./data/bq-results-20231116-events_1.csv')"
   ]
  },
  {
   "cell_type": "code",
   "execution_count": 88,
   "metadata": {},
   "outputs": [
    {
     "name": "stdout",
     "output_type": "stream",
     "text": [
      "<class 'pandas.core.frame.DataFrame'>\n",
      "RangeIndex: 1018519 entries, 0 to 1018518\n",
      "Data columns (total 27 columns):\n",
      " #   Column                      Non-Null Count    Dtype  \n",
      "---  ------                      --------------    -----  \n",
      " 0   original_timestamp          1018519 non-null  object \n",
      " 1   event_name                  1018519 non-null  object \n",
      " 2   user_id                     1018507 non-null  object \n",
      " 3   app_version                 1018519 non-null  object \n",
      " 4   device_model                1018519 non-null  object \n",
      " 5   device_type                 1018519 non-null  object \n",
      " 6   locale                      1018519 non-null  object \n",
      " 7   os_name                     1018519 non-null  object \n",
      " 8   os_version                  1018519 non-null  object \n",
      " 9   screen_height               1018519 non-null  int64  \n",
      " 10  screen_width                1018519 non-null  int64  \n",
      " 11  timezone                    1018519 non-null  object \n",
      " 12  traits_age                  993528 non-null   float64\n",
      " 13  traits_call_time            14464 non-null    object \n",
      " 14  traits_created_at           1018507 non-null  float64\n",
      " 15  traits_connectivity_status  855873 non-null   object \n",
      " 16  traits_gender               993623 non-null   object \n",
      " 17  traits_height               985458 non-null   float64\n",
      " 18  traits_installer_store      477444 non-null   object \n",
      " 19  traits_is_admin             0 non-null        float64\n",
      " 20  traits_is_anonymous         16625 non-null    object \n",
      " 21  traits_sex                  2567 non-null     object \n",
      " 22  traits_weight               985612 non-null   float64\n",
      " 23  traits_language_code        1018502 non-null  object \n",
      " 24  traits_level                986948 non-null   float64\n",
      " 25  traits_main_goal            498458 non-null   object \n",
      " 26  traits_nutritional_goal     498458 non-null   object \n",
      "dtypes: float64(6), int64(2), object(19)\n",
      "memory usage: 209.8+ MB\n"
     ]
    }
   ],
   "source": [
    "events1.info()"
   ]
  },
  {
   "cell_type": "code",
   "execution_count": 89,
   "metadata": {},
   "outputs": [
    {
     "name": "stderr",
     "output_type": "stream",
     "text": [
      "/var/folders/vx/prmw3dv50nzckgs9dttm0c_h0000gn/T/ipykernel_16464/2894898877.py:1: DtypeWarning: Columns (21) have mixed types. Specify dtype option on import or set low_memory=False.\n",
      "  events2 = pd.read_csv('./data/bq-results-20231116-events_2.csv')\n"
     ]
    }
   ],
   "source": [
    "events2 = pd.read_csv('./data/bq-results-20231116-events_2.csv')"
   ]
  },
  {
   "cell_type": "code",
   "execution_count": 90,
   "metadata": {},
   "outputs": [
    {
     "name": "stdout",
     "output_type": "stream",
     "text": [
      "<class 'pandas.core.frame.DataFrame'>\n",
      "RangeIndex: 451124 entries, 0 to 451123\n",
      "Data columns (total 27 columns):\n",
      " #   Column                      Non-Null Count   Dtype  \n",
      "---  ------                      --------------   -----  \n",
      " 0   original_timestamp          451124 non-null  object \n",
      " 1   event_name                  451124 non-null  object \n",
      " 2   user_id                     423591 non-null  object \n",
      " 3   app_version                 448886 non-null  object \n",
      " 4   device_model                448886 non-null  object \n",
      " 5   device_type                 448886 non-null  object \n",
      " 6   locale                      448886 non-null  object \n",
      " 7   os_name                     448886 non-null  object \n",
      " 8   os_version                  448886 non-null  object \n",
      " 9   screen_height               448886 non-null  float64\n",
      " 10  screen_width                448886 non-null  float64\n",
      " 11  timezone                    448886 non-null  object \n",
      " 12  traits_age                  306559 non-null  float64\n",
      " 13  traits_call_time            16295 non-null   object \n",
      " 14  traits_created_at           421353 non-null  float64\n",
      " 15  traits_connectivity_status  317424 non-null  object \n",
      " 16  traits_gender               306688 non-null  object \n",
      " 17  traits_height               301539 non-null  float64\n",
      " 18  traits_installer_store      241545 non-null  object \n",
      " 19  traits_is_admin             0 non-null       float64\n",
      " 20  traits_is_anonymous         32328 non-null   object \n",
      " 21  traits_sex                  925 non-null     object \n",
      " 22  traits_weight               301684 non-null  float64\n",
      " 23  traits_language_code        421340 non-null  object \n",
      " 24  traits_level                303548 non-null  float64\n",
      " 25  traits_main_goal            182847 non-null  object \n",
      " 26  traits_nutritional_goal     182847 non-null  object \n",
      "dtypes: float64(8), object(19)\n",
      "memory usage: 92.9+ MB\n"
     ]
    }
   ],
   "source": [
    "events2.info()"
   ]
  },
  {
   "cell_type": "code",
   "execution_count": 91,
   "metadata": {},
   "outputs": [
    {
     "data": {
      "text/plain": [
       "77"
      ]
     },
     "execution_count": 91,
     "metadata": {},
     "output_type": "execute_result"
    }
   ],
   "source": [
    "len(events2.event_name.unique())"
   ]
  },
  {
   "cell_type": "code",
   "execution_count": 92,
   "metadata": {},
   "outputs": [
    {
     "name": "stderr",
     "output_type": "stream",
     "text": [
      "/var/folders/vx/prmw3dv50nzckgs9dttm0c_h0000gn/T/ipykernel_16464/1752341454.py:1: DtypeWarning: Columns (21) have mixed types. Specify dtype option on import or set low_memory=False.\n",
      "  events3 = pd.read_csv('./data/bq-results-20231116-events_3.csv')\n"
     ]
    }
   ],
   "source": [
    "events3 = pd.read_csv('./data/bq-results-20231116-events_3.csv')"
   ]
  },
  {
   "cell_type": "code",
   "execution_count": 93,
   "metadata": {},
   "outputs": [
    {
     "name": "stdout",
     "output_type": "stream",
     "text": [
      "<class 'pandas.core.frame.DataFrame'>\n",
      "RangeIndex: 1715800 entries, 0 to 1715799\n",
      "Data columns (total 27 columns):\n",
      " #   Column                      Dtype  \n",
      "---  ------                      -----  \n",
      " 0   original_timestamp          object \n",
      " 1   event_name                  object \n",
      " 2   user_id                     object \n",
      " 3   app_version                 object \n",
      " 4   device_model                object \n",
      " 5   device_type                 object \n",
      " 6   locale                      object \n",
      " 7   os_name                     object \n",
      " 8   os_version                  object \n",
      " 9   screen_height               float64\n",
      " 10  screen_width                float64\n",
      " 11  timezone                    object \n",
      " 12  traits_age                  float64\n",
      " 13  traits_call_time            object \n",
      " 14  traits_created_at           float64\n",
      " 15  traits_connectivity_status  object \n",
      " 16  traits_gender               object \n",
      " 17  traits_height               float64\n",
      " 18  traits_installer_store      object \n",
      " 19  traits_is_admin             float64\n",
      " 20  traits_is_anonymous         object \n",
      " 21  traits_sex                  object \n",
      " 22  traits_weight               float64\n",
      " 23  traits_language_code        object \n",
      " 24  traits_level                float64\n",
      " 25  traits_main_goal            object \n",
      " 26  traits_nutritional_goal     object \n",
      "dtypes: float64(8), object(19)\n",
      "memory usage: 353.4+ MB\n"
     ]
    }
   ],
   "source": [
    "events3.info()"
   ]
  },
  {
   "cell_type": "code",
   "execution_count": 94,
   "metadata": {},
   "outputs": [
    {
     "data": {
      "text/plain": [
       "array(['video_player_restart_popup_confirm_button_pressed',\n",
       "       'profile_plan_section_plan_create_pressed',\n",
       "       'onboarding2nd_visit_lpcompleted_screen_seen',\n",
       "       'custom_dialog_pressed',\n",
       "       'mini_longevity_plancan_put_socks_continue_button_pressed_shown',\n",
       "       'mini_longevity_planmain_goal_continue_button_pressed_pressed',\n",
       "       'country_picker_dialog_opened', 'free_trial_intro_pressed',\n",
       "       'mlpform_results_seen', 'application_updated',\n",
       "       'chat_bot_counter_updated', 'push_notification_access_granted',\n",
       "       'crop_button_shown', 'chat_bot_pressed',\n",
       "       'chromecast_cancel_pressed',\n",
       "       'purchase_error_options_screen_button_shown',\n",
       "       'registration_add_weight_pressed', 'paywall_button_pressed',\n",
       "       'error_purchase_popup_closed',\n",
       "       'mini_longevity_planmetabolic_diseases_continue_button_pressed_shown',\n",
       "       'enter_phone_button_pressed', 'application_opened_referred',\n",
       "       'skip_paywall_button_pressed',\n",
       "       'product_page_continue_button_pressed',\n",
       "       'onboarding2nd_visit_no_lpcompleted_screen_seen',\n",
       "       'confirmation_screen_continue_pressed',\n",
       "       'mini_longevity_planuser_name_continue_button_pressed_pressed',\n",
       "       'profile_english_button_pressed', 'feed_error_retry_button_shown',\n",
       "       'product_page_continue_pressed', 'onboarding_video_stop',\n",
       "       'longevity_nav_bar_button_pressed',\n",
       "       'onboarding_paywall_more_subscriptions_chat_button',\n",
       "       'tutorialhighlighted_recommendation_button_pressed',\n",
       "       'next_activity_continue_shown',\n",
       "       'onboarding_exercise_level_start_button_pressed',\n",
       "       'dismiss_disclaimer_button_pressed',\n",
       "       'product_page_continue_button_shown', 'onboarding_phase2_complete',\n",
       "       'profile_woman_button_pressed', 'plan_progress_continue_pressed',\n",
       "       'modal_bottom_sheet_paywall_unlock_button_pressed_shown',\n",
       "       'sign_in_with_apple_tapped',\n",
       "       'modal_bottom_sheet_paywall_more_info_button_pressed_pressed',\n",
       "       'onboarding_paywall_screen_c_seen',\n",
       "       'mini_longevity_planhas_fear_walking_after_rain_continue_button_pressed_shown',\n",
       "       'product_page_changed', 'billing_screen_back_to_feed_pressed',\n",
       "       'thanks_for_your_business_continue_shown',\n",
       "       'prime_benefits_screen_shown', 'survey_screen_shown',\n",
       "       'waiting_room_share_activity_button_pressed',\n",
       "       'google_login_failed', 'crop_button_pressed',\n",
       "       'challenges_continue_button_pressed', 'profile_update_pressed',\n",
       "       'mini_longevity_planperceived_health_continue_button_pressed_shown',\n",
       "       'chat_bot_answer_chosen', 'identifies', 'fake_button_for_devs',\n",
       "       'onboarding_goal_continue_button_pressed',\n",
       "       'type_control_total_cholesterol_keys_total_cholesterol_pressed',\n",
       "       'request_phone_call_me_button_pressed',\n",
       "       'rosita_prime_soft_sell_learn_details_pressed',\n",
       "       'unnamed_card_tap_button_pressed',\n",
       "       'retake_two_minute_step_test_pressed',\n",
       "       'my_prime_account_screen_intercom_button_pressed',\n",
       "       'welcome_trial_es_pressed', 'phone_missing_alert_shown',\n",
       "       'push_notification_activity_payload_shown',\n",
       "       'chat_bot_answer_button_shown',\n",
       "       'mini_longevity_planpains1_continue_button_pressed_shown',\n",
       "       'purchase_error_request_phone_call_screen_phone_call_requested',\n",
       "       'profile_metric_dialog_pressed', 'onboarding_faqbutton_shown',\n",
       "       'itinerary_unsubscribe_button_pressed',\n",
       "       'chatbot_object_question_pressed', 'enter_otpbutton_shown',\n",
       "       'paywall_intercom_display_messenger_button_pressed',\n",
       "       'splash_intro_screen_login', 'redeeme_code_success',\n",
       "       'onboarding_push_notification_loading_screen_shown',\n",
       "       'mini_longevity_planpains2_continue_button_pressed_pressed',\n",
       "       'redeeme_code_pressed',\n",
       "       'mini_longevity_planmedical_condition_heart_continue_button_pressed_pressed',\n",
       "       'mini_longevity_planheight_continue_button_pressed_shown',\n",
       "       'application_installed', 'onboarding_motivation_button_pressed',\n",
       "       'profile_men_button_pressed', 'live_chat_message_sent',\n",
       "       'splash_intro_screen2_continue_shown',\n",
       "       'mini_longevity_planperceived_health_continue_button_pressed_pressed',\n",
       "       'paywall_intercom_display_messenger_button_pressed_pressed',\n",
       "       'paywall_screen_shown', 'request_phone_number_screen_shown',\n",
       "       'mini_longevity_planpain_pathologies_continue_button_pressed_shown',\n",
       "       'feed_error_restart_button_shown', 'next_activity_cancel_shown',\n",
       "       'enter_otpbutton_pressed',\n",
       "       'mini_longevity_planpains2_continue_button_pressed_shown',\n",
       "       'update_plan_button_shown', 'app_bar_back_pressed',\n",
       "       'video_consumed_75', 'survey_received',\n",
       "       'onboarding_motivational_table_screen_seen',\n",
       "       'update_plan_results_screen_shown',\n",
       "       'push_notification_onboarding_flow_opened',\n",
       "       'update_plan_results_screen_continue_shown',\n",
       "       'about_screen_pdflink_pressed', 'login_with_account',\n",
       "       'mini_longevity_planage_continue_button_pressed_pressed',\n",
       "       'favorites_toggle_button_shown',\n",
       "       'video_player_restart_popup_cancel_button_pressed',\n",
       "       'mini_longevity_planweight_continue_button_pressed_shown',\n",
       "       'calendar_up_next_activity_tapped', 'next_activity_cancel_pressed',\n",
       "       'weekly_subscription_reminder_popup_see_benefits_pressed',\n",
       "       'start_assessment_iniciamos_el_test_de_fuerza_en_brazos_pressed',\n",
       "       'push_notification_activity_opened', 'live_activity_call_joined',\n",
       "       'request_user_name_screen_continue_button_pressed_shown',\n",
       "       'chatbot_conversation_ended_pressed', 'onboarding_faqscreen_seen',\n",
       "       'longevity_plan_results_continue_shown', 'chromecast_cancel_shown',\n",
       "       'prime_account_reactivate_account_shown',\n",
       "       'enter_phone_button_shown', 'onboarding_faqbutton_pressed',\n",
       "       'splash_intro_screen6_continue_pressed',\n",
       "       'purchase_error_request_discount_screen_seen',\n",
       "       'tutorialyour_programs_button_pressed', 'programs_plan_pressed'],\n",
       "      dtype=object)"
      ]
     },
     "execution_count": 94,
     "metadata": {},
     "output_type": "execute_result"
    }
   ],
   "source": [
    "events3.event_name.unique()"
   ]
  },
  {
   "cell_type": "code",
   "execution_count": 95,
   "metadata": {},
   "outputs": [
    {
     "name": "stderr",
     "output_type": "stream",
     "text": [
      "/var/folders/vx/prmw3dv50nzckgs9dttm0c_h0000gn/T/ipykernel_16464/4216786783.py:1: DtypeWarning: Columns (13,21) have mixed types. Specify dtype option on import or set low_memory=False.\n",
      "  events4 = pd.read_csv('./data/bq-results-20231116-events_4.csv')\n"
     ]
    }
   ],
   "source": [
    "events4 = pd.read_csv('./data/bq-results-20231116-events_4.csv')"
   ]
  },
  {
   "cell_type": "code",
   "execution_count": 96,
   "metadata": {},
   "outputs": [
    {
     "name": "stdout",
     "output_type": "stream",
     "text": [
      "<class 'pandas.core.frame.DataFrame'>\n",
      "RangeIndex: 2628815 entries, 0 to 2628814\n",
      "Data columns (total 27 columns):\n",
      " #   Column                      Dtype  \n",
      "---  ------                      -----  \n",
      " 0   original_timestamp          object \n",
      " 1   event_name                  object \n",
      " 2   user_id                     object \n",
      " 3   app_version                 object \n",
      " 4   device_model                object \n",
      " 5   device_type                 object \n",
      " 6   locale                      object \n",
      " 7   os_name                     object \n",
      " 8   os_version                  object \n",
      " 9   screen_height               int64  \n",
      " 10  screen_width                int64  \n",
      " 11  timezone                    object \n",
      " 12  traits_age                  float64\n",
      " 13  traits_call_time            object \n",
      " 14  traits_created_at           float64\n",
      " 15  traits_connectivity_status  object \n",
      " 16  traits_gender               object \n",
      " 17  traits_height               float64\n",
      " 18  traits_installer_store      object \n",
      " 19  traits_is_admin             float64\n",
      " 20  traits_is_anonymous         object \n",
      " 21  traits_sex                  object \n",
      " 22  traits_weight               float64\n",
      " 23  traits_language_code        object \n",
      " 24  traits_level                float64\n",
      " 25  traits_main_goal            object \n",
      " 26  traits_nutritional_goal     object \n",
      "dtypes: float64(6), int64(2), object(19)\n",
      "memory usage: 541.5+ MB\n"
     ]
    }
   ],
   "source": [
    "events4.info()"
   ]
  },
  {
   "cell_type": "code",
   "execution_count": 97,
   "metadata": {},
   "outputs": [
    {
     "data": {
      "text/plain": [
       "array(['home_screen_app_logo_pressed', 'video_orientation_changed',\n",
       "       'splash_intro_screen4_continue_shown',\n",
       "       'itinerary_unsubscribe_button_shown', 'paywall_seen',\n",
       "       'registration_women_button_pressed',\n",
       "       'rosita_prime_soft_sell_not_now_pressed', 'splash_screen_seen',\n",
       "       'video_pause_overlay_restart_button',\n",
       "       'chat_group_screen_item_pressed', 'faqarrow_drop_down_pressed',\n",
       "       'confirmation_screen_continue_shown',\n",
       "       'paywall_review_button_pressed',\n",
       "       'onboarding_paywall_redeem_code_button',\n",
       "       'chat_bot_answer_button_pressed', 'login_with_account_pressed',\n",
       "       'profile_image_camera_pressed',\n",
       "       'waiting_room_continue_video_button_pressed',\n",
       "       'mini_longevity_plannutritional_goal_continue_button_pressed_pressed',\n",
       "       'request_user_name_screen_continue_button_pressed_pressed',\n",
       "       'video_consumed_50', 'billing_screen_free_trial_see_plans_pressed',\n",
       "       'recommendation_physical_test_pressed',\n",
       "       'trial_class_selection_survey_continue_pressed',\n",
       "       'assessment_results_continue_pressed', 'after_paywall_screen_seen',\n",
       "       'modal_bottom_sheet_paywall_unlock_button_pressed_pressed',\n",
       "       'request_phone_number_screen_seen',\n",
       "       'mini_longevity_planmain_goal_continue_button_pressed_shown',\n",
       "       'post_request_phone_screen_continue_button_pressed_pressed',\n",
       "       'mini_longevity_planbone_muscle_pathologies_continue_button_pressed_pressed',\n",
       "       'thanks_for_your_business_continue_pressed',\n",
       "       'upgrade_version_popup_accepted',\n",
       "       'push_notification_access_requested',\n",
       "       'request_user_name_screen_seen',\n",
       "       'push_notification_access_request_accepted',\n",
       "       'registration_add_height_pressed',\n",
       "       'mini_longevity_plansport_activities_continue_button_pressed_pressed',\n",
       "       'after_paywall_screen_continue_button_pressed_pressed',\n",
       "       'product_pages_seen', 'profile_image_gallery_shown',\n",
       "       'mini_longevity_planweight_continue_button_pressed_pressed',\n",
       "       'paywall_faq_seen', 'splash_intro_screen3_continue_pressed',\n",
       "       'introduction_screen0_button_pressed', 'missing_indicators_shown',\n",
       "       'app_in_background_force_closed', 'video_finished',\n",
       "       'request_phone_send_message_button_pressed',\n",
       "       'live_event_finished_continue_not_subscribed_shown',\n",
       "       'paywall_faq_button_pressed', 'mlpform_seen',\n",
       "       'otpverification_success', 'product_page_continue_button_slided',\n",
       "       'next_activity_continue_pressed',\n",
       "       'request_phone_call_time_screen_seen',\n",
       "       'onboarding_paywall_cbutton_shown',\n",
       "       'mini_longevity_planmedical_condition_heart_continue_button_pressed_shown',\n",
       "       'push_notification_access_request_denied',\n",
       "       'onboarding_quotes_button_pressed',\n",
       "       'intercom_notification_indicator_button_pressed', 'warning_raised',\n",
       "       'start_assessment_pressed',\n",
       "       'onboarding_paywall_other_options_button',\n",
       "       'unsubscribe_popup_cancel_button_pressed',\n",
       "       'onboarding_phase1_complete', 'rscore_info_button_pressed',\n",
       "       'chat_bot_conversation_started',\n",
       "       'request_phone_call_time_screen_call_time_morning_pressed_pressed',\n",
       "       'read_more_or_less_link_pressed',\n",
       "       'onboarding2nd_visit_lpcompleted_button_pressed',\n",
       "       'on_boarding_skip_button', 'delete_account_button_pressed',\n",
       "       'purchase_error_contact_screen_button_shown',\n",
       "       'onboarding_video_loading_screen_shown',\n",
       "       'mini_longevity_planbone_muscle_pathologies_continue_button_pressed_shown',\n",
       "       'post_request_phone_number_screen_seen', 'live_activity_call_left',\n",
       "       'purchase_error_request_discount_screen_button_pressed',\n",
       "       'start_assessment_iniciamos_el_test_de_fuerza_en_piernas_pressed',\n",
       "       'updating_plan_loading_screen_shown',\n",
       "       'type_control_total_cholesterol_keys_hdl_pressed',\n",
       "       'bottom_tab_type_my_group_tab_button_pressed',\n",
       "       'enter_phone_number_free_trial_button_pressed',\n",
       "       'pre_request_call_pressed',\n",
       "       'video_pause_overlay_continue_button_pressed',\n",
       "       'profile_metric_button_pressed',\n",
       "       'update_plan_screen_button_pressed',\n",
       "       'mini_longevity_planheight_continue_button_pressed_pressed',\n",
       "       'paywall_screen_concluded_with_purchase',\n",
       "       'mini_longevity_plannutritional_goal_continue_button_pressed_shown',\n",
       "       'prime_account_reactivate_account_pressed',\n",
       "       'mini_longevity_planhas_fear_walking_after_rain_continue_button_pressed_pressed',\n",
       "       'chat_bot_conversation_completed',\n",
       "       'activities_nav_bar_button_pressed', 'thank_you_page_screen_shown',\n",
       "       'programs_screen_shown', 'application_backgrounded',\n",
       "       'purchase_error_contact_screen_exit',\n",
       "       'splash_intro_screen3_continue_shown', 'exercise_es_shown',\n",
       "       'plan_creation_start_pressed',\n",
       "       'registration_gender_men_button_pressed',\n",
       "       'onboarding_quotes_button_shown',\n",
       "       'waiting_room_watch_video_button_pressed', 'go_back_home_pressed',\n",
       "       'chatbot_object_question_show',\n",
       "       'skip_paywall_button_pressed_pressed', 'connectivity_changed',\n",
       "       'onboarding_paywall_more_subscriptions_button_pressed',\n",
       "       'welcome_to_rosita_screen_shown',\n",
       "       'onboarding_video_native_back_pressed',\n",
       "       'update_plan_results_screen_continue_button_shown',\n",
       "       'mlploading_screen_shown', 'recorded_video_stop',\n",
       "       'request_phone_call_time_screen_call_time_evening_pressed_shown',\n",
       "       'social_proof_screen_seen', 'watch_video_button_shown',\n",
       "       'weekly_subscription_reminder_popup_pay_pressed',\n",
       "       'live_event_finished_continue_not_subscribed_pressed',\n",
       "       'purchase_cancelled', 'onboarding_paywall_button_pressed',\n",
       "       'video_pause_overlay_exit_button_pressed',\n",
       "       'activities_screen_shown',\n",
       "       'mini_longevity_planmedical_condition_breathing_continue_button_pressed_shown',\n",
       "       'onboarding_paywall_cbutton_pressed',\n",
       "       'push_notification_access_denied', 'chat_room_screen_seen',\n",
       "       'profile_image_cancel_pressed', 'weekly_progress_button_shown',\n",
       "       'redeeme_code_wrong', 'paywall_free_trial_button_pressed',\n",
       "       'push_notification_pillar_of_longevity_activity_opened'],\n",
       "      dtype=object)"
      ]
     },
     "execution_count": 97,
     "metadata": {},
     "output_type": "execute_result"
    }
   ],
   "source": [
    "events4.event_name.unique()"
   ]
  },
  {
   "cell_type": "code",
   "execution_count": 98,
   "metadata": {},
   "outputs": [],
   "source": [
    "################# Me voy a quedar solo con los events1 de los id que estan en seniors ##################\n",
    "seniors_id=seniors['user_id'].tolist()\n",
    "filtered_events1 = events1[events1['user_id'].isin(seniors_id)]"
   ]
  },
  {
   "cell_type": "code",
   "execution_count": 99,
   "metadata": {},
   "outputs": [
    {
     "data": {
      "text/html": [
       "<div>\n",
       "<style scoped>\n",
       "    .dataframe tbody tr th:only-of-type {\n",
       "        vertical-align: middle;\n",
       "    }\n",
       "\n",
       "    .dataframe tbody tr th {\n",
       "        vertical-align: top;\n",
       "    }\n",
       "\n",
       "    .dataframe thead th {\n",
       "        text-align: right;\n",
       "    }\n",
       "</style>\n",
       "<table border=\"1\" class=\"dataframe\">\n",
       "  <thead>\n",
       "    <tr style=\"text-align: right;\">\n",
       "      <th></th>\n",
       "      <th>original_timestamp</th>\n",
       "      <th>event_name</th>\n",
       "      <th>user_id</th>\n",
       "      <th>app_version</th>\n",
       "      <th>device_model</th>\n",
       "      <th>device_type</th>\n",
       "      <th>locale</th>\n",
       "      <th>os_name</th>\n",
       "      <th>os_version</th>\n",
       "      <th>screen_height</th>\n",
       "      <th>...</th>\n",
       "      <th>traits_height</th>\n",
       "      <th>traits_installer_store</th>\n",
       "      <th>traits_is_admin</th>\n",
       "      <th>traits_is_anonymous</th>\n",
       "      <th>traits_sex</th>\n",
       "      <th>traits_weight</th>\n",
       "      <th>traits_language_code</th>\n",
       "      <th>traits_level</th>\n",
       "      <th>traits_main_goal</th>\n",
       "      <th>traits_nutritional_goal</th>\n",
       "    </tr>\n",
       "  </thead>\n",
       "  <tbody>\n",
       "    <tr>\n",
       "      <th>6</th>\n",
       "      <td>2022-12-15 08:51:13.635 UTC</td>\n",
       "      <td>video_consumed_1min</td>\n",
       "      <td>MPrEBJVXGTSbNYhKdpnNmzTCY9D2</td>\n",
       "      <td>0.6.6</td>\n",
       "      <td>SM-A515F</td>\n",
       "      <td>android</td>\n",
       "      <td>es-ES</td>\n",
       "      <td>Android</td>\n",
       "      <td>12</td>\n",
       "      <td>2186</td>\n",
       "      <td>...</td>\n",
       "      <td>167.0</td>\n",
       "      <td>NaN</td>\n",
       "      <td>NaN</td>\n",
       "      <td>NaN</td>\n",
       "      <td>NaN</td>\n",
       "      <td>58.0</td>\n",
       "      <td>es</td>\n",
       "      <td>1.0</td>\n",
       "      <td>NaN</td>\n",
       "      <td>NaN</td>\n",
       "    </tr>\n",
       "    <tr>\n",
       "      <th>7</th>\n",
       "      <td>2022-12-15 08:52:13.63 UTC</td>\n",
       "      <td>video_consumed_1min</td>\n",
       "      <td>MPrEBJVXGTSbNYhKdpnNmzTCY9D2</td>\n",
       "      <td>0.6.6</td>\n",
       "      <td>SM-A515F</td>\n",
       "      <td>android</td>\n",
       "      <td>es-ES</td>\n",
       "      <td>Android</td>\n",
       "      <td>12</td>\n",
       "      <td>2186</td>\n",
       "      <td>...</td>\n",
       "      <td>167.0</td>\n",
       "      <td>NaN</td>\n",
       "      <td>NaN</td>\n",
       "      <td>NaN</td>\n",
       "      <td>NaN</td>\n",
       "      <td>58.0</td>\n",
       "      <td>es</td>\n",
       "      <td>1.0</td>\n",
       "      <td>NaN</td>\n",
       "      <td>NaN</td>\n",
       "    </tr>\n",
       "    <tr>\n",
       "      <th>8</th>\n",
       "      <td>2022-12-15 09:17:29.777 UTC</td>\n",
       "      <td>video_consumed_1min</td>\n",
       "      <td>GaI9Zu0zgFVNvQSBu2sCd06gffz1</td>\n",
       "      <td>0.6.0</td>\n",
       "      <td>iPhone8,2</td>\n",
       "      <td>ios</td>\n",
       "      <td>es-ES</td>\n",
       "      <td>iOS</td>\n",
       "      <td>15.7.1</td>\n",
       "      <td>736</td>\n",
       "      <td>...</td>\n",
       "      <td>159.0</td>\n",
       "      <td>NaN</td>\n",
       "      <td>NaN</td>\n",
       "      <td>NaN</td>\n",
       "      <td>NaN</td>\n",
       "      <td>57.0</td>\n",
       "      <td>es</td>\n",
       "      <td>1.0</td>\n",
       "      <td>NaN</td>\n",
       "      <td>NaN</td>\n",
       "    </tr>\n",
       "    <tr>\n",
       "      <th>9</th>\n",
       "      <td>2022-12-15 09:22:29.833 UTC</td>\n",
       "      <td>video_consumed_1min</td>\n",
       "      <td>GaI9Zu0zgFVNvQSBu2sCd06gffz1</td>\n",
       "      <td>0.6.0</td>\n",
       "      <td>iPhone8,2</td>\n",
       "      <td>ios</td>\n",
       "      <td>es-ES</td>\n",
       "      <td>iOS</td>\n",
       "      <td>15.7.1</td>\n",
       "      <td>736</td>\n",
       "      <td>...</td>\n",
       "      <td>159.0</td>\n",
       "      <td>NaN</td>\n",
       "      <td>NaN</td>\n",
       "      <td>NaN</td>\n",
       "      <td>NaN</td>\n",
       "      <td>57.0</td>\n",
       "      <td>es</td>\n",
       "      <td>1.0</td>\n",
       "      <td>NaN</td>\n",
       "      <td>NaN</td>\n",
       "    </tr>\n",
       "    <tr>\n",
       "      <th>10</th>\n",
       "      <td>2022-12-15 09:25:29.877 UTC</td>\n",
       "      <td>video_consumed_1min</td>\n",
       "      <td>GaI9Zu0zgFVNvQSBu2sCd06gffz1</td>\n",
       "      <td>0.6.0</td>\n",
       "      <td>iPhone8,2</td>\n",
       "      <td>ios</td>\n",
       "      <td>es-ES</td>\n",
       "      <td>iOS</td>\n",
       "      <td>15.7.1</td>\n",
       "      <td>736</td>\n",
       "      <td>...</td>\n",
       "      <td>159.0</td>\n",
       "      <td>NaN</td>\n",
       "      <td>NaN</td>\n",
       "      <td>NaN</td>\n",
       "      <td>NaN</td>\n",
       "      <td>57.0</td>\n",
       "      <td>es</td>\n",
       "      <td>1.0</td>\n",
       "      <td>NaN</td>\n",
       "      <td>NaN</td>\n",
       "    </tr>\n",
       "  </tbody>\n",
       "</table>\n",
       "<p>5 rows × 27 columns</p>\n",
       "</div>"
      ],
      "text/plain": [
       "             original_timestamp           event_name  \\\n",
       "6   2022-12-15 08:51:13.635 UTC  video_consumed_1min   \n",
       "7    2022-12-15 08:52:13.63 UTC  video_consumed_1min   \n",
       "8   2022-12-15 09:17:29.777 UTC  video_consumed_1min   \n",
       "9   2022-12-15 09:22:29.833 UTC  video_consumed_1min   \n",
       "10  2022-12-15 09:25:29.877 UTC  video_consumed_1min   \n",
       "\n",
       "                         user_id app_version device_model device_type locale  \\\n",
       "6   MPrEBJVXGTSbNYhKdpnNmzTCY9D2       0.6.6     SM-A515F     android  es-ES   \n",
       "7   MPrEBJVXGTSbNYhKdpnNmzTCY9D2       0.6.6     SM-A515F     android  es-ES   \n",
       "8   GaI9Zu0zgFVNvQSBu2sCd06gffz1       0.6.0    iPhone8,2         ios  es-ES   \n",
       "9   GaI9Zu0zgFVNvQSBu2sCd06gffz1       0.6.0    iPhone8,2         ios  es-ES   \n",
       "10  GaI9Zu0zgFVNvQSBu2sCd06gffz1       0.6.0    iPhone8,2         ios  es-ES   \n",
       "\n",
       "    os_name os_version  screen_height  ...  traits_height  \\\n",
       "6   Android         12           2186  ...          167.0   \n",
       "7   Android         12           2186  ...          167.0   \n",
       "8       iOS     15.7.1            736  ...          159.0   \n",
       "9       iOS     15.7.1            736  ...          159.0   \n",
       "10      iOS     15.7.1            736  ...          159.0   \n",
       "\n",
       "   traits_installer_store  traits_is_admin traits_is_anonymous  traits_sex  \\\n",
       "6                     NaN              NaN                 NaN         NaN   \n",
       "7                     NaN              NaN                 NaN         NaN   \n",
       "8                     NaN              NaN                 NaN         NaN   \n",
       "9                     NaN              NaN                 NaN         NaN   \n",
       "10                    NaN              NaN                 NaN         NaN   \n",
       "\n",
       "   traits_weight traits_language_code  traits_level traits_main_goal  \\\n",
       "6           58.0                   es           1.0              NaN   \n",
       "7           58.0                   es           1.0              NaN   \n",
       "8           57.0                   es           1.0              NaN   \n",
       "9           57.0                   es           1.0              NaN   \n",
       "10          57.0                   es           1.0              NaN   \n",
       "\n",
       "    traits_nutritional_goal  \n",
       "6                       NaN  \n",
       "7                       NaN  \n",
       "8                       NaN  \n",
       "9                       NaN  \n",
       "10                      NaN  \n",
       "\n",
       "[5 rows x 27 columns]"
      ]
     },
     "execution_count": 99,
     "metadata": {},
     "output_type": "execute_result"
    }
   ],
   "source": [
    "filtered_events1.head()"
   ]
  },
  {
   "cell_type": "code",
   "execution_count": 100,
   "metadata": {},
   "outputs": [
    {
     "data": {
      "text/plain": [
       "array(['video_consumed_1min', 'video_consumed_90', 'video_consumed_10'],\n",
       "      dtype=object)"
      ]
     },
     "execution_count": 100,
     "metadata": {},
     "output_type": "execute_result"
    }
   ],
   "source": [
    "filtered_events1['event_name'].unique()"
   ]
  },
  {
   "cell_type": "code",
   "execution_count": 101,
   "metadata": {},
   "outputs": [
    {
     "data": {
      "text/plain": [
       "original_timestamp                 0\n",
       "event_name                         0\n",
       "user_id                            0\n",
       "app_version                        0\n",
       "device_model                       0\n",
       "device_type                        0\n",
       "locale                             0\n",
       "os_name                            0\n",
       "os_version                         0\n",
       "screen_height                      0\n",
       "screen_width                       0\n",
       "timezone                           0\n",
       "traits_age                     22858\n",
       "traits_call_time              235899\n",
       "traits_created_at                  0\n",
       "traits_connectivity_status     57645\n",
       "traits_gender                  22858\n",
       "traits_height                  29638\n",
       "traits_installer_store        105319\n",
       "traits_is_admin               249336\n",
       "traits_is_anonymous           237637\n",
       "traits_sex                    248440\n",
       "traits_weight                  29458\n",
       "traits_language_code               0\n",
       "traits_level                   25994\n",
       "traits_main_goal              108629\n",
       "traits_nutritional_goal       108629\n",
       "dtype: int64"
      ]
     },
     "execution_count": 101,
     "metadata": {},
     "output_type": "execute_result"
    }
   ],
   "source": [
    "filtered_events1.isnull().sum()"
   ]
  },
  {
   "cell_type": "markdown",
   "metadata": {},
   "source": [
    "### Voy a guardar los goals para los usuarios en seniors"
   ]
  },
  {
   "cell_type": "code",
   "execution_count": 102,
   "metadata": {},
   "outputs": [],
   "source": [
    "goals1 = filtered_events1[['user_id', 'traits_main_goal','traits_nutritional_goal']]"
   ]
  },
  {
   "cell_type": "code",
   "execution_count": 103,
   "metadata": {},
   "outputs": [],
   "source": [
    "goals1 = goals1.drop_duplicates(subset='user_id')"
   ]
  },
  {
   "cell_type": "code",
   "execution_count": 104,
   "metadata": {},
   "outputs": [],
   "source": [
    "goals1.dropna(inplace=True)"
   ]
  },
  {
   "cell_type": "code",
   "execution_count": 105,
   "metadata": {},
   "outputs": [
    {
     "data": {
      "text/html": [
       "<div>\n",
       "<style scoped>\n",
       "    .dataframe tbody tr th:only-of-type {\n",
       "        vertical-align: middle;\n",
       "    }\n",
       "\n",
       "    .dataframe tbody tr th {\n",
       "        vertical-align: top;\n",
       "    }\n",
       "\n",
       "    .dataframe thead th {\n",
       "        text-align: right;\n",
       "    }\n",
       "</style>\n",
       "<table border=\"1\" class=\"dataframe\">\n",
       "  <thead>\n",
       "    <tr style=\"text-align: right;\">\n",
       "      <th></th>\n",
       "      <th>user_id</th>\n",
       "      <th>traits_main_goal</th>\n",
       "      <th>traits_nutritional_goal</th>\n",
       "    </tr>\n",
       "  </thead>\n",
       "  <tbody>\n",
       "    <tr>\n",
       "      <th>29</th>\n",
       "      <td>QERm7ubmg9cvxJSzSczHxPLv4BX2</td>\n",
       "      <td>feelBetter</td>\n",
       "      <td>improveNutrition</td>\n",
       "    </tr>\n",
       "    <tr>\n",
       "      <th>31</th>\n",
       "      <td>xjyafoTkwBRalUMz3QJh3ze2mKo1</td>\n",
       "      <td>feelBetter</td>\n",
       "      <td>none</td>\n",
       "    </tr>\n",
       "    <tr>\n",
       "      <th>32</th>\n",
       "      <td>kWszsTo8zoPuLrhHPDpHvQJKaFe2</td>\n",
       "      <td>feelBetter</td>\n",
       "      <td>loseWeight</td>\n",
       "    </tr>\n",
       "    <tr>\n",
       "      <th>33</th>\n",
       "      <td>5b6YWquNE3g3jEqrqYuwUmaNS233</td>\n",
       "      <td>feelBetter</td>\n",
       "      <td>loseWeight</td>\n",
       "    </tr>\n",
       "    <tr>\n",
       "      <th>34</th>\n",
       "      <td>Vw6V7XybuLX9yDwETEpV7MC62612</td>\n",
       "      <td>stayActive</td>\n",
       "      <td>improveNutrition</td>\n",
       "    </tr>\n",
       "    <tr>\n",
       "      <th>...</th>\n",
       "      <td>...</td>\n",
       "      <td>...</td>\n",
       "      <td>...</td>\n",
       "    </tr>\n",
       "    <tr>\n",
       "      <th>963469</th>\n",
       "      <td>lcEBSb4xEMTjqYJa5boKHSW2XLr1</td>\n",
       "      <td>reducePain</td>\n",
       "      <td>improveNutrition</td>\n",
       "    </tr>\n",
       "    <tr>\n",
       "      <th>966664</th>\n",
       "      <td>ERbD0yGic8TF6klZDWMjF0yikIM2</td>\n",
       "      <td>feelBetter</td>\n",
       "      <td>loseWeight</td>\n",
       "    </tr>\n",
       "    <tr>\n",
       "      <th>982308</th>\n",
       "      <td>SJz4Lbbc9RTCWv09LlnrrCDNAN52</td>\n",
       "      <td>stayActive</td>\n",
       "      <td>increaseMuscle</td>\n",
       "    </tr>\n",
       "    <tr>\n",
       "      <th>991003</th>\n",
       "      <td>0RznpuV61AWKqTtxd3XlqbccRgW2</td>\n",
       "      <td>feelBetter</td>\n",
       "      <td>improveNutrition</td>\n",
       "    </tr>\n",
       "    <tr>\n",
       "      <th>991297</th>\n",
       "      <td>DYzGNQLYcfRAM8JVTe9f331EUl33</td>\n",
       "      <td>stayActive</td>\n",
       "      <td>increaseMuscle</td>\n",
       "    </tr>\n",
       "  </tbody>\n",
       "</table>\n",
       "<p>5636 rows × 3 columns</p>\n",
       "</div>"
      ],
      "text/plain": [
       "                             user_id traits_main_goal traits_nutritional_goal\n",
       "29      QERm7ubmg9cvxJSzSczHxPLv4BX2       feelBetter        improveNutrition\n",
       "31      xjyafoTkwBRalUMz3QJh3ze2mKo1       feelBetter                    none\n",
       "32      kWszsTo8zoPuLrhHPDpHvQJKaFe2       feelBetter              loseWeight\n",
       "33      5b6YWquNE3g3jEqrqYuwUmaNS233       feelBetter              loseWeight\n",
       "34      Vw6V7XybuLX9yDwETEpV7MC62612       stayActive        improveNutrition\n",
       "...                              ...              ...                     ...\n",
       "963469  lcEBSb4xEMTjqYJa5boKHSW2XLr1       reducePain        improveNutrition\n",
       "966664  ERbD0yGic8TF6klZDWMjF0yikIM2       feelBetter              loseWeight\n",
       "982308  SJz4Lbbc9RTCWv09LlnrrCDNAN52       stayActive          increaseMuscle\n",
       "991003  0RznpuV61AWKqTtxd3XlqbccRgW2       feelBetter        improveNutrition\n",
       "991297  DYzGNQLYcfRAM8JVTe9f331EUl33       stayActive          increaseMuscle\n",
       "\n",
       "[5636 rows x 3 columns]"
      ]
     },
     "execution_count": 105,
     "metadata": {},
     "output_type": "execute_result"
    }
   ],
   "source": [
    "goals1"
   ]
  },
  {
   "cell_type": "code",
   "execution_count": 106,
   "metadata": {},
   "outputs": [
    {
     "data": {
      "text/plain": [
       "5636"
      ]
     },
     "execution_count": 106,
     "metadata": {},
     "output_type": "execute_result"
    }
   ],
   "source": [
    "len(goals1['user_id'].unique())"
   ]
  },
  {
   "cell_type": "code",
   "execution_count": 107,
   "metadata": {},
   "outputs": [
    {
     "name": "stderr",
     "output_type": "stream",
     "text": [
      "/var/folders/vx/prmw3dv50nzckgs9dttm0c_h0000gn/T/ipykernel_16464/2857398555.py:3: SettingWithCopyWarning: \n",
      "A value is trying to be set on a copy of a slice from a DataFrame\n",
      "\n",
      "See the caveats in the documentation: https://pandas.pydata.org/pandas-docs/stable/user_guide/indexing.html#returning-a-view-versus-a-copy\n",
      "  filtered_events1.drop(['traits_age','traits_call_time','traits_connectivity_status','traits_gender','traits_height',\n"
     ]
    }
   ],
   "source": [
    "################# Borro las columnas con valores null ######################\n",
    "\n",
    "filtered_events1.drop(['traits_age','traits_call_time','traits_connectivity_status','traits_gender','traits_height',\n",
    "                       'traits_installer_store','traits_is_admin','traits_is_anonymous','traits_sex','traits_weight',\n",
    "                       'traits_level','traits_main_goal','traits_nutritional_goal'],axis=1,inplace=True)\n"
   ]
  },
  {
   "cell_type": "code",
   "execution_count": 108,
   "metadata": {},
   "outputs": [
    {
     "name": "stdout",
     "output_type": "stream",
     "text": [
      "<class 'pandas.core.frame.DataFrame'>\n",
      "Index: 249336 entries, 6 to 1018517\n",
      "Data columns (total 14 columns):\n",
      " #   Column                Non-Null Count   Dtype  \n",
      "---  ------                --------------   -----  \n",
      " 0   original_timestamp    249336 non-null  object \n",
      " 1   event_name            249336 non-null  object \n",
      " 2   user_id               249336 non-null  object \n",
      " 3   app_version           249336 non-null  object \n",
      " 4   device_model          249336 non-null  object \n",
      " 5   device_type           249336 non-null  object \n",
      " 6   locale                249336 non-null  object \n",
      " 7   os_name               249336 non-null  object \n",
      " 8   os_version            249336 non-null  object \n",
      " 9   screen_height         249336 non-null  int64  \n",
      " 10  screen_width          249336 non-null  int64  \n",
      " 11  timezone              249336 non-null  object \n",
      " 12  traits_created_at     249336 non-null  float64\n",
      " 13  traits_language_code  249336 non-null  object \n",
      "dtypes: float64(1), int64(2), object(11)\n",
      "memory usage: 28.5+ MB\n"
     ]
    }
   ],
   "source": [
    "filtered_events1.info()"
   ]
  },
  {
   "cell_type": "code",
   "execution_count": 109,
   "metadata": {},
   "outputs": [],
   "source": [
    "###################### Me quedo solo con los usuarios que estan en seniors #########\n",
    "\n",
    "filtered_events2 = events2[events2['user_id'].isin(seniors_id)]"
   ]
  },
  {
   "cell_type": "code",
   "execution_count": 110,
   "metadata": {},
   "outputs": [
    {
     "data": {
      "text/plain": [
       "original_timestamp                 0\n",
       "event_name                         0\n",
       "user_id                            0\n",
       "app_version                      388\n",
       "device_model                     388\n",
       "device_type                      388\n",
       "locale                           388\n",
       "os_name                          388\n",
       "os_version                       388\n",
       "screen_height                    388\n",
       "screen_width                     388\n",
       "timezone                         388\n",
       "traits_age                    106840\n",
       "traits_call_time              208509\n",
       "traits_created_at                388\n",
       "traits_connectivity_status     87190\n",
       "traits_gender                 106840\n",
       "traits_height                 111605\n",
       "traits_installer_store         82848\n",
       "traits_is_admin               223244\n",
       "traits_is_anonymous           194988\n",
       "traits_sex                    223047\n",
       "traits_weight                 111438\n",
       "traits_language_code             388\n",
       "traits_level                  107390\n",
       "traits_main_goal              141452\n",
       "traits_nutritional_goal       141452\n",
       "dtype: int64"
      ]
     },
     "execution_count": 110,
     "metadata": {},
     "output_type": "execute_result"
    }
   ],
   "source": [
    "filtered_events2.isnull().sum()"
   ]
  },
  {
   "cell_type": "markdown",
   "metadata": {},
   "source": [
    "### Guardo goals para usuarios seniors"
   ]
  },
  {
   "cell_type": "code",
   "execution_count": 111,
   "metadata": {},
   "outputs": [
    {
     "name": "stderr",
     "output_type": "stream",
     "text": [
      "/var/folders/vx/prmw3dv50nzckgs9dttm0c_h0000gn/T/ipykernel_16464/1469387517.py:2: SettingWithCopyWarning: \n",
      "A value is trying to be set on a copy of a slice from a DataFrame\n",
      "\n",
      "See the caveats in the documentation: https://pandas.pydata.org/pandas-docs/stable/user_guide/indexing.html#returning-a-view-versus-a-copy\n",
      "  goals2.dropna(inplace=True)\n"
     ]
    }
   ],
   "source": [
    "goals2 = filtered_events2[['user_id', 'traits_main_goal','traits_nutritional_goal']]\n",
    "goals2.dropna(inplace=True)"
   ]
  },
  {
   "cell_type": "code",
   "execution_count": 112,
   "metadata": {},
   "outputs": [],
   "source": [
    "goals2 = goals2.drop_duplicates(subset='user_id')"
   ]
  },
  {
   "cell_type": "code",
   "execution_count": 113,
   "metadata": {},
   "outputs": [
    {
     "data": {
      "text/html": [
       "<div>\n",
       "<style scoped>\n",
       "    .dataframe tbody tr th:only-of-type {\n",
       "        vertical-align: middle;\n",
       "    }\n",
       "\n",
       "    .dataframe tbody tr th {\n",
       "        vertical-align: top;\n",
       "    }\n",
       "\n",
       "    .dataframe thead th {\n",
       "        text-align: right;\n",
       "    }\n",
       "</style>\n",
       "<table border=\"1\" class=\"dataframe\">\n",
       "  <thead>\n",
       "    <tr style=\"text-align: right;\">\n",
       "      <th></th>\n",
       "      <th>user_id</th>\n",
       "      <th>traits_main_goal</th>\n",
       "      <th>traits_nutritional_goal</th>\n",
       "    </tr>\n",
       "  </thead>\n",
       "  <tbody>\n",
       "    <tr>\n",
       "      <th>70</th>\n",
       "      <td>uGPjfZCS13N4TJoOw1WA2CCrSsl1</td>\n",
       "      <td>loseWeight</td>\n",
       "      <td>loseWeight</td>\n",
       "    </tr>\n",
       "    <tr>\n",
       "      <th>71</th>\n",
       "      <td>WBITUOgYCxgIb5L3GrtpWfjL3Hk2</td>\n",
       "      <td>stayActive</td>\n",
       "      <td>increaseMuscle</td>\n",
       "    </tr>\n",
       "    <tr>\n",
       "      <th>279</th>\n",
       "      <td>N9uArTyDIsdfKkCGyJ50PgPco413</td>\n",
       "      <td>feelBetter</td>\n",
       "      <td>improveNutrition</td>\n",
       "    </tr>\n",
       "    <tr>\n",
       "      <th>553</th>\n",
       "      <td>c9KvlAdTNJVTCKvfMl0ahncMK7h1</td>\n",
       "      <td>stayActive</td>\n",
       "      <td>increaseMuscle</td>\n",
       "    </tr>\n",
       "    <tr>\n",
       "      <th>892</th>\n",
       "      <td>DQZfi2XO6XPZffPnL5PC7nNqjyK2</td>\n",
       "      <td>loseWeight</td>\n",
       "      <td>loseWeight</td>\n",
       "    </tr>\n",
       "    <tr>\n",
       "      <th>...</th>\n",
       "      <td>...</td>\n",
       "      <td>...</td>\n",
       "      <td>...</td>\n",
       "    </tr>\n",
       "    <tr>\n",
       "      <th>450966</th>\n",
       "      <td>RjOqlTVdCUNiqSLoGFXtvkJvwhc2</td>\n",
       "      <td>stayActive</td>\n",
       "      <td>increaseMuscle</td>\n",
       "    </tr>\n",
       "    <tr>\n",
       "      <th>450968</th>\n",
       "      <td>JPAYYrXPD9WH5PheNpQ5caM5MR72</td>\n",
       "      <td>stayActive</td>\n",
       "      <td>increaseMuscle</td>\n",
       "    </tr>\n",
       "    <tr>\n",
       "      <th>451017</th>\n",
       "      <td>l0OPAU62auQgR9FrZgMEtZUiaYW2</td>\n",
       "      <td>stayActive</td>\n",
       "      <td>none</td>\n",
       "    </tr>\n",
       "    <tr>\n",
       "      <th>451018</th>\n",
       "      <td>ldZClE4pvqNWxMByJmv8iDAlgVS2</td>\n",
       "      <td>feelBetter</td>\n",
       "      <td>loseWeight</td>\n",
       "    </tr>\n",
       "    <tr>\n",
       "      <th>451019</th>\n",
       "      <td>gDtT7XjCFeTmAJWMzduEOJIw7ah1</td>\n",
       "      <td>stayActive</td>\n",
       "      <td>increaseMuscle</td>\n",
       "    </tr>\n",
       "  </tbody>\n",
       "</table>\n",
       "<p>7304 rows × 3 columns</p>\n",
       "</div>"
      ],
      "text/plain": [
       "                             user_id traits_main_goal traits_nutritional_goal\n",
       "70      uGPjfZCS13N4TJoOw1WA2CCrSsl1       loseWeight              loseWeight\n",
       "71      WBITUOgYCxgIb5L3GrtpWfjL3Hk2       stayActive          increaseMuscle\n",
       "279     N9uArTyDIsdfKkCGyJ50PgPco413       feelBetter        improveNutrition\n",
       "553     c9KvlAdTNJVTCKvfMl0ahncMK7h1       stayActive          increaseMuscle\n",
       "892     DQZfi2XO6XPZffPnL5PC7nNqjyK2       loseWeight              loseWeight\n",
       "...                              ...              ...                     ...\n",
       "450966  RjOqlTVdCUNiqSLoGFXtvkJvwhc2       stayActive          increaseMuscle\n",
       "450968  JPAYYrXPD9WH5PheNpQ5caM5MR72       stayActive          increaseMuscle\n",
       "451017  l0OPAU62auQgR9FrZgMEtZUiaYW2       stayActive                    none\n",
       "451018  ldZClE4pvqNWxMByJmv8iDAlgVS2       feelBetter              loseWeight\n",
       "451019  gDtT7XjCFeTmAJWMzduEOJIw7ah1       stayActive          increaseMuscle\n",
       "\n",
       "[7304 rows x 3 columns]"
      ]
     },
     "execution_count": 113,
     "metadata": {},
     "output_type": "execute_result"
    }
   ],
   "source": [
    "goals2"
   ]
  },
  {
   "cell_type": "code",
   "execution_count": 114,
   "metadata": {},
   "outputs": [
    {
     "name": "stderr",
     "output_type": "stream",
     "text": [
      "/var/folders/vx/prmw3dv50nzckgs9dttm0c_h0000gn/T/ipykernel_16464/1289080139.py:3: SettingWithCopyWarning: \n",
      "A value is trying to be set on a copy of a slice from a DataFrame\n",
      "\n",
      "See the caveats in the documentation: https://pandas.pydata.org/pandas-docs/stable/user_guide/indexing.html#returning-a-view-versus-a-copy\n",
      "  filtered_events2.drop(['traits_age','traits_call_time','traits_connectivity_status','traits_gender','traits_height',\n"
     ]
    }
   ],
   "source": [
    "############# Suprimo las mismas columnas que en events1 #################\n",
    "\n",
    "filtered_events2.drop(['traits_age','traits_call_time','traits_connectivity_status','traits_gender','traits_height',\n",
    "                       'traits_installer_store','traits_is_admin','traits_is_anonymous','traits_sex','traits_weight',\n",
    "                       'traits_level','traits_main_goal','traits_nutritional_goal'],axis=1,inplace=True)"
   ]
  },
  {
   "cell_type": "code",
   "execution_count": 115,
   "metadata": {},
   "outputs": [
    {
     "name": "stdout",
     "output_type": "stream",
     "text": [
      "<class 'pandas.core.frame.DataFrame'>\n",
      "Index: 223244 entries, 70 to 451078\n",
      "Data columns (total 14 columns):\n",
      " #   Column                Non-Null Count   Dtype  \n",
      "---  ------                --------------   -----  \n",
      " 0   original_timestamp    223244 non-null  object \n",
      " 1   event_name            223244 non-null  object \n",
      " 2   user_id               223244 non-null  object \n",
      " 3   app_version           222856 non-null  object \n",
      " 4   device_model          222856 non-null  object \n",
      " 5   device_type           222856 non-null  object \n",
      " 6   locale                222856 non-null  object \n",
      " 7   os_name               222856 non-null  object \n",
      " 8   os_version            222856 non-null  object \n",
      " 9   screen_height         222856 non-null  float64\n",
      " 10  screen_width          222856 non-null  float64\n",
      " 11  timezone              222856 non-null  object \n",
      " 12  traits_created_at     222856 non-null  float64\n",
      " 13  traits_language_code  222856 non-null  object \n",
      "dtypes: float64(3), object(11)\n",
      "memory usage: 25.5+ MB\n"
     ]
    }
   ],
   "source": [
    "filtered_events2.info()"
   ]
  },
  {
   "cell_type": "code",
   "execution_count": 116,
   "metadata": {},
   "outputs": [
    {
     "name": "stderr",
     "output_type": "stream",
     "text": [
      "/var/folders/vx/prmw3dv50nzckgs9dttm0c_h0000gn/T/ipykernel_16464/426517288.py:1: SettingWithCopyWarning: \n",
      "A value is trying to be set on a copy of a slice from a DataFrame\n",
      "\n",
      "See the caveats in the documentation: https://pandas.pydata.org/pandas-docs/stable/user_guide/indexing.html#returning-a-view-versus-a-copy\n",
      "  filtered_events2.dropna(inplace=True)\n"
     ]
    }
   ],
   "source": [
    "filtered_events2.dropna(inplace=True)"
   ]
  },
  {
   "cell_type": "code",
   "execution_count": 117,
   "metadata": {},
   "outputs": [
    {
     "data": {
      "text/plain": [
       "19717"
      ]
     },
     "execution_count": 117,
     "metadata": {},
     "output_type": "execute_result"
    }
   ],
   "source": [
    "len(filtered_events2['user_id'].unique())"
   ]
  },
  {
   "cell_type": "code",
   "execution_count": 118,
   "metadata": {},
   "outputs": [
    {
     "name": "stdout",
     "output_type": "stream",
     "text": [
      "<class 'pandas.core.frame.DataFrame'>\n",
      "Index: 222856 entries, 70 to 451078\n",
      "Data columns (total 14 columns):\n",
      " #   Column                Non-Null Count   Dtype  \n",
      "---  ------                --------------   -----  \n",
      " 0   original_timestamp    222856 non-null  object \n",
      " 1   event_name            222856 non-null  object \n",
      " 2   user_id               222856 non-null  object \n",
      " 3   app_version           222856 non-null  object \n",
      " 4   device_model          222856 non-null  object \n",
      " 5   device_type           222856 non-null  object \n",
      " 6   locale                222856 non-null  object \n",
      " 7   os_name               222856 non-null  object \n",
      " 8   os_version            222856 non-null  object \n",
      " 9   screen_height         222856 non-null  float64\n",
      " 10  screen_width          222856 non-null  float64\n",
      " 11  timezone              222856 non-null  object \n",
      " 12  traits_created_at     222856 non-null  float64\n",
      " 13  traits_language_code  222856 non-null  object \n",
      "dtypes: float64(3), object(11)\n",
      "memory usage: 25.5+ MB\n"
     ]
    }
   ],
   "source": [
    "filtered_events2.info()"
   ]
  },
  {
   "cell_type": "code",
   "execution_count": 119,
   "metadata": {},
   "outputs": [],
   "source": [
    "############# Me quedo solo con los user_id que estan en seniors################\n",
    "\n",
    "filtered_events3 = events3[events3['user_id'].isin(seniors_id)]"
   ]
  },
  {
   "cell_type": "code",
   "execution_count": 120,
   "metadata": {},
   "outputs": [
    {
     "data": {
      "text/plain": [
       "original_timestamp                 0\n",
       "event_name                         0\n",
       "user_id                            0\n",
       "app_version                      388\n",
       "device_model                     388\n",
       "device_type                      388\n",
       "locale                           388\n",
       "os_name                          388\n",
       "os_version                       388\n",
       "screen_height                    388\n",
       "screen_width                     388\n",
       "timezone                         388\n",
       "traits_age                    364717\n",
       "traits_call_time              805219\n",
       "traits_created_at                395\n",
       "traits_connectivity_status    335722\n",
       "traits_gender                 364717\n",
       "traits_height                 393784\n",
       "traits_installer_store        298530\n",
       "traits_is_admin               842948\n",
       "traits_is_anonymous           724510\n",
       "traits_sex                    842525\n",
       "traits_weight                 393068\n",
       "traits_language_code             395\n",
       "traits_level                  366618\n",
       "traits_main_goal              499531\n",
       "traits_nutritional_goal       499531\n",
       "dtype: int64"
      ]
     },
     "execution_count": 120,
     "metadata": {},
     "output_type": "execute_result"
    }
   ],
   "source": [
    "filtered_events3.isnull().sum()"
   ]
  },
  {
   "cell_type": "markdown",
   "metadata": {},
   "source": [
    "### Goals3"
   ]
  },
  {
   "cell_type": "code",
   "execution_count": 121,
   "metadata": {},
   "outputs": [
    {
     "name": "stderr",
     "output_type": "stream",
     "text": [
      "/var/folders/vx/prmw3dv50nzckgs9dttm0c_h0000gn/T/ipykernel_16464/447556452.py:2: SettingWithCopyWarning: \n",
      "A value is trying to be set on a copy of a slice from a DataFrame\n",
      "\n",
      "See the caveats in the documentation: https://pandas.pydata.org/pandas-docs/stable/user_guide/indexing.html#returning-a-view-versus-a-copy\n",
      "  goals3.dropna(inplace=True)\n"
     ]
    }
   ],
   "source": [
    "goals3 = filtered_events3[['user_id', 'traits_main_goal','traits_nutritional_goal']]\n",
    "goals3.dropna(inplace=True)"
   ]
  },
  {
   "cell_type": "code",
   "execution_count": 122,
   "metadata": {},
   "outputs": [],
   "source": [
    "goals3 = goals3.drop_duplicates(subset='user_id')"
   ]
  },
  {
   "cell_type": "code",
   "execution_count": 123,
   "metadata": {},
   "outputs": [
    {
     "data": {
      "text/html": [
       "<div>\n",
       "<style scoped>\n",
       "    .dataframe tbody tr th:only-of-type {\n",
       "        vertical-align: middle;\n",
       "    }\n",
       "\n",
       "    .dataframe tbody tr th {\n",
       "        vertical-align: top;\n",
       "    }\n",
       "\n",
       "    .dataframe thead th {\n",
       "        text-align: right;\n",
       "    }\n",
       "</style>\n",
       "<table border=\"1\" class=\"dataframe\">\n",
       "  <thead>\n",
       "    <tr style=\"text-align: right;\">\n",
       "      <th></th>\n",
       "      <th>user_id</th>\n",
       "      <th>traits_main_goal</th>\n",
       "      <th>traits_nutritional_goal</th>\n",
       "    </tr>\n",
       "  </thead>\n",
       "  <tbody>\n",
       "    <tr>\n",
       "      <th>2</th>\n",
       "      <td>tQtaLJRHBzd1UnGQioJG67xJicg2</td>\n",
       "      <td>stayActive</td>\n",
       "      <td>increaseMuscle</td>\n",
       "    </tr>\n",
       "    <tr>\n",
       "      <th>4</th>\n",
       "      <td>jcEA7b3hyUQCdI2izrgAOzATSXL2</td>\n",
       "      <td>feelBetter</td>\n",
       "      <td>increaseMuscle</td>\n",
       "    </tr>\n",
       "    <tr>\n",
       "      <th>6</th>\n",
       "      <td>sSFzMbIBsSXMFQHnUwH7BI4unZl1</td>\n",
       "      <td>feelBetter</td>\n",
       "      <td>loseWeight</td>\n",
       "    </tr>\n",
       "    <tr>\n",
       "      <th>12</th>\n",
       "      <td>6ZKUApelLdf4M6L8SHUyYvXKcOd2</td>\n",
       "      <td>reducePain</td>\n",
       "      <td>loseWeight</td>\n",
       "    </tr>\n",
       "    <tr>\n",
       "      <th>13</th>\n",
       "      <td>avPYgJIi4RaKRdzAYY7fKuIX2x52</td>\n",
       "      <td>stayActive</td>\n",
       "      <td>increaseMuscle</td>\n",
       "    </tr>\n",
       "    <tr>\n",
       "      <th>...</th>\n",
       "      <td>...</td>\n",
       "      <td>...</td>\n",
       "      <td>...</td>\n",
       "    </tr>\n",
       "    <tr>\n",
       "      <th>1614570</th>\n",
       "      <td>eKMYJHV8o1R2DQlKMvzpTIHAoy02</td>\n",
       "      <td>reducePain</td>\n",
       "      <td>loseWeight</td>\n",
       "    </tr>\n",
       "    <tr>\n",
       "      <th>1614586</th>\n",
       "      <td>y0KFhd42qpdH5wC7Sz5VasBjgq13</td>\n",
       "      <td>stayActive</td>\n",
       "      <td>improveNutrition</td>\n",
       "    </tr>\n",
       "    <tr>\n",
       "      <th>1615845</th>\n",
       "      <td>7xlaMVD692QplhF34J2sEcX3xRe2</td>\n",
       "      <td>feelBetter</td>\n",
       "      <td>loseWeight</td>\n",
       "    </tr>\n",
       "    <tr>\n",
       "      <th>1615858</th>\n",
       "      <td>x329Ddauf7aCQK2sq407vqlm95e2</td>\n",
       "      <td>loseWeight</td>\n",
       "      <td>loseWeight</td>\n",
       "    </tr>\n",
       "    <tr>\n",
       "      <th>1615871</th>\n",
       "      <td>5drJA7ikITdLr0xBEfwOdCXTYfi1</td>\n",
       "      <td>reducePain</td>\n",
       "      <td>loseWeight</td>\n",
       "    </tr>\n",
       "  </tbody>\n",
       "</table>\n",
       "<p>9834 rows × 3 columns</p>\n",
       "</div>"
      ],
      "text/plain": [
       "                              user_id traits_main_goal traits_nutritional_goal\n",
       "2        tQtaLJRHBzd1UnGQioJG67xJicg2       stayActive          increaseMuscle\n",
       "4        jcEA7b3hyUQCdI2izrgAOzATSXL2       feelBetter          increaseMuscle\n",
       "6        sSFzMbIBsSXMFQHnUwH7BI4unZl1       feelBetter              loseWeight\n",
       "12       6ZKUApelLdf4M6L8SHUyYvXKcOd2       reducePain              loseWeight\n",
       "13       avPYgJIi4RaKRdzAYY7fKuIX2x52       stayActive          increaseMuscle\n",
       "...                               ...              ...                     ...\n",
       "1614570  eKMYJHV8o1R2DQlKMvzpTIHAoy02       reducePain              loseWeight\n",
       "1614586  y0KFhd42qpdH5wC7Sz5VasBjgq13       stayActive        improveNutrition\n",
       "1615845  7xlaMVD692QplhF34J2sEcX3xRe2       feelBetter              loseWeight\n",
       "1615858  x329Ddauf7aCQK2sq407vqlm95e2       loseWeight              loseWeight\n",
       "1615871  5drJA7ikITdLr0xBEfwOdCXTYfi1       reducePain              loseWeight\n",
       "\n",
       "[9834 rows x 3 columns]"
      ]
     },
     "execution_count": 123,
     "metadata": {},
     "output_type": "execute_result"
    }
   ],
   "source": [
    "goals3"
   ]
  },
  {
   "cell_type": "code",
   "execution_count": 124,
   "metadata": {},
   "outputs": [
    {
     "name": "stderr",
     "output_type": "stream",
     "text": [
      "/var/folders/vx/prmw3dv50nzckgs9dttm0c_h0000gn/T/ipykernel_16464/1984556292.py:3: SettingWithCopyWarning: \n",
      "A value is trying to be set on a copy of a slice from a DataFrame\n",
      "\n",
      "See the caveats in the documentation: https://pandas.pydata.org/pandas-docs/stable/user_guide/indexing.html#returning-a-view-versus-a-copy\n",
      "  filtered_events3.drop(['traits_age','traits_call_time','traits_connectivity_status','traits_gender','traits_height',\n"
     ]
    }
   ],
   "source": [
    "################### Drop de las mismas columnas que en events1 y events2 ####################\n",
    "\n",
    "filtered_events3.drop(['traits_age','traits_call_time','traits_connectivity_status','traits_gender','traits_height',\n",
    "                       'traits_installer_store','traits_is_admin','traits_is_anonymous','traits_sex','traits_weight',\n",
    "                       'traits_level','traits_main_goal','traits_nutritional_goal'],axis=1,inplace=True)"
   ]
  },
  {
   "cell_type": "code",
   "execution_count": 125,
   "metadata": {},
   "outputs": [
    {
     "name": "stdout",
     "output_type": "stream",
     "text": [
      "<class 'pandas.core.frame.DataFrame'>\n",
      "Index: 842948 entries, 1 to 1715796\n",
      "Data columns (total 14 columns):\n",
      " #   Column                Non-Null Count   Dtype  \n",
      "---  ------                --------------   -----  \n",
      " 0   original_timestamp    842948 non-null  object \n",
      " 1   event_name            842948 non-null  object \n",
      " 2   user_id               842948 non-null  object \n",
      " 3   app_version           842560 non-null  object \n",
      " 4   device_model          842560 non-null  object \n",
      " 5   device_type           842560 non-null  object \n",
      " 6   locale                842560 non-null  object \n",
      " 7   os_name               842560 non-null  object \n",
      " 8   os_version            842560 non-null  object \n",
      " 9   screen_height         842560 non-null  float64\n",
      " 10  screen_width          842560 non-null  float64\n",
      " 11  timezone              842560 non-null  object \n",
      " 12  traits_created_at     842553 non-null  float64\n",
      " 13  traits_language_code  842553 non-null  object \n",
      "dtypes: float64(3), object(11)\n",
      "memory usage: 96.5+ MB\n"
     ]
    }
   ],
   "source": [
    "filtered_events3.info()"
   ]
  },
  {
   "cell_type": "code",
   "execution_count": 126,
   "metadata": {},
   "outputs": [
    {
     "name": "stderr",
     "output_type": "stream",
     "text": [
      "/var/folders/vx/prmw3dv50nzckgs9dttm0c_h0000gn/T/ipykernel_16464/1075793628.py:1: SettingWithCopyWarning: \n",
      "A value is trying to be set on a copy of a slice from a DataFrame\n",
      "\n",
      "See the caveats in the documentation: https://pandas.pydata.org/pandas-docs/stable/user_guide/indexing.html#returning-a-view-versus-a-copy\n",
      "  filtered_events3.dropna(inplace=True)\n"
     ]
    }
   ],
   "source": [
    "filtered_events3.dropna(inplace=True)"
   ]
  },
  {
   "cell_type": "code",
   "execution_count": 127,
   "metadata": {},
   "outputs": [
    {
     "name": "stdout",
     "output_type": "stream",
     "text": [
      "<class 'pandas.core.frame.DataFrame'>\n",
      "Index: 842553 entries, 1 to 1715796\n",
      "Data columns (total 14 columns):\n",
      " #   Column                Non-Null Count   Dtype  \n",
      "---  ------                --------------   -----  \n",
      " 0   original_timestamp    842553 non-null  object \n",
      " 1   event_name            842553 non-null  object \n",
      " 2   user_id               842553 non-null  object \n",
      " 3   app_version           842553 non-null  object \n",
      " 4   device_model          842553 non-null  object \n",
      " 5   device_type           842553 non-null  object \n",
      " 6   locale                842553 non-null  object \n",
      " 7   os_name               842553 non-null  object \n",
      " 8   os_version            842553 non-null  object \n",
      " 9   screen_height         842553 non-null  float64\n",
      " 10  screen_width          842553 non-null  float64\n",
      " 11  timezone              842553 non-null  object \n",
      " 12  traits_created_at     842553 non-null  float64\n",
      " 13  traits_language_code  842553 non-null  object \n",
      "dtypes: float64(3), object(11)\n",
      "memory usage: 96.4+ MB\n"
     ]
    }
   ],
   "source": [
    "filtered_events3.info()"
   ]
  },
  {
   "cell_type": "code",
   "execution_count": 128,
   "metadata": {},
   "outputs": [
    {
     "data": {
      "text/plain": [
       "20023"
      ]
     },
     "execution_count": 128,
     "metadata": {},
     "output_type": "execute_result"
    }
   ],
   "source": [
    "len(filtered_events3['user_id'].unique())"
   ]
  },
  {
   "cell_type": "code",
   "execution_count": 129,
   "metadata": {},
   "outputs": [],
   "source": [
    "################## Me quedo solo con los user_id que estan en seniors #############\n",
    "\n",
    "filtered_events4 = events4[events4['user_id'].isin(seniors_id)]"
   ]
  },
  {
   "cell_type": "code",
   "execution_count": 130,
   "metadata": {},
   "outputs": [
    {
     "data": {
      "text/plain": [
       "original_timestamp                  0\n",
       "event_name                          0\n",
       "user_id                             0\n",
       "app_version                         0\n",
       "device_model                        0\n",
       "device_type                         0\n",
       "locale                              0\n",
       "os_name                             0\n",
       "os_version                          0\n",
       "screen_height                       0\n",
       "screen_width                        0\n",
       "timezone                            0\n",
       "traits_age                     886002\n",
       "traits_call_time              1363575\n",
       "traits_created_at                  29\n",
       "traits_connectivity_status     498149\n",
       "traits_gender                  886002\n",
       "traits_height                  907110\n",
       "traits_installer_store         208656\n",
       "traits_is_admin               1462433\n",
       "traits_is_anonymous           1271131\n",
       "traits_sex                    1459659\n",
       "traits_weight                  906537\n",
       "traits_language_code               29\n",
       "traits_level                   889641\n",
       "traits_main_goal               991933\n",
       "traits_nutritional_goal        991933\n",
       "dtype: int64"
      ]
     },
     "execution_count": 130,
     "metadata": {},
     "output_type": "execute_result"
    }
   ],
   "source": [
    "filtered_events4.isnull().sum()\n"
   ]
  },
  {
   "cell_type": "markdown",
   "metadata": {},
   "source": [
    "### Goals 4"
   ]
  },
  {
   "cell_type": "code",
   "execution_count": 131,
   "metadata": {},
   "outputs": [
    {
     "name": "stderr",
     "output_type": "stream",
     "text": [
      "/var/folders/vx/prmw3dv50nzckgs9dttm0c_h0000gn/T/ipykernel_16464/1074253856.py:2: SettingWithCopyWarning: \n",
      "A value is trying to be set on a copy of a slice from a DataFrame\n",
      "\n",
      "See the caveats in the documentation: https://pandas.pydata.org/pandas-docs/stable/user_guide/indexing.html#returning-a-view-versus-a-copy\n",
      "  goals4.dropna(inplace=True)\n"
     ]
    }
   ],
   "source": [
    "goals4 = filtered_events4[['user_id', 'traits_main_goal','traits_nutritional_goal']]\n",
    "goals4.dropna(inplace=True)"
   ]
  },
  {
   "cell_type": "code",
   "execution_count": 132,
   "metadata": {},
   "outputs": [],
   "source": [
    "goals4 = goals4.drop_duplicates(subset='user_id')"
   ]
  },
  {
   "cell_type": "code",
   "execution_count": 133,
   "metadata": {},
   "outputs": [
    {
     "data": {
      "text/html": [
       "<div>\n",
       "<style scoped>\n",
       "    .dataframe tbody tr th:only-of-type {\n",
       "        vertical-align: middle;\n",
       "    }\n",
       "\n",
       "    .dataframe tbody tr th {\n",
       "        vertical-align: top;\n",
       "    }\n",
       "\n",
       "    .dataframe thead th {\n",
       "        text-align: right;\n",
       "    }\n",
       "</style>\n",
       "<table border=\"1\" class=\"dataframe\">\n",
       "  <thead>\n",
       "    <tr style=\"text-align: right;\">\n",
       "      <th></th>\n",
       "      <th>user_id</th>\n",
       "      <th>traits_main_goal</th>\n",
       "      <th>traits_nutritional_goal</th>\n",
       "    </tr>\n",
       "  </thead>\n",
       "  <tbody>\n",
       "    <tr>\n",
       "      <th>45</th>\n",
       "      <td>wTlRayYihkhwK7iIDfHUrdNToDT2</td>\n",
       "      <td>stayActive</td>\n",
       "      <td>increaseMuscle</td>\n",
       "    </tr>\n",
       "    <tr>\n",
       "      <th>135</th>\n",
       "      <td>64CB4pKZXJfbdnXblj3Om0GTsK92</td>\n",
       "      <td>reducePain</td>\n",
       "      <td>improveNutrition</td>\n",
       "    </tr>\n",
       "    <tr>\n",
       "      <th>174</th>\n",
       "      <td>IOLM4jxkJGRaKfvBgQmCiY556G02</td>\n",
       "      <td>stayActive</td>\n",
       "      <td>improveNutrition</td>\n",
       "    </tr>\n",
       "    <tr>\n",
       "      <th>182</th>\n",
       "      <td>jPNTNMdtcIfc0iuGnY0BYKf7ypF3</td>\n",
       "      <td>stayActive</td>\n",
       "      <td>increaseMuscle</td>\n",
       "    </tr>\n",
       "    <tr>\n",
       "      <th>183</th>\n",
       "      <td>uSXINgei8rWJDkKbsqqgDAPGr8H2</td>\n",
       "      <td>stayActive</td>\n",
       "      <td>loseWeight</td>\n",
       "    </tr>\n",
       "    <tr>\n",
       "      <th>...</th>\n",
       "      <td>...</td>\n",
       "      <td>...</td>\n",
       "      <td>...</td>\n",
       "    </tr>\n",
       "    <tr>\n",
       "      <th>2623635</th>\n",
       "      <td>EsQFAS7jgQXKUsd0AjCjG5L1NXy2</td>\n",
       "      <td>feelBetter</td>\n",
       "      <td>increaseMuscle</td>\n",
       "    </tr>\n",
       "    <tr>\n",
       "      <th>2628271</th>\n",
       "      <td>0HEy9v2U91MpCLz0M5igOIsxHPk2</td>\n",
       "      <td>feelBetter</td>\n",
       "      <td>improveNutrition</td>\n",
       "    </tr>\n",
       "    <tr>\n",
       "      <th>2628442</th>\n",
       "      <td>DqQVy2FkWJSHb8hLCIadHTEzPEF3</td>\n",
       "      <td>stayActive</td>\n",
       "      <td>none</td>\n",
       "    </tr>\n",
       "    <tr>\n",
       "      <th>2628444</th>\n",
       "      <td>rrGIMMPUdOdu9FGyzrcfywt2Pqi2</td>\n",
       "      <td>feelBetter</td>\n",
       "      <td>increaseMuscle</td>\n",
       "    </tr>\n",
       "    <tr>\n",
       "      <th>2628487</th>\n",
       "      <td>SWOeryUwzXZtNm4aFuHYvkopiLi1</td>\n",
       "      <td>loseWeight</td>\n",
       "      <td>loseWeight</td>\n",
       "    </tr>\n",
       "  </tbody>\n",
       "</table>\n",
       "<p>9140 rows × 3 columns</p>\n",
       "</div>"
      ],
      "text/plain": [
       "                              user_id traits_main_goal traits_nutritional_goal\n",
       "45       wTlRayYihkhwK7iIDfHUrdNToDT2       stayActive          increaseMuscle\n",
       "135      64CB4pKZXJfbdnXblj3Om0GTsK92       reducePain        improveNutrition\n",
       "174      IOLM4jxkJGRaKfvBgQmCiY556G02       stayActive        improveNutrition\n",
       "182      jPNTNMdtcIfc0iuGnY0BYKf7ypF3       stayActive          increaseMuscle\n",
       "183      uSXINgei8rWJDkKbsqqgDAPGr8H2       stayActive              loseWeight\n",
       "...                               ...              ...                     ...\n",
       "2623635  EsQFAS7jgQXKUsd0AjCjG5L1NXy2       feelBetter          increaseMuscle\n",
       "2628271  0HEy9v2U91MpCLz0M5igOIsxHPk2       feelBetter        improveNutrition\n",
       "2628442  DqQVy2FkWJSHb8hLCIadHTEzPEF3       stayActive                    none\n",
       "2628444  rrGIMMPUdOdu9FGyzrcfywt2Pqi2       feelBetter          increaseMuscle\n",
       "2628487  SWOeryUwzXZtNm4aFuHYvkopiLi1       loseWeight              loseWeight\n",
       "\n",
       "[9140 rows x 3 columns]"
      ]
     },
     "execution_count": 133,
     "metadata": {},
     "output_type": "execute_result"
    }
   ],
   "source": [
    "goals4"
   ]
  },
  {
   "cell_type": "code",
   "execution_count": 134,
   "metadata": {},
   "outputs": [
    {
     "name": "stderr",
     "output_type": "stream",
     "text": [
      "/var/folders/vx/prmw3dv50nzckgs9dttm0c_h0000gn/T/ipykernel_16464/1600944423.py:3: SettingWithCopyWarning: \n",
      "A value is trying to be set on a copy of a slice from a DataFrame\n",
      "\n",
      "See the caveats in the documentation: https://pandas.pydata.org/pandas-docs/stable/user_guide/indexing.html#returning-a-view-versus-a-copy\n",
      "  filtered_events4.drop(['traits_age','traits_call_time','traits_connectivity_status','traits_gender','traits_height',\n"
     ]
    }
   ],
   "source": [
    "######################### Elimino las mismas columnas que en events1, events2 y events3 ##############\n",
    "\n",
    "filtered_events4.drop(['traits_age','traits_call_time','traits_connectivity_status','traits_gender','traits_height',\n",
    "                       'traits_installer_store','traits_is_admin','traits_is_anonymous','traits_sex','traits_weight',\n",
    "                       'traits_level','traits_main_goal','traits_nutritional_goal'],axis=1,inplace=True)"
   ]
  },
  {
   "cell_type": "code",
   "execution_count": 135,
   "metadata": {},
   "outputs": [
    {
     "name": "stderr",
     "output_type": "stream",
     "text": [
      "/var/folders/vx/prmw3dv50nzckgs9dttm0c_h0000gn/T/ipykernel_16464/2063031903.py:1: SettingWithCopyWarning: \n",
      "A value is trying to be set on a copy of a slice from a DataFrame\n",
      "\n",
      "See the caveats in the documentation: https://pandas.pydata.org/pandas-docs/stable/user_guide/indexing.html#returning-a-view-versus-a-copy\n",
      "  filtered_events4.dropna(inplace=True)\n"
     ]
    }
   ],
   "source": [
    "filtered_events4.dropna(inplace=True)"
   ]
  },
  {
   "cell_type": "code",
   "execution_count": 136,
   "metadata": {},
   "outputs": [
    {
     "name": "stdout",
     "output_type": "stream",
     "text": [
      "<class 'pandas.core.frame.DataFrame'>\n",
      "Index: 1462404 entries, 1 to 2628814\n",
      "Data columns (total 14 columns):\n",
      " #   Column                Non-Null Count    Dtype  \n",
      "---  ------                --------------    -----  \n",
      " 0   original_timestamp    1462404 non-null  object \n",
      " 1   event_name            1462404 non-null  object \n",
      " 2   user_id               1462404 non-null  object \n",
      " 3   app_version           1462404 non-null  object \n",
      " 4   device_model          1462404 non-null  object \n",
      " 5   device_type           1462404 non-null  object \n",
      " 6   locale                1462404 non-null  object \n",
      " 7   os_name               1462404 non-null  object \n",
      " 8   os_version            1462404 non-null  object \n",
      " 9   screen_height         1462404 non-null  int64  \n",
      " 10  screen_width          1462404 non-null  int64  \n",
      " 11  timezone              1462404 non-null  object \n",
      " 12  traits_created_at     1462404 non-null  float64\n",
      " 13  traits_language_code  1462404 non-null  object \n",
      "dtypes: float64(1), int64(2), object(11)\n",
      "memory usage: 167.4+ MB\n"
     ]
    }
   ],
   "source": [
    "filtered_events4.info()"
   ]
  },
  {
   "cell_type": "markdown",
   "metadata": {},
   "source": [
    "### La informacion de la columna 'event_name' es diferente en los diferentes bloques del dataframe en el 1 tine 3 valores diferentes, pero en los otros 3 tiene 70 valores diferentes. Suprimo la columna."
   ]
  },
  {
   "cell_type": "markdown",
   "metadata": {},
   "source": [
    "### Solo el dataframe events1 tiene event_name con los valores siguientes"
   ]
  },
  {
   "cell_type": "code",
   "execution_count": 137,
   "metadata": {},
   "outputs": [],
   "source": [
    "######## Dicctionario para sustituir los valores de video_consumed por 1,2 y 3 ##############\n",
    "dict = {'video_consumed_1min':1,\n",
    "        'video_consumed_90':3,\n",
    "        'video_consumed_10':2}"
   ]
  },
  {
   "cell_type": "code",
   "execution_count": 138,
   "metadata": {},
   "outputs": [
    {
     "name": "stderr",
     "output_type": "stream",
     "text": [
      "/var/folders/vx/prmw3dv50nzckgs9dttm0c_h0000gn/T/ipykernel_16464/3503443512.py:1: SettingWithCopyWarning: \n",
      "A value is trying to be set on a copy of a slice from a DataFrame.\n",
      "Try using .loc[row_indexer,col_indexer] = value instead\n",
      "\n",
      "See the caveats in the documentation: https://pandas.pydata.org/pandas-docs/stable/user_guide/indexing.html#returning-a-view-versus-a-copy\n",
      "  filtered_events1['event_name'] = filtered_events1['event_name'].map(dict)\n"
     ]
    }
   ],
   "source": [
    "filtered_events1['event_name'] = filtered_events1['event_name'].map(dict)"
   ]
  },
  {
   "cell_type": "code",
   "execution_count": 139,
   "metadata": {},
   "outputs": [
    {
     "data": {
      "text/plain": [
       "array([1, 3, 2])"
      ]
     },
     "execution_count": 139,
     "metadata": {},
     "output_type": "execute_result"
    }
   ],
   "source": [
    "filtered_events1.event_name.unique()"
   ]
  },
  {
   "cell_type": "code",
   "execution_count": 140,
   "metadata": {},
   "outputs": [
    {
     "data": {
      "text/plain": [
       "array(['request_phone_number_button_shown',\n",
       "       'delete_account_intercom_button_pressed', 'nutrition_es_pressed',\n",
       "       'mini_longevity_plancan_get_into_car_continue_button_pressed_shown',\n",
       "       'live_activity_back_arrow_pressed', 'tutorial_button_shown',\n",
       "       'manage_subscription_store_pressed',\n",
       "       'recorded_video_native_back_pressed',\n",
       "       'purchase_error_contact_screen_seen',\n",
       "       'longevity_plan_results_continue_pressed',\n",
       "       'profile_image_cancel_shown',\n",
       "       'request_phone_onboarding_input_phone_number_pressed',\n",
       "       'chromecast_device_picker_pressed',\n",
       "       'request_phone_number_button_pressed',\n",
       "       'enter_itinerary_button_pressed',\n",
       "       'request_phone_call_time_screen_call_time_afternoon_pressed_pressed',\n",
       "       'itinerary_subscribe_button_without_class_shown',\n",
       "       'profile_spanish_button_pressed',\n",
       "       'welcome_tutorial_ok_button_pressed', 'go_back_home_shown',\n",
       "       'post_activity_progress_continue_pressed',\n",
       "       'purchase_error_retry_purchase_screen_seen',\n",
       "       'video_pause_overlay_continue_button',\n",
       "       'modal_bottom_sheet_paywall_unlock_button_not_shown',\n",
       "       'onboarding_paywall_more_subscriptions_screen_seen',\n",
       "       'live_event_finished_continue_subscribed_shown',\n",
       "       'push_notification_opened',\n",
       "       'about_screen_privacy_policy_link_pressed',\n",
       "       'profile_image_gallery_pressed', 'update_plan_screen_button_shown',\n",
       "       'post_activity_progress_continue_shown', 'in_app_review_requested',\n",
       "       'free_trial_screen_shown',\n",
       "       'my_primeccount_screen_intercom_button_pressed',\n",
       "       'thanks_after_free_trial_screen_shown',\n",
       "       'mini_longevity_plancan_get_into_car_continue_button_pressed_pressed',\n",
       "       'otpverification_failed',\n",
       "       'request_phone_call_time_screen_call_time_evening_pressed_pressed',\n",
       "       'video_player_exit_popup_cancel_button_pressed',\n",
       "       'splash_intro_screen1_continue_pressed',\n",
       "       'onboarding_single_quote_screen_seen',\n",
       "       'phone_missing_alert_pressed',\n",
       "       'purchase_error_request_phone_call_screen_exit',\n",
       "       'weekly_progress_button_pressed', 'update_plan_button_pressed',\n",
       "       'mini_longevity_planpains1_continue_button_pressed_pressed',\n",
       "       'error_purchase_popup_open', 'chat_groups_screen_seen',\n",
       "       'intercom_from_error_purchase_pressed',\n",
       "       'profile_imperial_button_pressed', 'header_profile_button_pressed',\n",
       "       'live_event_finished_continue_pressed', 'update_plan_screen_shown',\n",
       "       'video_pause_overlay_forward_button',\n",
       "       'application_opened_with_deep_link', 'cast_detected_screen_shown',\n",
       "       'manage_subscription_store_shown', 'video_consumed_25',\n",
       "       'type_control_total_cholesterol_keys_ldl_pressed',\n",
       "       'mini_longevity_planmedical_condition_breathing_continue_button_pressed_pressed',\n",
       "       'end_of_free_trial_popup_see_benefits_pressed',\n",
       "       'end_of_free_trial_popup_pay_pressed',\n",
       "       'onboarding2nd_visit_no_lpcompleted_button_pressed',\n",
       "       'post_request_phone_screen_continue_button_pressed_shown',\n",
       "       'mini_longevity_planage_continue_button_pressed_shown',\n",
       "       'chromecast_continue_on_phone_button_pressed',\n",
       "       'waiting_room_continue_video_button_shown',\n",
       "       'chromecast_device_picker_button_pressed',\n",
       "       'purchase_error_options_screen_seen',\n",
       "       'update_plan_results_screen_continue_button_pressed'], dtype=object)"
      ]
     },
     "execution_count": 140,
     "metadata": {},
     "output_type": "execute_result"
    }
   ],
   "source": [
    "filtered_events2['event_name'].unique()"
   ]
  },
  {
   "cell_type": "code",
   "execution_count": 141,
   "metadata": {},
   "outputs": [
    {
     "name": "stderr",
     "output_type": "stream",
     "text": [
      "/var/folders/vx/prmw3dv50nzckgs9dttm0c_h0000gn/T/ipykernel_16464/4010499691.py:1: SettingWithCopyWarning: \n",
      "A value is trying to be set on a copy of a slice from a DataFrame\n",
      "\n",
      "See the caveats in the documentation: https://pandas.pydata.org/pandas-docs/stable/user_guide/indexing.html#returning-a-view-versus-a-copy\n",
      "  filtered_events1.drop(['event_name'], axis=1, inplace=True)\n",
      "/var/folders/vx/prmw3dv50nzckgs9dttm0c_h0000gn/T/ipykernel_16464/4010499691.py:2: SettingWithCopyWarning: \n",
      "A value is trying to be set on a copy of a slice from a DataFrame\n",
      "\n",
      "See the caveats in the documentation: https://pandas.pydata.org/pandas-docs/stable/user_guide/indexing.html#returning-a-view-versus-a-copy\n",
      "  filtered_events2.drop(['event_name'], axis=1, inplace=True)\n",
      "/var/folders/vx/prmw3dv50nzckgs9dttm0c_h0000gn/T/ipykernel_16464/4010499691.py:3: SettingWithCopyWarning: \n",
      "A value is trying to be set on a copy of a slice from a DataFrame\n",
      "\n",
      "See the caveats in the documentation: https://pandas.pydata.org/pandas-docs/stable/user_guide/indexing.html#returning-a-view-versus-a-copy\n",
      "  filtered_events3.drop(['event_name'], axis=1, inplace=True)\n",
      "/var/folders/vx/prmw3dv50nzckgs9dttm0c_h0000gn/T/ipykernel_16464/4010499691.py:4: SettingWithCopyWarning: \n",
      "A value is trying to be set on a copy of a slice from a DataFrame\n",
      "\n",
      "See the caveats in the documentation: https://pandas.pydata.org/pandas-docs/stable/user_guide/indexing.html#returning-a-view-versus-a-copy\n",
      "  filtered_events4.drop(['event_name'], axis=1, inplace=True)\n"
     ]
    }
   ],
   "source": [
    "filtered_events1.drop(['event_name'], axis=1, inplace=True)\n",
    "filtered_events2.drop(['event_name'], axis=1, inplace=True)\n",
    "filtered_events3.drop(['event_name'], axis=1, inplace=True)\n",
    "filtered_events4.drop(['event_name'], axis=1, inplace=True)\n"
   ]
  },
  {
   "cell_type": "code",
   "execution_count": 142,
   "metadata": {},
   "outputs": [
    {
     "name": "stdout",
     "output_type": "stream",
     "text": [
      "<class 'pandas.core.frame.DataFrame'>\n",
      "Index: 249336 entries, 6 to 1018517\n",
      "Data columns (total 13 columns):\n",
      " #   Column                Non-Null Count   Dtype  \n",
      "---  ------                --------------   -----  \n",
      " 0   original_timestamp    249336 non-null  object \n",
      " 1   user_id               249336 non-null  object \n",
      " 2   app_version           249336 non-null  object \n",
      " 3   device_model          249336 non-null  object \n",
      " 4   device_type           249336 non-null  object \n",
      " 5   locale                249336 non-null  object \n",
      " 6   os_name               249336 non-null  object \n",
      " 7   os_version            249336 non-null  object \n",
      " 8   screen_height         249336 non-null  int64  \n",
      " 9   screen_width          249336 non-null  int64  \n",
      " 10  timezone              249336 non-null  object \n",
      " 11  traits_created_at     249336 non-null  float64\n",
      " 12  traits_language_code  249336 non-null  object \n",
      "dtypes: float64(1), int64(2), object(10)\n",
      "memory usage: 26.6+ MB\n"
     ]
    }
   ],
   "source": [
    "filtered_events1.info()"
   ]
  },
  {
   "cell_type": "code",
   "execution_count": 143,
   "metadata": {},
   "outputs": [
    {
     "name": "stdout",
     "output_type": "stream",
     "text": [
      "<class 'pandas.core.frame.DataFrame'>\n",
      "Index: 222856 entries, 70 to 451078\n",
      "Data columns (total 13 columns):\n",
      " #   Column                Non-Null Count   Dtype  \n",
      "---  ------                --------------   -----  \n",
      " 0   original_timestamp    222856 non-null  object \n",
      " 1   user_id               222856 non-null  object \n",
      " 2   app_version           222856 non-null  object \n",
      " 3   device_model          222856 non-null  object \n",
      " 4   device_type           222856 non-null  object \n",
      " 5   locale                222856 non-null  object \n",
      " 6   os_name               222856 non-null  object \n",
      " 7   os_version            222856 non-null  object \n",
      " 8   screen_height         222856 non-null  float64\n",
      " 9   screen_width          222856 non-null  float64\n",
      " 10  timezone              222856 non-null  object \n",
      " 11  traits_created_at     222856 non-null  float64\n",
      " 12  traits_language_code  222856 non-null  object \n",
      "dtypes: float64(3), object(10)\n",
      "memory usage: 23.8+ MB\n"
     ]
    }
   ],
   "source": [
    "filtered_events2.info()"
   ]
  },
  {
   "cell_type": "code",
   "execution_count": 144,
   "metadata": {},
   "outputs": [
    {
     "data": {
      "text/plain": [
       "array(['es', 'en'], dtype=object)"
      ]
     },
     "execution_count": 144,
     "metadata": {},
     "output_type": "execute_result"
    }
   ],
   "source": [
    "filtered_events4['traits_language_code'].unique()"
   ]
  },
  {
   "cell_type": "code",
   "execution_count": 145,
   "metadata": {},
   "outputs": [
    {
     "name": "stderr",
     "output_type": "stream",
     "text": [
      "/var/folders/vx/prmw3dv50nzckgs9dttm0c_h0000gn/T/ipykernel_16464/3168839159.py:3: SettingWithCopyWarning: \n",
      "A value is trying to be set on a copy of a slice from a DataFrame.\n",
      "Try using .loc[row_indexer,col_indexer] = value instead\n",
      "\n",
      "See the caveats in the documentation: https://pandas.pydata.org/pandas-docs/stable/user_guide/indexing.html#returning-a-view-versus-a-copy\n",
      "  filtered_events1['traits_language_code'] = filtered_events1['traits_language_code'].map(dict2)\n"
     ]
    }
   ],
   "source": [
    "########## Cambio valores para 'traits_language_code' ##############\n",
    "dict2 = {'es':1,'en':2}\n",
    "filtered_events1['traits_language_code'] = filtered_events1['traits_language_code'].map(dict2)"
   ]
  },
  {
   "cell_type": "code",
   "execution_count": 146,
   "metadata": {},
   "outputs": [
    {
     "name": "stderr",
     "output_type": "stream",
     "text": [
      "/var/folders/vx/prmw3dv50nzckgs9dttm0c_h0000gn/T/ipykernel_16464/735793213.py:1: SettingWithCopyWarning: \n",
      "A value is trying to be set on a copy of a slice from a DataFrame.\n",
      "Try using .loc[row_indexer,col_indexer] = value instead\n",
      "\n",
      "See the caveats in the documentation: https://pandas.pydata.org/pandas-docs/stable/user_guide/indexing.html#returning-a-view-versus-a-copy\n",
      "  filtered_events2['traits_language_code'] = filtered_events2['traits_language_code'].map(dict2)\n",
      "/var/folders/vx/prmw3dv50nzckgs9dttm0c_h0000gn/T/ipykernel_16464/735793213.py:2: SettingWithCopyWarning: \n",
      "A value is trying to be set on a copy of a slice from a DataFrame.\n",
      "Try using .loc[row_indexer,col_indexer] = value instead\n",
      "\n",
      "See the caveats in the documentation: https://pandas.pydata.org/pandas-docs/stable/user_guide/indexing.html#returning-a-view-versus-a-copy\n",
      "  filtered_events3['traits_language_code'] = filtered_events3['traits_language_code'].map(dict2)\n",
      "/var/folders/vx/prmw3dv50nzckgs9dttm0c_h0000gn/T/ipykernel_16464/735793213.py:3: SettingWithCopyWarning: \n",
      "A value is trying to be set on a copy of a slice from a DataFrame.\n",
      "Try using .loc[row_indexer,col_indexer] = value instead\n",
      "\n",
      "See the caveats in the documentation: https://pandas.pydata.org/pandas-docs/stable/user_guide/indexing.html#returning-a-view-versus-a-copy\n",
      "  filtered_events4['traits_language_code'] = filtered_events4['traits_language_code'].map(dict2)\n"
     ]
    }
   ],
   "source": [
    "filtered_events2['traits_language_code'] = filtered_events2['traits_language_code'].map(dict2)\n",
    "filtered_events3['traits_language_code'] = filtered_events3['traits_language_code'].map(dict2)\n",
    "filtered_events4['traits_language_code'] = filtered_events4['traits_language_code'].map(dict2)"
   ]
  },
  {
   "cell_type": "code",
   "execution_count": 147,
   "metadata": {},
   "outputs": [
    {
     "name": "stdout",
     "output_type": "stream",
     "text": [
      "<class 'pandas.core.frame.DataFrame'>\n",
      "Index: 842553 entries, 1 to 1715796\n",
      "Data columns (total 13 columns):\n",
      " #   Column                Non-Null Count   Dtype  \n",
      "---  ------                --------------   -----  \n",
      " 0   original_timestamp    842553 non-null  object \n",
      " 1   user_id               842553 non-null  object \n",
      " 2   app_version           842553 non-null  object \n",
      " 3   device_model          842553 non-null  object \n",
      " 4   device_type           842553 non-null  object \n",
      " 5   locale                842553 non-null  object \n",
      " 6   os_name               842553 non-null  object \n",
      " 7   os_version            842553 non-null  object \n",
      " 8   screen_height         842553 non-null  float64\n",
      " 9   screen_width          842553 non-null  float64\n",
      " 10  timezone              842553 non-null  object \n",
      " 11  traits_created_at     842553 non-null  float64\n",
      " 12  traits_language_code  842553 non-null  int64  \n",
      "dtypes: float64(3), int64(1), object(9)\n",
      "memory usage: 90.0+ MB\n"
     ]
    }
   ],
   "source": [
    "filtered_events3.info()"
   ]
  },
  {
   "cell_type": "code",
   "execution_count": 148,
   "metadata": {},
   "outputs": [
    {
     "data": {
      "text/plain": [
       "array(['android', 'ios'], dtype=object)"
      ]
     },
     "execution_count": 148,
     "metadata": {},
     "output_type": "execute_result"
    }
   ],
   "source": [
    "filtered_events4['device_type'].unique()"
   ]
  },
  {
   "cell_type": "code",
   "execution_count": 149,
   "metadata": {},
   "outputs": [
    {
     "name": "stderr",
     "output_type": "stream",
     "text": [
      "/var/folders/vx/prmw3dv50nzckgs9dttm0c_h0000gn/T/ipykernel_16464/726991038.py:3: SettingWithCopyWarning: \n",
      "A value is trying to be set on a copy of a slice from a DataFrame.\n",
      "Try using .loc[row_indexer,col_indexer] = value instead\n",
      "\n",
      "See the caveats in the documentation: https://pandas.pydata.org/pandas-docs/stable/user_guide/indexing.html#returning-a-view-versus-a-copy\n",
      "  filtered_events1['device_type'] = filtered_events1['device_type'].map(dict3)\n"
     ]
    }
   ],
   "source": [
    "########### Repito para el device type ############\n",
    "dict3 = {'android':1,'ios':2}\n",
    "filtered_events1['device_type'] = filtered_events1['device_type'].map(dict3)"
   ]
  },
  {
   "cell_type": "code",
   "execution_count": 150,
   "metadata": {},
   "outputs": [
    {
     "name": "stderr",
     "output_type": "stream",
     "text": [
      "/var/folders/vx/prmw3dv50nzckgs9dttm0c_h0000gn/T/ipykernel_16464/1496195484.py:1: SettingWithCopyWarning: \n",
      "A value is trying to be set on a copy of a slice from a DataFrame.\n",
      "Try using .loc[row_indexer,col_indexer] = value instead\n",
      "\n",
      "See the caveats in the documentation: https://pandas.pydata.org/pandas-docs/stable/user_guide/indexing.html#returning-a-view-versus-a-copy\n",
      "  filtered_events2['device_type'] = filtered_events2['device_type'].map(dict3)\n",
      "/var/folders/vx/prmw3dv50nzckgs9dttm0c_h0000gn/T/ipykernel_16464/1496195484.py:2: SettingWithCopyWarning: \n",
      "A value is trying to be set on a copy of a slice from a DataFrame.\n",
      "Try using .loc[row_indexer,col_indexer] = value instead\n",
      "\n",
      "See the caveats in the documentation: https://pandas.pydata.org/pandas-docs/stable/user_guide/indexing.html#returning-a-view-versus-a-copy\n",
      "  filtered_events3['device_type'] = filtered_events3['device_type'].map(dict3)\n",
      "/var/folders/vx/prmw3dv50nzckgs9dttm0c_h0000gn/T/ipykernel_16464/1496195484.py:3: SettingWithCopyWarning: \n",
      "A value is trying to be set on a copy of a slice from a DataFrame.\n",
      "Try using .loc[row_indexer,col_indexer] = value instead\n",
      "\n",
      "See the caveats in the documentation: https://pandas.pydata.org/pandas-docs/stable/user_guide/indexing.html#returning-a-view-versus-a-copy\n",
      "  filtered_events4['device_type'] = filtered_events4['device_type'].map(dict3)\n"
     ]
    }
   ],
   "source": [
    "filtered_events2['device_type'] = filtered_events2['device_type'].map(dict3)\n",
    "filtered_events3['device_type'] = filtered_events3['device_type'].map(dict3)\n",
    "filtered_events4['device_type'] = filtered_events4['device_type'].map(dict3)"
   ]
  },
  {
   "cell_type": "code",
   "execution_count": 151,
   "metadata": {},
   "outputs": [
    {
     "data": {
      "text/plain": [
       "array(['Android', 'iOS', 'iPadOS'], dtype=object)"
      ]
     },
     "execution_count": 151,
     "metadata": {},
     "output_type": "execute_result"
    }
   ],
   "source": [
    "filtered_events4['os_name'].unique()"
   ]
  },
  {
   "cell_type": "code",
   "execution_count": 152,
   "metadata": {},
   "outputs": [
    {
     "name": "stderr",
     "output_type": "stream",
     "text": [
      "/var/folders/vx/prmw3dv50nzckgs9dttm0c_h0000gn/T/ipykernel_16464/700569565.py:3: SettingWithCopyWarning: \n",
      "A value is trying to be set on a copy of a slice from a DataFrame.\n",
      "Try using .loc[row_indexer,col_indexer] = value instead\n",
      "\n",
      "See the caveats in the documentation: https://pandas.pydata.org/pandas-docs/stable/user_guide/indexing.html#returning-a-view-versus-a-copy\n",
      "  filtered_events1['os_name'] = filtered_events1['os_name'].map(dict4)\n"
     ]
    }
   ],
   "source": [
    "############## Igual para el os_name #############\n",
    "dict4 = {'Android':1,'iOS':2,'iPadOS':3}\n",
    "filtered_events1['os_name'] = filtered_events1['os_name'].map(dict4)"
   ]
  },
  {
   "cell_type": "code",
   "execution_count": 153,
   "metadata": {},
   "outputs": [
    {
     "name": "stderr",
     "output_type": "stream",
     "text": [
      "/var/folders/vx/prmw3dv50nzckgs9dttm0c_h0000gn/T/ipykernel_16464/3591964948.py:1: SettingWithCopyWarning: \n",
      "A value is trying to be set on a copy of a slice from a DataFrame.\n",
      "Try using .loc[row_indexer,col_indexer] = value instead\n",
      "\n",
      "See the caveats in the documentation: https://pandas.pydata.org/pandas-docs/stable/user_guide/indexing.html#returning-a-view-versus-a-copy\n",
      "  filtered_events2['os_name'] = filtered_events2['os_name'].map(dict4)\n",
      "/var/folders/vx/prmw3dv50nzckgs9dttm0c_h0000gn/T/ipykernel_16464/3591964948.py:2: SettingWithCopyWarning: \n",
      "A value is trying to be set on a copy of a slice from a DataFrame.\n",
      "Try using .loc[row_indexer,col_indexer] = value instead\n",
      "\n",
      "See the caveats in the documentation: https://pandas.pydata.org/pandas-docs/stable/user_guide/indexing.html#returning-a-view-versus-a-copy\n",
      "  filtered_events3['os_name'] = filtered_events3['os_name'].map(dict4)\n",
      "/var/folders/vx/prmw3dv50nzckgs9dttm0c_h0000gn/T/ipykernel_16464/3591964948.py:3: SettingWithCopyWarning: \n",
      "A value is trying to be set on a copy of a slice from a DataFrame.\n",
      "Try using .loc[row_indexer,col_indexer] = value instead\n",
      "\n",
      "See the caveats in the documentation: https://pandas.pydata.org/pandas-docs/stable/user_guide/indexing.html#returning-a-view-versus-a-copy\n",
      "  filtered_events4['os_name'] = filtered_events4['os_name'].map(dict4)\n"
     ]
    }
   ],
   "source": [
    "filtered_events2['os_name'] = filtered_events2['os_name'].map(dict4)\n",
    "filtered_events3['os_name'] = filtered_events3['os_name'].map(dict4)\n",
    "filtered_events4['os_name'] = filtered_events4['os_name'].map(dict4)"
   ]
  },
  {
   "cell_type": "code",
   "execution_count": 154,
   "metadata": {},
   "outputs": [
    {
     "name": "stdout",
     "output_type": "stream",
     "text": [
      "<class 'pandas.core.frame.DataFrame'>\n",
      "Index: 249336 entries, 6 to 1018517\n",
      "Data columns (total 13 columns):\n",
      " #   Column                Non-Null Count   Dtype  \n",
      "---  ------                --------------   -----  \n",
      " 0   original_timestamp    249336 non-null  object \n",
      " 1   user_id               249336 non-null  object \n",
      " 2   app_version           249336 non-null  object \n",
      " 3   device_model          249336 non-null  object \n",
      " 4   device_type           249336 non-null  int64  \n",
      " 5   locale                249336 non-null  object \n",
      " 6   os_name               249336 non-null  int64  \n",
      " 7   os_version            249336 non-null  object \n",
      " 8   screen_height         249336 non-null  int64  \n",
      " 9   screen_width          249336 non-null  int64  \n",
      " 10  timezone              249336 non-null  object \n",
      " 11  traits_created_at     249336 non-null  float64\n",
      " 12  traits_language_code  249336 non-null  int64  \n",
      "dtypes: float64(1), int64(5), object(7)\n",
      "memory usage: 26.6+ MB\n"
     ]
    }
   ],
   "source": [
    "filtered_events1.info()"
   ]
  },
  {
   "cell_type": "markdown",
   "metadata": {},
   "source": [
    "### Columnas a borrar "
   ]
  },
  {
   "cell_type": "code",
   "execution_count": 155,
   "metadata": {},
   "outputs": [
    {
     "name": "stderr",
     "output_type": "stream",
     "text": [
      "/var/folders/vx/prmw3dv50nzckgs9dttm0c_h0000gn/T/ipykernel_16464/4110966192.py:1: SettingWithCopyWarning: \n",
      "A value is trying to be set on a copy of a slice from a DataFrame\n",
      "\n",
      "See the caveats in the documentation: https://pandas.pydata.org/pandas-docs/stable/user_guide/indexing.html#returning-a-view-versus-a-copy\n",
      "  filtered_events1.drop(['app_version', 'device_model', 'locale', 'os_version', 'timezone',\n"
     ]
    }
   ],
   "source": [
    "filtered_events1.drop(['app_version', 'device_model', 'locale', 'os_version', 'timezone',\n",
    "                       'traits_created_at'], axis=1, inplace=True)"
   ]
  },
  {
   "cell_type": "code",
   "execution_count": 156,
   "metadata": {},
   "outputs": [
    {
     "name": "stderr",
     "output_type": "stream",
     "text": [
      "/var/folders/vx/prmw3dv50nzckgs9dttm0c_h0000gn/T/ipykernel_16464/2245110677.py:1: SettingWithCopyWarning: \n",
      "A value is trying to be set on a copy of a slice from a DataFrame\n",
      "\n",
      "See the caveats in the documentation: https://pandas.pydata.org/pandas-docs/stable/user_guide/indexing.html#returning-a-view-versus-a-copy\n",
      "  filtered_events2.drop(['app_version', 'device_model', 'locale', 'os_version', 'timezone',\n",
      "/var/folders/vx/prmw3dv50nzckgs9dttm0c_h0000gn/T/ipykernel_16464/2245110677.py:3: SettingWithCopyWarning: \n",
      "A value is trying to be set on a copy of a slice from a DataFrame\n",
      "\n",
      "See the caveats in the documentation: https://pandas.pydata.org/pandas-docs/stable/user_guide/indexing.html#returning-a-view-versus-a-copy\n",
      "  filtered_events3.drop(['app_version', 'device_model', 'locale', 'os_version', 'timezone',\n",
      "/var/folders/vx/prmw3dv50nzckgs9dttm0c_h0000gn/T/ipykernel_16464/2245110677.py:5: SettingWithCopyWarning: \n",
      "A value is trying to be set on a copy of a slice from a DataFrame\n",
      "\n",
      "See the caveats in the documentation: https://pandas.pydata.org/pandas-docs/stable/user_guide/indexing.html#returning-a-view-versus-a-copy\n",
      "  filtered_events4.drop(['app_version', 'device_model', 'locale', 'os_version', 'timezone',\n"
     ]
    }
   ],
   "source": [
    "filtered_events2.drop(['app_version', 'device_model', 'locale', 'os_version', 'timezone',\n",
    "                       'traits_created_at'], axis=1, inplace=True)\n",
    "filtered_events3.drop(['app_version', 'device_model', 'locale', 'os_version', 'timezone',\n",
    "                       'traits_created_at'], axis=1, inplace=True)\n",
    "filtered_events4.drop(['app_version', 'device_model', 'locale', 'os_version', 'timezone',\n",
    "                       'traits_created_at'], axis=1, inplace=True)"
   ]
  },
  {
   "cell_type": "code",
   "execution_count": 157,
   "metadata": {},
   "outputs": [
    {
     "name": "stdout",
     "output_type": "stream",
     "text": [
      "<class 'pandas.core.frame.DataFrame'>\n",
      "Index: 1462404 entries, 1 to 2628814\n",
      "Data columns (total 7 columns):\n",
      " #   Column                Non-Null Count    Dtype \n",
      "---  ------                --------------    ----- \n",
      " 0   original_timestamp    1462404 non-null  object\n",
      " 1   user_id               1462404 non-null  object\n",
      " 2   device_type           1462404 non-null  int64 \n",
      " 3   os_name               1462404 non-null  int64 \n",
      " 4   screen_height         1462404 non-null  int64 \n",
      " 5   screen_width          1462404 non-null  int64 \n",
      " 6   traits_language_code  1462404 non-null  int64 \n",
      "dtypes: int64(5), object(2)\n",
      "memory usage: 89.3+ MB\n"
     ]
    }
   ],
   "source": [
    "filtered_events4.info()"
   ]
  },
  {
   "cell_type": "code",
   "execution_count": 158,
   "metadata": {},
   "outputs": [],
   "source": [
    "filtered_events1.to_csv('./data/events1.csv')"
   ]
  },
  {
   "cell_type": "code",
   "execution_count": 159,
   "metadata": {},
   "outputs": [],
   "source": [
    "\n",
    "filtered_events2.to_csv('./data/events2.csv')"
   ]
  },
  {
   "cell_type": "code",
   "execution_count": 160,
   "metadata": {},
   "outputs": [],
   "source": [
    "filtered_events3.to_csv('./data/events3.csv')"
   ]
  },
  {
   "cell_type": "code",
   "execution_count": 161,
   "metadata": {},
   "outputs": [],
   "source": [
    "filtered_events4.to_csv('./data/events4.csv')"
   ]
  },
  {
   "cell_type": "code",
   "execution_count": 162,
   "metadata": {},
   "outputs": [],
   "source": [
    "goals1.to_csv('./data/goals1.csv')\n",
    "goals2.to_csv('./data/goals2.csv')\n",
    "goals3.to_csv('./data/goals3.csv')\n",
    "goals4.to_csv('./data/goals4.csv')"
   ]
  }
 ],
 "metadata": {
  "kernelspec": {
   "display_name": "eda_env",
   "language": "python",
   "name": "python3"
  },
  "language_info": {
   "codemirror_mode": {
    "name": "ipython",
    "version": 3
   },
   "file_extension": ".py",
   "mimetype": "text/x-python",
   "name": "python",
   "nbconvert_exporter": "python",
   "pygments_lexer": "ipython3",
   "version": "3.9.18"
  }
 },
 "nbformat": 4,
 "nbformat_minor": 2
}
